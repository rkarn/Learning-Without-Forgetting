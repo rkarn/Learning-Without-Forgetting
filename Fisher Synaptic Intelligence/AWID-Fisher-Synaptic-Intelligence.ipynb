{
 "cells": [
  {
   "cell_type": "code",
   "execution_count": 1,
   "metadata": {},
   "outputs": [],
   "source": [
    "import os\n",
    "os.chdir('/root/awid_dataset/')\n",
    "import pandas as pd\n",
    "import numpy as np\n",
    "import csv\n",
    "import os\n",
    "import time\n",
    "from matplotlib.pyplot import *\n",
    "import matplotlib.pyplot as plt\n",
    "import pylab\n",
    "pylab.rcParams['figure.figsize'] = (16.0, 5.0)"
   ]
  },
  {
   "cell_type": "code",
   "execution_count": 2,
   "metadata": {},
   "outputs": [
    {
     "name": "stdout",
     "output_type": "stream",
     "text": [
      "Reading training csv file.\n"
     ]
    },
    {
     "name": "stderr",
     "output_type": "stream",
     "text": [
      "/usr/local/lib/python3.5/dist-packages/IPython/core/interactiveshell.py:2728: DtypeWarning: Columns (37,38,39,40,41,42,43,44,45,47,48,49,50,51,52,53,54,55,56,57,58,59,60,61,62,74,88) have mixed types. Specify dtype option on import or set low_memory=False.\n",
      "  interactivity=interactivity, compiler=compiler, result=result)\n"
     ]
    },
    {
     "name": "stdout",
     "output_type": "stream",
     "text": [
      "Reading testing csv file.\n"
     ]
    }
   ],
   "source": [
    "# Read in the CSV files\n",
    "dataset_columns = ['frame.interface_id',\t'frame.dlt',\t'frame.offset_shift',\t'frame.time_epoch',\t'frame.time_delta',\t'frame.time_delta_displayed',\t'frame.time_relative',\t'frame.len',\t'frame.cap_len',\t'frame.marked',\t'frame.ignored',\t'radiotap.version',\t'radiotap.pad',\t'radiotap.length',\t'radiotap.present.tsft',\t'radiotap.present.flags',\t'radiotap.present.rate',\t'radiotap.present.channel',\t'radiotap.present.fhss',\t'radiotap.present.dbm_antsignal',\t'radiotap.present.dbm_antnoise',\t'radiotap.present.lock_quality',\t'radiotap.present.tx_attenuation',\t'radiotap.present.db_tx_attenuation',\t'radiotap.present.dbm_tx_power',\t'radiotap.present.antenna',\t'radiotap.present.db_antsignal',\t'radiotap.present.db_antnoise',\t'radiotap.present.rxflags',\t'radiotap.present.xchannel',\t'radiotap.present.mcs',\t'radiotap.present.ampdu',\t'radiotap.present.vht',\t'radiotap.present.reserved',\t'radiotap.present.rtap_ns',\t'radiotap.present.vendor_ns',\t'radiotap.present.ext',\t'radiotap.mactime',\t'radiotap.flags.cfp',\t'radiotap.flags.preamble',\t'radiotap.flags.wep',\t'radiotap.flags.frag',\t'radiotap.flags.fcs',\t'radiotap.flags.datapad',\t'radiotap.flags.badfcs',\t'radiotap.flags.shortgi',\t'radiotap.datarate',\t'radiotap.channel.freq',\t'radiotap.channel.type.turbo',\t'radiotap.channel.type.cck',\t'radiotap.channel.type.ofdm',\t'radiotap.channel.type.2ghz',\t'radiotap.channel.type.5ghz',\t'radiotap.channel.type.passive',\t'radiotap.channel.type.dynamic',\t'radiotap.channel.type.gfsk',\t'radiotap.channel.type.gsm',\t'radiotap.channel.type.sturbo',\t'radiotap.channel.type.half',\t'radiotap.channel.type.quarter',\t'radiotap.dbm_antsignal',\t'radiotap.antenna',\t'radiotap.rxflags.badplcp',\t'wlan.fc.type_subtype',\t'wlan.fc.version',\t'wlan.fc.type',\t'wlan.fc.subtype',\t'wlan.fc.ds',\t'wlan.fc.frag',\t'wlan.fc.retry',\t'wlan.fc.pwrmgt',\t'wlan.fc.moredata',\t'wlan.fc.protected',\t'wlan.fc.order',\t'wlan.duration',\t'wlan.ra',\t'wlan.da',\t'wlan.ta',\t'wlan.sa',\t'wlan.bssid',\t'wlan.frag',\t'wlan.seq',\t'wlan.bar.type',\t'wlan.ba.control.ackpolicy',\t'wlan.ba.control.multitid',\t'wlan.ba.control.cbitmap',\t'wlan.bar.compressed.tidinfo',\t'wlan.ba.bm',\t'wlan.fcs_good',\t'wlan_mgt.fixed.capabilities.ess',\t'wlan_mgt.fixed.capabilities.ibss',\t'wlan_mgt.fixed.capabilities.cfpoll.ap',\t'wlan_mgt.fixed.capabilities.privacy',\t'wlan_mgt.fixed.capabilities.preamble',\t'wlan_mgt.fixed.capabilities.pbcc',\t'wlan_mgt.fixed.capabilities.agility',\t'wlan_mgt.fixed.capabilities.spec_man',\t'wlan_mgt.fixed.capabilities.short_slot_time',\t'wlan_mgt.fixed.capabilities.apsd',\t'wlan_mgt.fixed.capabilities.radio_measurement',\t'wlan_mgt.fixed.capabilities.dsss_ofdm',\t'wlan_mgt.fixed.capabilities.del_blk_ack',\t'wlan_mgt.fixed.capabilities.imm_blk_ack',\t'wlan_mgt.fixed.listen_ival',\t'wlan_mgt.fixed.current_ap',\t'wlan_mgt.fixed.status_code',\t'wlan_mgt.fixed.timestamp',\t'wlan_mgt.fixed.beacon',\t'wlan_mgt.fixed.aid',\t'wlan_mgt.fixed.reason_code',\t'wlan_mgt.fixed.auth.alg',\t'wlan_mgt.fixed.auth_seq',\t'wlan_mgt.fixed.category_code',\t'wlan_mgt.fixed.htact',\t'wlan_mgt.fixed.chanwidth',\t'wlan_mgt.fixed.fragment',\t'wlan_mgt.fixed.sequence',\t'wlan_mgt.tagged.all',\t'wlan_mgt.ssid',\t'wlan_mgt.ds.current_channel',\t'wlan_mgt.tim.dtim_count',\t'wlan_mgt.tim.dtim_period',\t'wlan_mgt.tim.bmapctl.multicast',\t'wlan_mgt.tim.bmapctl.offset',\t'wlan_mgt.country_info.environment',\t'wlan_mgt.rsn.version',\t'wlan_mgt.rsn.gcs.type',\t'wlan_mgt.rsn.pcs.count',\t'wlan_mgt.rsn.akms.count',\t'wlan_mgt.rsn.akms.type',\t'wlan_mgt.rsn.capabilities.preauth',\t'wlan_mgt.rsn.capabilities.no_pairwise',\t'wlan_mgt.rsn.capabilities.ptksa_replay_counter',\t'wlan_mgt.rsn.capabilities.gtksa_replay_counter',\t'wlan_mgt.rsn.capabilities.mfpr',\t'wlan_mgt.rsn.capabilities.mfpc',\t'wlan_mgt.rsn.capabilities.peerkey',\t'wlan_mgt.tcprep.trsmt_pow',\t'wlan_mgt.tcprep.link_mrg',\t'wlan.wep.iv',\t'wlan.wep.key',\t'wlan.wep.icv',\t'wlan.tkip.extiv',\t'wlan.ccmp.extiv',\t'wlan.qos.tid',\t'wlan.qos.priority',\t'wlan.qos.eosp',\t'wlan.qos.ack',\t'wlan.qos.amsdupresent',\t'wlan.qos.buf_state_indicated',\t'wlan.qos.bit4',\t'wlan.qos.txop_dur_req',\t'wlan.qos.buf_state_indicated',\t'data.len',\t'class']\n",
    "\n",
    "print(\"Reading training csv file.\")\n",
    "df1 = pd.read_csv('awid_train_set')\n",
    "df1.columns = dataset_columns\n",
    "#Fllling the entries \"?\" with \"0\"\n",
    "df1=df1.replace('?',0)\n",
    "\n",
    "df1.drop([dataset_columns[i] for i in [33, 63, 67, 75, 76, 77, 78, 79, 82, 86, 87, 91, 103, 104, 105, 106, 108, 109, 111, 113, 114,118, 123, 124, 132, 133, 139,  141, 142, 143, 147 ]], axis=1, inplace=True) \n",
    "\n",
    "print(\"Reading testing csv file.\")\n",
    "df2 = pd.read_csv('awid_test_set')\n",
    "df2.columns = dataset_columns\n",
    "#Fllling the entries \"?\" with \"0\"\n",
    "df2=df2.replace('?',0)\n",
    "\n",
    "df2.drop([dataset_columns[i] for i in [33, 63, 67, 75, 76, 77, 78, 79, 82, 86, 87, 91, 103, 104, 105, 106, 108, 109, 111, 113, 114,118, 123, 124, 132, 133, 139,  141, 142, 143, 147 ]], axis=1, inplace=True)  "
   ]
  },
  {
   "cell_type": "code",
   "execution_count": 3,
   "metadata": {},
   "outputs": [
    {
     "name": "stdout",
     "output_type": "stream",
     "text": [
      "{'authentication_request', 'probe_response'} {'power_saving', 'cts', 'disassociation', 'probe_request', 'rts', 'hirte', 'chop_chop'}\n"
     ]
    }
   ],
   "source": [
    "print(set(df2['class'].unique()) - set(df1['class'].unique()), set(df1['class'].unique()) - set(df2['class'].unique()))"
   ]
  },
  {
   "cell_type": "code",
   "execution_count": 4,
   "metadata": {},
   "outputs": [
    {
     "name": "stdout",
     "output_type": "stream",
     "text": [
      "2371216 575642 1795574 2371216\n"
     ]
    }
   ],
   "source": [
    "df = pd.concat([df1, df2])\n",
    "print(len(df),len(df1),len(df2),len(df1)+len(df2))\n",
    "\n",
    "#zero_val_columns = ['frame.interface_id', 'frame.dlt', 'frame.offset_shift', 'frame.marked', 'frame.ignored', 'radiotap.version', 'radiotap.pad', 'radiotap.present.fhss', 'radiotap.present.dbm_antnoise', 'radiotap.present.lock_quality', 'radiotap.present.tx_attenuation', 'radiotap.present.db_tx_attenuation', 'radiotap.present.dbm_tx_power', 'radiotap.present.db_antsignal', 'radiotap.present.db_antnoise', 'radiotap.present.xchannel', 'radiotap.present.mcs', 'radiotap.present.ampdu', 'radiotap.present.vht', 'radiotap.present.rtap_ns', 'radiotap.present.vendor_ns', 'radiotap.present.ext', 'radiotap.flags.cfp', 'radiotap.flags.preamble', 'radiotap.flags.wep', 'radiotap.flags.frag', 'radiotap.flags.datapad', 'radiotap.flags.badfcs', 'radiotap.flags.shortgi', 'radiotap.channel.type.turbo', 'radiotap.channel.type.5ghz', 'radiotap.channel.type.passive', 'radiotap.channel.type.dynamic', 'radiotap.channel.type.gfsk', 'radiotap.channel.type.gsm', 'radiotap.channel.type.sturbo', 'radiotap.channel.type.half', 'radiotap.channel.type.quarter', 'radiotap.rxflags.badplcp', 'wlan.fc.version', 'wlan.fc.order', 'wlan.ba.control.multitid', 'wlan_mgt.fixed.fragment', 'wlan.qos.eosp', 'wlan.qos.amsdupresent', 'wlan.qos.buf_state_indicated', 'wlan.qos.bit4', 'wlan.qos.txop_dur_req']\n",
    "#for col in zero_val_columns:\n",
    "#    df.drop(col, axis=1, inplace=True)"
   ]
  },
  {
   "cell_type": "code",
   "execution_count": 5,
   "metadata": {},
   "outputs": [
    {
     "name": "stdout",
     "output_type": "stream",
     "text": [
      "17 ['normal' 'fragmentation' 'arp' 'probe_request' 'chop_chop' 'rts'\n",
      " 'deauthentication' 'amok' 'beacon' 'evil_twin' 'cafe_latte' 'cts' 'hirte'\n",
      " 'power_saving' 'disassociation' 'authentication_request' 'probe_response'] 124\n",
      "/root/pathint-Fisher/fig_split_mnist\n"
     ]
    }
   ],
   "source": [
    "#max([float(i) for i in df1[dataset_columns[37]]])\n",
    "#[dataset_columns[i] for i in [71, 72, 73, 74, 86, 98, 99, 100, 101, 103, 104]]\n",
    "#dataset_columns.index(df1.columns[79])\n",
    "print (len(df['class'].unique()),df['class'].unique(),len(df.columns))\n",
    "os.chdir('/root/pathint-Fisher/fig_split_mnist/')\n",
    "print(os.getcwd())"
   ]
  },
  {
   "cell_type": "code",
   "execution_count": 6,
   "metadata": {},
   "outputs": [
    {
     "data": {
      "text/plain": [
       "False"
      ]
     },
     "execution_count": 6,
     "metadata": {},
     "output_type": "execute_result"
    }
   ],
   "source": [
    "obj_df = df.loc[:, (df != 0).any(axis=0)]\n",
    "obj_df.isnull().values.any()"
   ]
  },
  {
   "cell_type": "code",
   "execution_count": 7,
   "metadata": {},
   "outputs": [
    {
     "data": {
      "text/html": [
       "<div>\n",
       "<style scoped>\n",
       "    .dataframe tbody tr th:only-of-type {\n",
       "        vertical-align: middle;\n",
       "    }\n",
       "\n",
       "    .dataframe tbody tr th {\n",
       "        vertical-align: top;\n",
       "    }\n",
       "\n",
       "    .dataframe thead th {\n",
       "        text-align: right;\n",
       "    }\n",
       "</style>\n",
       "<table border=\"1\" class=\"dataframe\">\n",
       "  <thead>\n",
       "    <tr style=\"text-align: right;\">\n",
       "      <th></th>\n",
       "      <th>frame.time_epoch</th>\n",
       "      <th>frame.time_delta</th>\n",
       "      <th>frame.time_delta_displayed</th>\n",
       "      <th>frame.time_relative</th>\n",
       "      <th>frame.len</th>\n",
       "      <th>frame.cap_len</th>\n",
       "      <th>radiotap.length</th>\n",
       "      <th>radiotap.present.tsft</th>\n",
       "      <th>radiotap.present.flags</th>\n",
       "      <th>radiotap.present.rate</th>\n",
       "      <th>...</th>\n",
       "      <th>wlan.wep.key</th>\n",
       "      <th>wlan.qos.tid</th>\n",
       "      <th>wlan.qos.priority</th>\n",
       "      <th>wlan.qos.eosp</th>\n",
       "      <th>wlan.qos.amsdupresent</th>\n",
       "      <th>wlan.qos.bit4</th>\n",
       "      <th>wlan.qos.txop_dur_req</th>\n",
       "      <th>wlan.qos.buf_state_indicated</th>\n",
       "      <th>data.len</th>\n",
       "      <th>class</th>\n",
       "    </tr>\n",
       "  </thead>\n",
       "  <tbody>\n",
       "    <tr>\n",
       "      <th>0</th>\n",
       "      <td>1.393668e+09</td>\n",
       "      <td>0.001056</td>\n",
       "      <td>0.001056</td>\n",
       "      <td>0.001056</td>\n",
       "      <td>1552</td>\n",
       "      <td>1552</td>\n",
       "      <td>26</td>\n",
       "      <td>1</td>\n",
       "      <td>1</td>\n",
       "      <td>1</td>\n",
       "      <td>...</td>\n",
       "      <td>0</td>\n",
       "      <td>1</td>\n",
       "      <td>1</td>\n",
       "      <td>0</td>\n",
       "      <td>0</td>\n",
       "      <td>0</td>\n",
       "      <td>0</td>\n",
       "      <td>0</td>\n",
       "      <td>1488</td>\n",
       "      <td>normal</td>\n",
       "    </tr>\n",
       "    <tr>\n",
       "      <th>1</th>\n",
       "      <td>1.393668e+09</td>\n",
       "      <td>0.000141</td>\n",
       "      <td>0.000141</td>\n",
       "      <td>0.001197</td>\n",
       "      <td>40</td>\n",
       "      <td>40</td>\n",
       "      <td>26</td>\n",
       "      <td>1</td>\n",
       "      <td>1</td>\n",
       "      <td>1</td>\n",
       "      <td>...</td>\n",
       "      <td>0</td>\n",
       "      <td>0</td>\n",
       "      <td>0</td>\n",
       "      <td>0</td>\n",
       "      <td>0</td>\n",
       "      <td>0</td>\n",
       "      <td>0</td>\n",
       "      <td>0</td>\n",
       "      <td>0</td>\n",
       "      <td>normal</td>\n",
       "    </tr>\n",
       "    <tr>\n",
       "      <th>2</th>\n",
       "      <td>1.393668e+09</td>\n",
       "      <td>0.000156</td>\n",
       "      <td>0.000156</td>\n",
       "      <td>0.001353</td>\n",
       "      <td>40</td>\n",
       "      <td>40</td>\n",
       "      <td>26</td>\n",
       "      <td>1</td>\n",
       "      <td>1</td>\n",
       "      <td>1</td>\n",
       "      <td>...</td>\n",
       "      <td>0</td>\n",
       "      <td>0</td>\n",
       "      <td>0</td>\n",
       "      <td>0</td>\n",
       "      <td>0</td>\n",
       "      <td>0</td>\n",
       "      <td>0</td>\n",
       "      <td>0</td>\n",
       "      <td>0</td>\n",
       "      <td>normal</td>\n",
       "    </tr>\n",
       "    <tr>\n",
       "      <th>3</th>\n",
       "      <td>1.393668e+09</td>\n",
       "      <td>0.001842</td>\n",
       "      <td>0.001842</td>\n",
       "      <td>0.003195</td>\n",
       "      <td>1552</td>\n",
       "      <td>1552</td>\n",
       "      <td>26</td>\n",
       "      <td>1</td>\n",
       "      <td>1</td>\n",
       "      <td>1</td>\n",
       "      <td>...</td>\n",
       "      <td>0</td>\n",
       "      <td>1</td>\n",
       "      <td>1</td>\n",
       "      <td>0</td>\n",
       "      <td>0</td>\n",
       "      <td>0</td>\n",
       "      <td>0</td>\n",
       "      <td>0</td>\n",
       "      <td>1488</td>\n",
       "      <td>normal</td>\n",
       "    </tr>\n",
       "    <tr>\n",
       "      <th>4</th>\n",
       "      <td>1.393668e+09</td>\n",
       "      <td>0.006015</td>\n",
       "      <td>0.006015</td>\n",
       "      <td>0.009210</td>\n",
       "      <td>1552</td>\n",
       "      <td>1552</td>\n",
       "      <td>26</td>\n",
       "      <td>1</td>\n",
       "      <td>1</td>\n",
       "      <td>1</td>\n",
       "      <td>...</td>\n",
       "      <td>0</td>\n",
       "      <td>1</td>\n",
       "      <td>1</td>\n",
       "      <td>0</td>\n",
       "      <td>0</td>\n",
       "      <td>0</td>\n",
       "      <td>0</td>\n",
       "      <td>0</td>\n",
       "      <td>1488</td>\n",
       "      <td>normal</td>\n",
       "    </tr>\n",
       "  </tbody>\n",
       "</table>\n",
       "<p>5 rows × 99 columns</p>\n",
       "</div>"
      ],
      "text/plain": [
       "   frame.time_epoch  frame.time_delta  frame.time_delta_displayed  \\\n",
       "0      1.393668e+09          0.001056                    0.001056   \n",
       "1      1.393668e+09          0.000141                    0.000141   \n",
       "2      1.393668e+09          0.000156                    0.000156   \n",
       "3      1.393668e+09          0.001842                    0.001842   \n",
       "4      1.393668e+09          0.006015                    0.006015   \n",
       "\n",
       "   frame.time_relative  frame.len  frame.cap_len  radiotap.length  \\\n",
       "0             0.001056       1552           1552               26   \n",
       "1             0.001197         40             40               26   \n",
       "2             0.001353         40             40               26   \n",
       "3             0.003195       1552           1552               26   \n",
       "4             0.009210       1552           1552               26   \n",
       "\n",
       "   radiotap.present.tsft  radiotap.present.flags  radiotap.present.rate  \\\n",
       "0                      1                       1                      1   \n",
       "1                      1                       1                      1   \n",
       "2                      1                       1                      1   \n",
       "3                      1                       1                      1   \n",
       "4                      1                       1                      1   \n",
       "\n",
       "    ...    wlan.wep.key  wlan.qos.tid  wlan.qos.priority  wlan.qos.eosp  \\\n",
       "0   ...               0             1                  1              0   \n",
       "1   ...               0             0                  0              0   \n",
       "2   ...               0             0                  0              0   \n",
       "3   ...               0             1                  1              0   \n",
       "4   ...               0             1                  1              0   \n",
       "\n",
       "  wlan.qos.amsdupresent wlan.qos.bit4 wlan.qos.txop_dur_req  \\\n",
       "0                     0             0                     0   \n",
       "1                     0             0                     0   \n",
       "2                     0             0                     0   \n",
       "3                     0             0                     0   \n",
       "4                     0             0                     0   \n",
       "\n",
       "  wlan.qos.buf_state_indicated data.len   class  \n",
       "0                            0     1488  normal  \n",
       "1                            0        0  normal  \n",
       "2                            0        0  normal  \n",
       "3                            0     1488  normal  \n",
       "4                            0     1488  normal  \n",
       "\n",
       "[5 rows x 99 columns]"
      ]
     },
     "execution_count": 7,
     "metadata": {},
     "output_type": "execute_result"
    }
   ],
   "source": [
    "obj_df.head()"
   ]
  },
  {
   "cell_type": "code",
   "execution_count": 8,
   "metadata": {},
   "outputs": [
    {
     "name": "stderr",
     "output_type": "stream",
     "text": [
      "/usr/local/lib/python3.5/dist-packages/ipykernel_launcher.py:3: SettingWithCopyWarning: \n",
      "A value is trying to be set on a copy of a slice from a DataFrame.\n",
      "Try using .loc[row_indexer,col_indexer] = value instead\n",
      "\n",
      "See the caveats in the documentation: http://pandas.pydata.org/pandas-docs/stable/indexing.html#indexing-view-versus-copy\n",
      "  This is separate from the ipykernel package so we can avoid doing imports until\n"
     ]
    }
   ],
   "source": [
    "for col in obj_df.columns:\n",
    "    if col != 'class':\n",
    "        obj_df[col] = obj_df[col].astype(float)    "
   ]
  },
  {
   "cell_type": "code",
   "execution_count": 9,
   "metadata": {
    "scrolled": true
   },
   "outputs": [
    {
     "name": "stdout",
     "output_type": "stream",
     "text": [
      "(2371216, 98)\n",
      "Datasetset Formatting\n",
      "0\n",
      "1\n",
      "2\n",
      "3\n",
      "4\n",
      "5\n",
      "6\n",
      "7\n",
      "8\n",
      "9\n",
      "10\n",
      "11\n",
      "12\n",
      "13\n",
      "14\n",
      "15\n",
      "16\n",
      "17\n",
      "18\n",
      "19\n",
      "20\n",
      "21\n",
      "22\n",
      "23\n",
      "24\n",
      "25\n",
      "26\n",
      "27\n",
      "28\n",
      "29\n",
      "30\n",
      "31\n",
      "32\n",
      "33\n",
      "34\n",
      "35\n",
      "36\n",
      "37\n",
      "38\n",
      "39\n",
      "40\n",
      "41\n",
      "42\n",
      "43\n",
      "44\n",
      "45\n",
      "46\n",
      "47\n",
      "48\n",
      "49\n",
      "50\n",
      "51\n",
      "52\n",
      "53\n",
      "54\n",
      "55\n",
      "56\n",
      "57\n",
      "58\n",
      "59\n",
      "60\n",
      "61\n",
      "62\n",
      "63\n",
      "64\n",
      "65\n",
      "66\n",
      "67\n",
      "68\n",
      "69\n",
      "70\n",
      "71\n",
      "72\n",
      "73\n",
      "74\n",
      "75\n",
      "76\n",
      "77\n",
      "78\n",
      "79\n",
      "80\n",
      "81\n",
      "82\n",
      "83\n",
      "84\n",
      "85\n",
      "86\n",
      "87\n",
      "88\n",
      "89\n",
      "90\n",
      "91\n",
      "92\n",
      "93\n",
      "94\n",
      "95\n",
      "96\n",
      "97\n"
     ]
    }
   ],
   "source": [
    "Y_all_attacks = obj_df[\"class\"]\n",
    "#obj_df=pd.get_dummies(obj_df, columns=[\"class\"])\n",
    "\n",
    "\n",
    "X = obj_df.values[:,:-1]  #It has 17 labels \n",
    "print (X.shape)\n",
    "print(\"Datasetset Formatting\")\n",
    "\n",
    "for j in range(0,X.shape[1]):\n",
    "    maximum = max([float(k) for k in X[:,j]]) if  max([float(k) for k in X[:,j]]) != 0 else 1\n",
    "    print(j)\n",
    "    for i in range(0,len(X)):\n",
    "        X[i,j] = round(float(X[i,j])/maximum,3)\n"
   ]
  },
  {
   "cell_type": "code",
   "execution_count": 10,
   "metadata": {},
   "outputs": [
    {
     "name": "stdout",
     "output_type": "stream",
     "text": [
      "(2371216, 98)\n",
      "(1588714, 98)\n"
     ]
    }
   ],
   "source": [
    "print (X.shape)\n",
    "from sklearn.model_selection import train_test_split\n",
    "X_train, X_test, Y_train_all_attacks, Y_test_all_attacks = train_test_split(X, Y_all_attacks, test_size=0.33)\n",
    "print (X_train.shape)\n",
    "\n",
    "#['normal' 'fragmentation' 'arp' 'probe_request' 'chop_chop' 'rts' 'deauthentication' 'amok' 'beacon' 'evil_twin' 'cafe_latte' 'cts' 'hirte' 'power_saving' 'disassociation' 'authentication_request' 'probe_response']\n",
    "cleanup_nums = {\"normal\":0, \"fragmentation\":1, \"arp\":2, \"probe_request\":3, \"chop_chop\":4, \"rts\":5, \"deauthentication\":6, \"amok\":7, \"beacon\":8, \"evil_twin\":9, \"cafe_latte\":10, \"cts\":11, \"hirte\":12, \"power_saving\":13, \"disassociation\":14, \"authentication_request\":15, \"probe_response\":16}\n",
    "Y_train_all_attacks.replace(cleanup_nums,inplace=True)\n",
    "Y_test_all_attacks.replace(cleanup_nums,inplace=True)"
   ]
  },
  {
   "cell_type": "code",
   "execution_count": 11,
   "metadata": {},
   "outputs": [
    {
     "name": "stdout",
     "output_type": "stream",
     "text": [
      "Populating the interactive namespace from numpy and matplotlib\n"
     ]
    },
    {
     "name": "stderr",
     "output_type": "stream",
     "text": [
      "/usr/local/lib/python3.5/dist-packages/IPython/core/magics/pylab.py:160: UserWarning: pylab import has clobbered these variables: ['maximum', 'pylab']\n",
      "`%matplotlib` prevents importing * from pylab and numpy\n",
      "  \"\\n`%matplotlib` prevents importing * from pylab and numpy\"\n",
      "/usr/local/lib/python3.5/dist-packages/tensorflow/python/framework/dtypes.py:526: FutureWarning: Passing (type, 1) or '1type' as a synonym of type is deprecated; in a future version of numpy, it will be understood as (type, (1,)) / '(1,)type'.\n",
      "  _np_qint8 = np.dtype([(\"qint8\", np.int8, 1)])\n",
      "/usr/local/lib/python3.5/dist-packages/tensorflow/python/framework/dtypes.py:527: FutureWarning: Passing (type, 1) or '1type' as a synonym of type is deprecated; in a future version of numpy, it will be understood as (type, (1,)) / '(1,)type'.\n",
      "  _np_quint8 = np.dtype([(\"quint8\", np.uint8, 1)])\n",
      "/usr/local/lib/python3.5/dist-packages/tensorflow/python/framework/dtypes.py:528: FutureWarning: Passing (type, 1) or '1type' as a synonym of type is deprecated; in a future version of numpy, it will be understood as (type, (1,)) / '(1,)type'.\n",
      "  _np_qint16 = np.dtype([(\"qint16\", np.int16, 1)])\n",
      "/usr/local/lib/python3.5/dist-packages/tensorflow/python/framework/dtypes.py:529: FutureWarning: Passing (type, 1) or '1type' as a synonym of type is deprecated; in a future version of numpy, it will be understood as (type, (1,)) / '(1,)type'.\n",
      "  _np_quint16 = np.dtype([(\"quint16\", np.uint16, 1)])\n",
      "/usr/local/lib/python3.5/dist-packages/tensorflow/python/framework/dtypes.py:530: FutureWarning: Passing (type, 1) or '1type' as a synonym of type is deprecated; in a future version of numpy, it will be understood as (type, (1,)) / '(1,)type'.\n",
      "  _np_qint32 = np.dtype([(\"qint32\", np.int32, 1)])\n",
      "/usr/local/lib/python3.5/dist-packages/tensorflow/python/framework/dtypes.py:535: FutureWarning: Passing (type, 1) or '1type' as a synonym of type is deprecated; in a future version of numpy, it will be understood as (type, (1,)) / '(1,)type'.\n",
      "  np_resource = np.dtype([(\"resource\", np.ubyte, 1)])\n",
      "/usr/local/lib/python3.5/dist-packages/h5py/__init__.py:36: FutureWarning: Conversion of the second argument of issubdtype from `float` to `np.floating` is deprecated. In future, it will be treated as `np.float64 == np.dtype(float).type`.\n",
      "  from ._conv import register_converters as _register_converters\n"
     ]
    },
    {
     "name": "stdout",
     "output_type": "stream",
     "text": [
      "\n",
      "WARNING: The TensorFlow contrib module will not be included in TensorFlow 2.0.\n",
      "For more information, please see:\n",
      "  * https://github.com/tensorflow/community/blob/master/rfcs/20180907-contrib-sunset.md\n",
      "  * https://github.com/tensorflow/addons\n",
      "If you depend on functionality not listed there, please file an issue.\n",
      "\n"
     ]
    },
    {
     "name": "stderr",
     "output_type": "stream",
     "text": [
      "Using TensorFlow backend.\n"
     ]
    }
   ],
   "source": [
    "%load_ext autoreload\n",
    "%autoreload 2\n",
    "%pylab inline\n",
    "\n",
    "import tensorflow as tf\n",
    "slim = tf.contrib.slim\n",
    "graph_replace = tf.contrib.graph_editor.graph_replace\n",
    "\n",
    "import sys, os\n",
    "sys.path.extend([os.path.expanduser('..')])\n",
    "from pathint import utils\n",
    "import seaborn as sns\n",
    "sns.set_style(\"ticks\")\n",
    "\n",
    "from tqdm import trange, tqdm\n",
    "\n",
    "# import operator\n",
    "import matplotlib.colors as colors\n",
    "import matplotlib.cm as cmx\n",
    "\n",
    "rcParams['pdf.fonttype'] = 42\n",
    "rcParams['ps.fonttype'] = 42\n",
    "\n",
    "select = tf.select if hasattr(tf, 'select') else tf.where"
   ]
  },
  {
   "cell_type": "code",
   "execution_count": 12,
   "metadata": {},
   "outputs": [],
   "source": [
    "# Data params\n",
    "input_dim = 98\n",
    "output_dim = 17\n",
    "\n",
    "# Network params\n",
    "n_hidden_units = 20\n",
    "activation_fn = tf.nn.relu\n",
    "\n",
    "# Optimization params\n",
    "batch_size = 1000\n",
    "epochs_per_task = 5\n",
    "\n",
    "n_stats = 1\n",
    "\n",
    "# Reset optimizer after each age\n",
    "reset_optimizer = True"
   ]
  },
  {
   "cell_type": "code",
   "execution_count": 27,
   "metadata": {},
   "outputs": [],
   "source": [
    "from keras.utils import np_utils\n",
    "\n",
    "#task_labels = [[8,1],[5,3],[4,9], [11,7], [6,2], [0,10], [14,2],[12,13]]\n",
    "task_labels = [[0,1],[2,3],[4,5],[6,7],[8,9],[10,11],[12,13],[14,15],[16,1]]\n",
    "#task_labels = [[0,1],[2,3],[4,5],[6,7],[8,9],[10,11],[12,13],[14,15],[16,2],[5,9],[10,3],[12,6],[14,2]]\n",
    "#task_labels = [[0,9], [7,8], [3,6], [1,4], [2,5]]\n",
    "#task_labels = [[0,1,2], [3,4,5], [6,7,8],[9,10,11],[12,13,14],[15,16]]\n",
    "#task_labels = [[1,5,8],[2,5,7,9],[3,4,6]]\n",
    "n_tasks = len(task_labels)\n",
    "nb_classes  = 17\n",
    "training_datasets = []\n",
    "validation_datasets = []\n",
    "multihead=False\n",
    "\n",
    "for labels in task_labels:\n",
    "    idx = np.in1d(Y_train_all_attacks, labels)\n",
    "    if multihead:\n",
    "        label_map = np.arange(nb_classes)\n",
    "        label_map[labels] = np.arange(len(labels))\n",
    "        data = X_train[idx], np_utils.to_categorical(label_map[Y_train_all_attacks[idx]], len(labels))\n",
    "    else:\n",
    "        data = X_train[idx], np_utils.to_categorical(Y_train_all_attacks[idx], nb_classes)\n",
    "        training_datasets.append(data)\n",
    "\n",
    "for labels in task_labels:\n",
    "    idx = np.in1d(Y_test_all_attacks, labels)\n",
    "    if multihead:\n",
    "        label_map = np.arange(nb_classes)\n",
    "        label_map[labels] = np.arange(len(labels))\n",
    "        data = X_test[idx], np_utils.to_categorical(label_map[Y_test_all_attacks[idx]], len(labels))\n",
    "    else:\n",
    "        data = X_test[idx], np_utils.to_categorical(Y_test_all_attacks[idx], nb_classes)\n",
    "        validation_datasets.append(data)"
   ]
  },
  {
   "cell_type": "code",
   "execution_count": 28,
   "metadata": {},
   "outputs": [
    {
     "name": "stderr",
     "output_type": "stream",
     "text": [
      "/usr/local/lib/python3.5/dist-packages/tensorflow/python/client/session.py:1702: UserWarning: An interactive session is already active. This can cause out-of-memory errors in some cases. You must explicitly call `InteractiveSession.close()` to release resources held by the other session(s).\n",
      "  warnings.warn('An interactive session is already active. This can '\n"
     ]
    }
   ],
   "source": [
    "tf.reset_default_graph()\n",
    "config = tf.ConfigProto()\n",
    "config.gpu_options.allow_growth=True\n",
    "sess = tf.InteractiveSession(config=config)\n",
    "sess.run(tf.global_variables_initializer())\n",
    "import keras.backend as K\n",
    "import keras.activations as activations\n",
    "\n",
    "output_mask = tf.Variable(tf.zeros(output_dim), name=\"mask\", trainable=False)\n",
    "\n",
    "def masked_softmax(logits):\n",
    "    # logits are [batch_size, output_dim]\n",
    "    x = select(tf.tile(tf.equal(output_mask[None, :], 1.0), [tf.shape(logits)[0], 1]), logits, -1e32 * tf.ones_like(logits))\n",
    "    return activations.softmax(x)\n",
    "\n",
    "def set_active_outputs(labels):\n",
    "    new_mask = np.zeros(output_dim)\n",
    "    for l in labels:\n",
    "        new_mask[l] = 1.0\n",
    "    sess.run(output_mask.assign(new_mask))\n",
    "    #print(sess.run(output_mask))\n",
    "    \n",
    "def masked_predict(model, data, targets):\n",
    "    pred = model.predict(data)\n",
    "    #print(pred)\n",
    "    acc = np.argmax(pred,1)==np.argmax(targets,1)\n",
    "    return acc.mean()"
   ]
  },
  {
   "cell_type": "code",
   "execution_count": 29,
   "metadata": {},
   "outputs": [],
   "source": [
    "from keras.models import Sequential\n",
    "from keras.layers import Dense\n",
    "model = Sequential()\n",
    "model.add(Dense(n_hidden_units, kernel_initializer='random_uniform', activation=activation_fn, input_shape=(input_dim,)))\n",
    "#model.add(Dense(30, kernel_initializer='random_uniform', activation=activation_fn))\n",
    "#model.add(Dense(n_hidden_units, activation=activation_fn))\n",
    "model.add(Dense(output_dim, kernel_initializer='zero', activation=masked_softmax))\n",
    "#model.add(Dense(output_dim, activation=masked_softmax, input_shape=(input_dim,)))\n",
    "\n",
    "from pathint import protocols\n",
    "from pathint.optimizers import KOOptimizer\n",
    "from keras.optimizers import Adam, RMSprop,SGD\n",
    "from keras.callbacks import Callback\n",
    "from pathint.keras_utils import LossHistory\n",
    "from keras.callbacks import History \n",
    "from keras.callbacks import LambdaCallback\n",
    "\n",
    "#protocol_name, protocol = protocols.PATH_INT_PROTOCOL(omega_decay='sum',xi=1e-3)\n",
    "#protocol_name, protocol = protocols.PATH_INT_PROTOCOL(omega_decay='sum',xi=1e-3)\n",
    "#protocol_name, protocol = protocols.FISHER_PROTOCOL('sum')\n",
    "protocol_name, protocol = protocols.FISHER_PROTOCOL('sum')\n",
    "opt = Adam(lr=1e-3, beta_1=0.9, beta_2=0.999)\n",
    "#opt = SGD(1e-3)\n",
    "#opt = RMSprop(lr=1e-3)\n",
    "oopt = KOOptimizer(opt, model=model, compute_fisher=True, **protocol)\n",
    "model.compile(loss='categorical_crossentropy', optimizer=oopt, metrics=['accuracy'])\n",
    "model.model._make_train_function()\n",
    "saved_weights = model.get_weights()\n",
    "\n",
    "save_weights_epoch=[]\n",
    "save_loss_epoch=[]\n",
    "print_weights = LambdaCallback(on_epoch_end=lambda batch, logs: save_weights_epoch.append(model.get_weights()))\n",
    "history = LossHistory()\n",
    "#history = History()\n",
    "callbacks = [history]\n",
    "datafile_name = \"split_mnist_data_%s.pkl.gz\"%protocol_name"
   ]
  },
  {
   "cell_type": "code",
   "execution_count": 30,
   "metadata": {},
   "outputs": [
    {
     "name": "stdout",
     "output_type": "stream",
     "text": [
      "_________________________________________________________________\n",
      "Layer (type)                 Output Shape              Param #   \n",
      "=================================================================\n",
      "dense_1 (Dense)              (None, 20)                1980      \n",
      "_________________________________________________________________\n",
      "dense_2 (Dense)              (None, 17)                357       \n",
      "=================================================================\n",
      "Total params: 2,337\n",
      "Trainable params: 2,337\n",
      "Non-trainable params: 0\n",
      "_________________________________________________________________\n",
      "None\n",
      "(98, 20)\n",
      "(20,)\n",
      "(20, 17)\n",
      "(17,)\n"
     ]
    }
   ],
   "source": [
    "print(model.summary())\n",
    "a_list = model.get_weights()\n",
    "for i in range(len(a_list)):\n",
    "    print((np.array(a_list[i])).shape)"
   ]
  },
  {
   "cell_type": "code",
   "execution_count": 31,
   "metadata": {},
   "outputs": [
    {
     "name": "stdout",
     "output_type": "stream",
     "text": [
      "{'task_metrics': {'task_fisher': <function <lambda>.<locals>.<lambda> at 0x7f9e431b38c8>}, 'task_updates': [('omega', <function <lambda>.<locals>.<lambda> at 0x7f9e431b3840>), ('cweights', <function <lambda>.<locals>.<lambda> at 0x7f9e431b39d8>)], 'regularizer_fn': <function quadratic_regularizer at 0x7fa0ba6d52f0>}\n"
     ]
    }
   ],
   "source": [
    "print(protocol)"
   ]
  },
  {
   "cell_type": "code",
   "execution_count": 32,
   "metadata": {},
   "outputs": [],
   "source": [
    "def run_fits(cvals, training_data, valid_data, eval_on_train_set=False, nstats=1):\n",
    "    acc_mean = dict()\n",
    "    acc_std = dict()\n",
    "    model_weights_save = []   #Empty list to save the model weights aftertraining each task\n",
    "    imp_par = dict()  #Empty list to save importance parameter after learning each progressive task\n",
    "    for cidx, cval_ in enumerate(tqdm(cvals)):\n",
    "        runs = []\n",
    "        for runid in range(nstats):\n",
    "            sess.run(tf.global_variables_initializer())\n",
    "            # model.set_weights(saved_weights)\n",
    "            cstuffs = []\n",
    "            evals = []\n",
    "            print(\"setting cval\")\n",
    "            cval = cval_\n",
    "            oopt.set_strength(cval)\n",
    "            oopt.init_task_vars()\n",
    "            print(\"cval is\", sess.run(oopt.lam))\n",
    "            for age, tidx in enumerate(range(n_tasks)):\n",
    "                print(\"Age %i, cval is=%f\"%(age,cval))\n",
    "                print(\"settint output mask\")\n",
    "                set_active_outputs(task_labels[age])\n",
    "                stuffs = model.fit(training_data[tidx][0], training_data[tidx][1], batch_size, epochs_per_task, callbacks=[history, print_weights])\n",
    "                save_loss_epoch.append(stuffs.history['loss'])\n",
    "                oopt.update_task_metrics(training_data[tidx][0], training_data[tidx][1], batch_size)\n",
    "                oopt.update_task_vars()\n",
    "                ftask = []\n",
    "                model_weights_save.append(model.get_weights()) #Save the model weights aftertraining each task\n",
    "                for j in range(n_tasks):\n",
    "                    set_active_outputs(task_labels[j])\n",
    "                    if eval_on_train_set:\n",
    "                        f_ = masked_predict(model, training_data[j][0], training_data[j][1])\n",
    "                    else:\n",
    "                        f_ = masked_predict(model, valid_data[j][0], valid_data[j][1])\n",
    "                    ftask.append(np.mean(f_))\n",
    "                evals.append(ftask)\n",
    "                cstuffs.append(stuffs)\n",
    "\n",
    "                # Re-initialize optimizater variables\n",
    "                if reset_optimizer:\n",
    "                    oopt.reset_optimizer()\n",
    "\n",
    "            evals = np.array(evals)\n",
    "            runs.append(evals)\n",
    "        \n",
    "        runs = np.array(runs)\n",
    "        acc_mean[cval_] = runs.mean(0)\n",
    "        acc_std[cval_] = runs.std(0)\n",
    "    return dict(mean=acc_mean, std=acc_std),model_weights_save, cstuffs"
   ]
  },
  {
   "cell_type": "code",
   "execution_count": 33,
   "metadata": {},
   "outputs": [
    {
     "name": "stdout",
     "output_type": "stream",
     "text": [
      "[1.0]\n"
     ]
    }
   ],
   "source": [
    "# cvals = np.concatenate(([0], np.logspace(-2, 2, 10)))\n",
    "# cvals = np.concatenate(([0], np.logspace(-1, 2, 2)))\n",
    "# cvals = np.concatenate(([0], np.logspace(-2, 0, 3)))\n",
    "#cvals = np.logspace(-3, 3, 7)#[0, 1.0, 2, 5, 10]\n",
    "cvals = [1.0]\n",
    "print(cvals)"
   ]
  },
  {
   "cell_type": "code",
   "execution_count": 34,
   "metadata": {
    "scrolled": true
   },
   "outputs": [
    {
     "name": "stderr",
     "output_type": "stream",
     "text": [
      "\r",
      "  0%|          | 0/1 [00:00<?, ?it/s]"
     ]
    },
    {
     "name": "stdout",
     "output_type": "stream",
     "text": [
      "setting cval\n",
      "cval is 1.0\n",
      "Age 0, cval is=1.000000\n",
      "settint output mask\n",
      "Epoch 1/5\n",
      "  10000/1450156 [..............................] - ETA: 67s - loss: 0.6358 - acc: 0.9994"
     ]
    },
    {
     "name": "stderr",
     "output_type": "stream",
     "text": [
      "/usr/local/lib/python3.5/dist-packages/keras/callbacks.py:120: UserWarning: Method on_batch_end() is slow compared to the batch update (0.164914). Check your callbacks.\n",
      "  % delta_t_median)\n"
     ]
    },
    {
     "name": "stdout",
     "output_type": "stream",
     "text": [
      "1450156/1450156 [==============================] - 30s - loss: 0.0126 - acc: 0.9996    \n",
      "Epoch 2/5\n",
      "1450156/1450156 [==============================] - 30s - loss: 6.8624e-04 - acc: 0.9996    \n",
      "Epoch 3/5\n",
      "1450156/1450156 [==============================] - 30s - loss: 4.5543e-04 - acc: 0.9996    \n",
      "Epoch 4/5\n",
      "1450156/1450156 [==============================] - 30s - loss: 3.8454e-04 - acc: 0.9999    \n",
      "Epoch 5/5\n",
      "1450156/1450156 [==============================] - 30s - loss: 3.3649e-04 - acc: 1.0000    \n",
      "Age 1, cval is=1.000000\n",
      "settint output mask\n",
      "Epoch 1/5\n",
      "52726/52726 [==============================] - 0s - loss: 0.1196 - acc: 0.9955     \n",
      "Epoch 2/5\n",
      "52726/52726 [==============================] - 0s - loss: 0.0124 - acc: 0.9996     \n",
      "Epoch 3/5\n",
      "52726/52726 [==============================] - 0s - loss: 0.0078 - acc: 1.0000     \n",
      "Epoch 4/5\n",
      "52726/52726 [==============================] - 0s - loss: 0.0058 - acc: 1.0000     \n",
      "Epoch 5/5\n",
      "52726/52726 [==============================] - 0s - loss: 0.0047 - acc: 1.0000     \n",
      "Age 2, cval is=1.000000\n",
      "settint output mask\n",
      "Epoch 1/5\n",
      "2077/2077 [==============================] - 0s - loss: 0.6669 - acc: 0.9326     \n",
      "Epoch 2/5\n",
      "2077/2077 [==============================] - 0s - loss: 0.5131 - acc: 0.9326     \n",
      "Epoch 3/5\n",
      "2077/2077 [==============================] - 0s - loss: 0.3590 - acc: 0.9326     \n",
      "Epoch 4/5\n",
      "2077/2077 [==============================] - 0s - loss: 0.2742 - acc: 0.9326     \n",
      "Epoch 5/5\n",
      "2077/2077 [==============================] - 0s - loss: 0.2555 - acc: 0.9326     \n",
      "Age 3, cval is=1.000000\n",
      "settint output mask\n",
      "Epoch 1/5\n",
      "31259/31259 [==============================] - 0s - loss: 0.6142 - acc: 0.6697     \n",
      "Epoch 2/5\n",
      "31259/31259 [==============================] - 0s - loss: 0.5755 - acc: 0.6800     \n",
      "Epoch 3/5\n",
      "31259/31259 [==============================] - 0s - loss: 0.5587 - acc: 0.6856     \n",
      "Epoch 4/5\n",
      "31259/31259 [==============================] - 0s - loss: 0.5483 - acc: 0.7010     \n",
      "Epoch 5/5\n",
      "31259/31259 [==============================] - 0s - loss: 0.5417 - acc: 0.7291     \n",
      "Age 4, cval is=1.000000\n",
      "settint output mask\n",
      "Epoch 1/5\n",
      "3768/3768 [==============================] - 0s - loss: 0.6798 - acc: 0.5353     \n",
      "Epoch 2/5\n",
      "3768/3768 [==============================] - 0s - loss: 0.6691 - acc: 0.5735     \n",
      "Epoch 3/5\n",
      "3768/3768 [==============================] - 0s - loss: 0.6568 - acc: 0.5735     \n",
      "Epoch 4/5\n",
      "3768/3768 [==============================] - 0s - loss: 0.6430 - acc: 0.5735     \n",
      "Epoch 5/5\n",
      "3768/3768 [==============================] - 0s - loss: 0.6229 - acc: 0.5735     \n",
      "Age 5, cval is=1.000000\n",
      "settint output mask\n",
      "Epoch 1/5\n",
      "32258/32258 [==============================] - 0s - loss: 0.2257 - acc: 0.9637     \n",
      "Epoch 2/5\n",
      "32258/32258 [==============================] - 0s - loss: 0.1132 - acc: 0.9637     \n",
      "Epoch 3/5\n",
      "32258/32258 [==============================] - 0s - loss: 0.0977 - acc: 0.9637     \n",
      "Epoch 4/5\n",
      "32258/32258 [==============================] - 0s - loss: 0.0897 - acc: 0.9637     \n",
      "Epoch 5/5\n",
      "32258/32258 [==============================] - 0s - loss: 0.0842 - acc: 0.9636     \n",
      "Age 6, cval is=1.000000\n",
      "settint output mask\n",
      "Epoch 1/5\n",
      "13013/13013 [==============================] - 0s - loss: 0.6255 - acc: 0.9913     \n",
      "Epoch 2/5\n",
      "13013/13013 [==============================] - 0s - loss: 0.4659 - acc: 0.9909     \n",
      "Epoch 3/5\n",
      "13013/13013 [==============================] - 0s - loss: 0.3552 - acc: 0.9914     \n",
      "Epoch 4/5\n",
      "13013/13013 [==============================] - 0s - loss: 0.2713 - acc: 0.9978     \n",
      "Epoch 5/5\n",
      "13013/13013 [==============================] - 0s - loss: 0.2165 - acc: 0.9988     \n",
      "Age 7, cval is=1.000000\n",
      "settint output mask\n",
      "Epoch 1/5\n",
      "2403/2403 [==============================] - 0s - loss: 0.6288 - acc: 0.5801     \n",
      "Epoch 2/5\n",
      "2403/2403 [==============================] - 0s - loss: 0.3784 - acc: 0.9771     \n",
      "Epoch 3/5\n",
      "2403/2403 [==============================] - 0s - loss: 0.1902 - acc: 0.9771     \n",
      "Epoch 4/5\n",
      "2403/2403 [==============================] - 0s - loss: 0.1163 - acc: 0.9771     \n",
      "Epoch 5/5\n",
      "2403/2403 [==============================] - 0s - loss: 0.0987 - acc: 0.9771     \n",
      "Age 8, cval is=1.000000\n",
      "settint output mask\n",
      "Epoch 1/5\n",
      "1693/1693 [==============================] - 0s - loss: 0.2542 - acc: 0.9734     \n",
      "Epoch 2/5\n",
      "1693/1693 [==============================] - 0s - loss: 0.2702 - acc: 0.9527     \n",
      "Epoch 3/5\n",
      "1693/1693 [==============================] - 0s - loss: 0.2722 - acc: 0.9445     \n",
      "Epoch 4/5\n",
      "1693/1693 [==============================] - 0s - loss: 0.2402 - acc: 0.9805     \n",
      "Epoch 5/5\n",
      "1693/1693 [==============================] - 0s - loss: 0.2383 - acc: 0.9805     \n"
     ]
    },
    {
     "name": "stderr",
     "output_type": "stream",
     "text": [
      "100%|██████████| 1/1 [06:23<00:00, 383.74s/it]\n"
     ]
    }
   ],
   "source": [
    "#%%capture\n",
    "\n",
    "recompute_data = True\n",
    "\n",
    "if recompute_data:\n",
    "    data,model_weights_save,cstuffs = run_fits(cvals, training_datasets, validation_datasets, eval_on_train_set=False, nstats=n_stats)\n",
    "    utils.save_zipped_pickle(data, datafile_name)"
   ]
  },
  {
   "cell_type": "code",
   "execution_count": 35,
   "metadata": {
    "scrolled": true
   },
   "outputs": [
    {
     "name": "stdout",
     "output_type": "stream",
     "text": [
      "_________________________________________________________________\n",
      "Layer (type)                 Output Shape              Param #   \n",
      "=================================================================\n",
      "dense_1 (Dense)              (None, 20)                1980      \n",
      "_________________________________________________________________\n",
      "dense_2 (Dense)              (None, 17)                357       \n",
      "=================================================================\n",
      "Total params: 2,337\n",
      "Trainable params: 2,337\n",
      "Non-trainable params: 0\n",
      "_________________________________________________________________\n",
      "None\n",
      "(98, 20)\n",
      "(20,)\n",
      "(20, 17)\n",
      "(17,)\n"
     ]
    }
   ],
   "source": [
    "import h5py\n",
    "print(model.summary())\n",
    "model.save_weights('saved_weights.h5') #This file cannot be opend normaly to view the weghts. It can be loaded through load_model() or can be opend via hdf5 viewer\n",
    "\n",
    "#Shape of the array containg model weights\n",
    "a_list = model.get_weights()\n",
    "for i in range(len(a_list)):\n",
    "    print((np.array(a_list[i])).shape)\n",
    "\n",
    "#a_list[0][0][0] = a_list[0][0][0]+0.00001\n",
    "#print(a_list[0][0][0])\n",
    "#model.set_weights(a_list)\n",
    "\n",
    "#from keras.utils.vis_utils import plot_model\n",
    "#import pydot\n",
    "#plot_model(model, to_file='model_plot.png', show_shapes=True, show_layer_names=True)"
   ]
  },
  {
   "cell_type": "code",
   "execution_count": 36,
   "metadata": {},
   "outputs": [
    {
     "name": "stdout",
     "output_type": "stream",
     "text": [
      "[1.0]\n"
     ]
    }
   ],
   "source": [
    "data = utils.load_zipped_pickle(datafile_name)\n",
    "print(cvals)"
   ]
  },
  {
   "cell_type": "code",
   "execution_count": 37,
   "metadata": {},
   "outputs": [
    {
     "name": "stdout",
     "output_type": "stream",
     "text": [
      "(-5.0, 0.0)\n"
     ]
    }
   ],
   "source": [
    "import matplotlib.colors as colors\n",
    "cmap = plt.get_cmap('cool') \n",
    "cNorm  = colors.Normalize(vmin=-5, vmax=np.log(np.max(list(data['mean'].keys()))))\n",
    "scalarMap = cmx.ScalarMappable(norm=cNorm, cmap=cmap)\n",
    "print(scalarMap.get_clim())"
   ]
  },
  {
   "cell_type": "code",
   "execution_count": 38,
   "metadata": {},
   "outputs": [
    {
     "name": "stderr",
     "output_type": "stream",
     "text": [
      "No handles with labels found to put in legend.\n",
      "No handles with labels found to put in legend.\n",
      "No handles with labels found to put in legend.\n",
      "No handles with labels found to put in legend.\n",
      "No handles with labels found to put in legend.\n",
      "No handles with labels found to put in legend.\n",
      "No handles with labels found to put in legend.\n",
      "No handles with labels found to put in legend.\n",
      "No handles with labels found to put in legend.\n"
     ]
    },
    {
     "data": {
      "image/png": "[encoded data removed]",
      "text/plain": [
       "<Figure size 1008x180 with 10 Axes>"
      ]
     },
     "metadata": {},
     "output_type": "display_data"
    }
   ],
   "source": [
    "figure(figsize=(14, 2.5))\n",
    "axs = [subplot(1,n_tasks+1,1)]#, None, None]\n",
    "for i in range(1, n_tasks + 1):\n",
    "    axs.append(subplot(1, n_tasks+1, i+1, sharex=axs[0], sharey=axs[0]))\n",
    "    \n",
    "keys = list(data['mean'].keys())\n",
    "sorted_keys = np.sort(keys)\n",
    "\n",
    "for cval in sorted_keys:\n",
    "    mean_vals = data['mean'][cval]\n",
    "    std_vals = data['std'][cval]\n",
    "    for j in range(n_tasks):\n",
    "        colorVal = scalarMap.to_rgba(np.log(cval))\n",
    "        # axs[j].plot(evals[:, j], c=colorVal)\n",
    "        axs[j].errorbar(range(n_tasks), mean_vals[:, j], yerr=std_vals[:, j]/np.sqrt(n_stats), c=colorVal)\n",
    "        axs[j].set_xticks(range(0,n_tasks,2))\n",
    "        if j==0:\n",
    "            axs[j].set_xlabel('Trained Tasks')\n",
    "            axs[j].set_ylabel('Accuracy(*100%)')\n",
    "    label = \"c=%g\"%cval\n",
    "    average = mean_vals.mean(1)  #Taking the average of cross validation accuracies accross all tasks after learning each task\n",
    "    axs[-1].plot(average, c=colorVal, label=label)\n",
    "    \n",
    "for i, ax in enumerate(axs):\n",
    "    ax.legend(loc='best')\n",
    "    ax.set_title((['task %d'%j for j in range(n_tasks)] + ['average'])[i])\n",
    "gcf().tight_layout()\n",
    "sns.despine()\n",
    "plt.savefig('Catastrophic-forgetting-AWID.pdf')"
   ]
  },
  {
   "cell_type": "code",
   "execution_count": 39,
   "metadata": {},
   "outputs": [
    {
     "name": "stdout",
     "output_type": "stream",
     "text": [
      "Batch-id for last epoch of each task: [7254, 7519, 7534, 7694, 7714, 7879, 7949, 7964, 7974]\n",
      "*----------------------------*\n",
      "Fisher diagonal elements for task 0 is  (20,) (17,) (98, 20) (20, 17)\n",
      "Fisher diagonal elements for task 1 is  (20,) (17,) (98, 20) (20, 17)\n",
      "Fisher diagonal elements for task 2 is  (20,) (17,) (98, 20) (20, 17)\n",
      "Fisher diagonal elements for task 3 is  (20,) (17,) (98, 20) (20, 17)\n",
      "Fisher diagonal elements for task 4 is  (20,) (17,) (98, 20) (20, 17)\n",
      "Fisher diagonal elements for task 5 is  (20,) (17,) (98, 20) (20, 17)\n",
      "Fisher diagonal elements for task 6 is  (20,) (17,) (98, 20) (20, 17)\n",
      "Fisher diagonal elements for task 7 is  (20,) (17,) (98, 20) (20, 17)\n",
      "Fisher diagonal elements for task 8 is  (20,) (17,) (98, 20) (20, 17)\n",
      "*----------------------------*\n",
      "Number of non-zero diagonal elements of Fisher for task 0 is  2019\n",
      "Number of non-zero diagonal elements of Fisher for task 1 is  2059\n",
      "Number of non-zero diagonal elements of Fisher for task 2 is  2099\n",
      "Number of non-zero diagonal elements of Fisher for task 3 is  2139\n",
      "Number of non-zero diagonal elements of Fisher for task 4 is  2179\n",
      "Number of non-zero diagonal elements of Fisher for task 5 is  2219\n",
      "Number of non-zero diagonal elements of Fisher for task 6 is  2259\n",
      "Number of non-zero diagonal elements of Fisher for task 7 is  2299\n",
      "Number of non-zero diagonal elements of Fisher for task 8 is  2319\n"
     ]
    }
   ],
   "source": [
    "#Inspection of behavior of diagonal elements of Fisher matrix \n",
    "from numpy import count_nonzero\n",
    "last_epoch_batchindex = []\n",
    "counter = 0\n",
    "for i,j in enumerate(history.batchindex):\n",
    "    try:\n",
    "        if history.batchindex[i+1] > j:\n",
    "            pass\n",
    "        else:\n",
    "            counter = counter+1\n",
    "            if counter%epochs_per_task == 0:\n",
    "                last_epoch_batchindex.append(i)\n",
    "    except:\n",
    "        last_epoch_batchindex.append(i)\n",
    "\n",
    "print('Batch-id for last epoch of each task:',last_epoch_batchindex)\n",
    "print('*----------------------------*')\n",
    "for i,epoch_id in enumerate(last_epoch_batchindex):\n",
    "    print('Fisher diagonal elements for task {0} is '.format(i), history.fisher_save1[epoch_id].shape, history.fisher_save2[epoch_id].shape, history.fisher_save3[epoch_id].shape, history.fisher_save4[epoch_id].shape)\n",
    "\n",
    "non_zero_imp_param = []\n",
    "print('*----------------------------*')\n",
    "for i,epoch_id in enumerate(last_epoch_batchindex):\n",
    "    non_zero_imp_param.append(count_nonzero(history.fisher_save1[epoch_id])+ count_nonzero(history.fisher_save2[epoch_id])+ count_nonzero(history.fisher_save3[epoch_id])+ count_nonzero(history.fisher_save4[epoch_id]))\n",
    "    print('Number of non-zero diagonal elements of Fisher for task {0} is '.format(i),non_zero_imp_param[i])\n",
    "    "
   ]
  },
  {
   "cell_type": "code",
   "execution_count": 40,
   "metadata": {},
   "outputs": [
    {
     "name": "stdout",
     "output_type": "stream",
     "text": [
      "Batch-id for last epoch of each task: [7254, 7519, 7534, 7694, 7714, 7879, 7949, 7964, 7974]\n",
      "*----------------------------*\n",
      "Loss after task 0  1.3747546e-06\n",
      "Loss after task 1  0.004045195\n",
      "Loss after task 2  0.28986996\n",
      "Loss after task 3  0.494961\n",
      "Loss after task 4  0.60866684\n",
      "Loss after task 5  0.13665418\n",
      "Loss after task 6  0.17993098\n",
      "Loss after task 7  0.08503971\n",
      "Loss after task 8  0.2442007\n",
      "*----------------------------*\n",
      "Surrogate loss after task 0  0.0\n",
      "Surrogate loss after task 1  1.5397498e-05\n",
      "Surrogate loss after task 2  22.66621\n",
      "Surrogate loss after task 3  2.8603114e-05\n",
      "Surrogate loss after task 4  82.84888\n",
      "Surrogate loss after task 5  0.0028899305\n",
      "Surrogate loss after task 6  0.11073192\n",
      "Surrogate loss after task 7  34.831448\n",
      "Surrogate loss after task 8  158.7128\n"
     ]
    }
   ],
   "source": [
    "#Inspection of losses after every task \n",
    "loss_after_task=[]\n",
    "print('Batch-id for last epoch of each task:',last_epoch_batchindex)\n",
    "print('*----------------------------*')\n",
    "for i,epoch_id in enumerate(last_epoch_batchindex):\n",
    "    loss_after_task.append(history.losses[epoch_id])\n",
    "    print('Loss after task {0} '.format(i), history.losses[epoch_id]) \n",
    "print('*----------------------------*')\n",
    "\n",
    "#Inspection of surrogate loss or regularization (sum(big_omega x (theta'-theta))) after every task \n",
    "surrogate_loss_after_task=[]\n",
    "for i,epoch_id in enumerate(last_epoch_batchindex):\n",
    "    surrogate_loss_after_task.append(history.regs[epoch_id])\n",
    "    print('Surrogate loss after task {0} '.format(i), history.regs[epoch_id]) "
   ]
  },
  {
   "cell_type": "code",
   "execution_count": 42,
   "metadata": {},
   "outputs": [
    {
     "data": {
      "image/png": "[encoded data removed]",
      "text/plain": [
       "<Figure size 288x324 with 1 Axes>"
      ]
     },
     "metadata": {},
     "output_type": "display_data"
    }
   ],
   "source": [
    "import pdb\n",
    "figure(figsize=(4, 4.5))\n",
    "axs = [subplot(1,1,1)]#, None, None]\n",
    "fontsize = 13\n",
    "\n",
    "keys = list(data['mean'].keys())\n",
    "sorted_keys = np.sort(keys)\n",
    "\n",
    "colorVal = ['r','g','b','c','m','k','y','tomato','m','c']\n",
    "marker=[\"v\",\"^\",\"<\",\">\",\"*\",\"s\",\"h\",\"x\",\".\",\"+\"]\n",
    "\n",
    "mean_stuff=[]\n",
    "std_stuff=[]\n",
    "for i in range(len(data['mean'][cval])):\n",
    "    mean_stuff.append(data['mean'][cval][i][:i+1].mean())\n",
    "    std_stuff.append(np.sqrt((data['std'][cval][i][:i+1]**2).sum())/(n_stats*np.sqrt(n_stats)))\n",
    "\n",
    "for cval in sorted_keys:\n",
    "    mean_vals = data['mean'][cval]\n",
    "    std_vals = data['std'][cval]\n",
    "    for j in range(n_tasks):\n",
    "        label = \"$\\mathcal{T}$=%g\"%j\n",
    "        axs[0].plot(range(1,n_tasks+1), mean_vals[:, j], marker=marker[j], c=colorVal[j], label=label)\n",
    "    axs[0].plot(range(1,n_tasks+1), mean_stuff, marker=marker[j+1], c=colorVal[j+1], label='Average')\n",
    "    axs[0].legend(loc='upper right',prop={'size': fontsize}, bbox_to_anchor=(1.05, -0.25), ncol=3)\n",
    "    axs[0].set_xlabel(\"Trained tasks($\\mathcal{T}$).\",fontsize=fontsize)\n",
    "    axs[0].set_ylabel('Accuracy(x100%).',fontsize=fontsize)\n",
    "    axs[0].set_xticks(range(1,n_tasks+1))\n",
    "    axs[0].set_yticks([0, 0.2, 0.4, 0.6, 0.8, 1.0])\n",
    "    axs[0].tick_params(labelsize='large', width=3)\n",
    "    axs[0].set_title('SI for AWID dataset', fontsize=fontsize)\n",
    "#plt.legend(bbox_to_anchor=(0.78, 0.66),bbox_transform=plt.gcf().transFigure)\n",
    "gcf().tight_layout()\n",
    "sns.despine()\n",
    "plt.savefig('AWID_SIFisher.pdf',bbox_inches = \"tight\")"
   ]
  },
  {
   "cell_type": "code",
   "execution_count": 43,
   "metadata": {},
   "outputs": [
    {
     "name": "stdout",
     "output_type": "stream",
     "text": [
      "Rank of the Hessian Matrix after task= 0 is : 427\n",
      "Rank of the Hessian Matrix after task= 1 is : 493\n",
      "Rank of the Hessian Matrix after task= 2 is : 514\n",
      "Rank of the Hessian Matrix after task= 3 is : 534\n",
      "Rank of the Hessian Matrix after task= 4 is : 721\n",
      "Rank of the Hessian Matrix after task= 5 is : 766\n",
      "Rank of the Hessian Matrix after task= 6 is : 802\n",
      "Rank of the Hessian Matrix after task= 7 is : 822\n",
      "Rank of the Hessian Matrix after task= 8 is : 1268\n"
     ]
    }
   ],
   "source": [
    "Flatten_weights=[]\n",
    "#Flattening the weights into a list\n",
    "def flatten(x):\n",
    "    try:\n",
    "        it = iter(x)\n",
    "    except TypeError:\n",
    "        yield x\n",
    "    else:\n",
    "        for i in it:\n",
    "            for j in flatten(i):\n",
    "                yield j\n",
    "                \n",
    "for i in range(len(model_weights_save)):\n",
    "    if i == 0:\n",
    "        Flatten_weights.append(list(flatten(save_weights_epoch[epochs_per_task-2])))\n",
    "        Flatten_weights.append(list(flatten(save_weights_epoch[epochs_per_task-1])))\n",
    "    Flatten_weights.append(list(flatten(model_weights_save[i]))) \n",
    "\n",
    "Extract_model_params = []\n",
    "for i in range(len(Flatten_weights)):   \n",
    "    Extract_model_params.append(Flatten_weights[i])\n",
    "    \n",
    "gradient_save=[]\n",
    "for i in range(1,len(Extract_model_params)):\n",
    "    if i == 2:\n",
    "        pass\n",
    "    else :\n",
    "        temp=list(np.asarray(Extract_model_params[i])-np.asarray(Extract_model_params[i-1]))\n",
    "        gradient = [j/0.001 for j in temp]\n",
    "        gradient_save.append(gradient)\n",
    "    \n",
    "#Creating the Hessian matrix from the gradients\n",
    "import math\n",
    "Hessian_matrix = []\n",
    "Hessian_row = []\n",
    "Rank_Hessian_matrix = []\n",
    "for k in range(len(gradient_save)):\n",
    "    for i in range(len(gradient_save[k])):\n",
    "        partial_deriv_1 = (math.ceil(gradient_save[k][i]*1e10)/1e10)\n",
    "        for j in range(len(gradient_save[k])):\n",
    "            partial_deriv_2 = (math.ceil(gradient_save[k][j]*1e10)/1e10)\n",
    "            Hessian_row.append(np.around(partial_deriv_1*partial_deriv_2))\n",
    "        Hessian_matrix.append(Hessian_row)\n",
    "        Hessian_row = []\n",
    "    rank_Hessian_matrix = np.linalg.matrix_rank(np.asarray(Hessian_matrix))\n",
    "    Rank_Hessian_matrix.append(rank_Hessian_matrix)\n",
    "    print('Rank of the Hessian Matrix after task=',k,'is :',rank_Hessian_matrix)"
   ]
  },
  {
   "cell_type": "code",
   "execution_count": 62,
   "metadata": {},
   "outputs": [
    {
     "name": "stderr",
     "output_type": "stream",
     "text": [
      "/usr/local/lib/python3.5/dist-packages/matplotlib/tight_layout.py:330: UserWarning: tight_layout not applied: number of rows in subplot specifications mustbe multiples of one another.\n",
      "  warnings.warn('tight_layout not applied: '\n"
     ]
    },
    {
     "data": {
      "image/png": "[encoded data removed]",
      "text/plain": [
       "<Figure size 216x720 with 4 Axes>"
      ]
     },
     "metadata": {},
     "output_type": "display_data"
    }
   ],
   "source": [
    "import pdb\n",
    "figure(figsize=(3, 10))\n",
    "axs = [subplot(5,1,1)]#, None, None]\n",
    "for i in range(1, 4):\n",
    "    axs.append(subplot(4, 1, i+1, sharex=axs[0]))\n",
    "fontsize = 13\n",
    "\n",
    "colorVal = ['r','g','b','c','m','k','y']\n",
    "marker=[\"v\",\"^\",\"<\",\">\",\"*\",\"s\"]\n",
    "\n",
    "plots = [non_zero_imp_param,loss_after_task,surrogate_loss_after_task,Rank_Hessian_matrix]\n",
    "ylabel = ['# of non-zero Fisher $[n(F)]$', 'Task loss ($L_{\\mu+1}$)', 'Surrogate loss ($L_{\\mathcal{T} \\leq \\mu}$)','Hessian rank R(H)']\n",
    "ytick = [[0, 500, 1000, 1500, 2000, 2337], [0,0.2,0.4,0.6], [0, 0.1, 0.2, 0.3, 0.4], [0, 500, 1000, 1500, 2000, 2337]]\n",
    "title = ['Number of non-zero importance.', 'Loss', 'Surrogate loss', 'Hessian rank']\n",
    "for i in range(4):\n",
    "    axs[i].plot(range(1,n_tasks+1), plots[i], marker=marker[i], c=colorVal[i])\n",
    "    axs[i].set_ylabel(ylabel[i],fontsize=fontsize)\n",
    "    axs[i].set_yticks(ytick[i])\n",
    "    axs[i].tick_params(labelsize='large', width=3)\n",
    "    axs[i].grid()\n",
    "axs[-1].set_xticks(range(1,n_tasks+1))\n",
    "axs[-1].set_xlabel(\"Trained tasks($\\mathcal{T}$).\",fontsize=fontsize)\n",
    "#axs[0].annotate('', (5, 1053), (5, 2337), arrowprops=dict(arrowstyle='<->'))\n",
    "#axs[0].text(3, 1000 , 'parameter \\n spaces \\n occupied',fontsize=fontsize)\n",
    "axs[-1].annotate('', (9, 1350), (9, 2337), arrowprops=dict(arrowstyle='<->'))\n",
    "axs[-1].text(1, 1700 , 'free parameter spaces',fontsize=fontsize)\n",
    "plt.tight_layout()\n",
    "sns.despine()\n",
    "plt.savefig('AWID_SIFisher_modeleval.pdf',bbox_inches = \"tight\")"
   ]
  },
  {
   "cell_type": "code",
   "execution_count": 53,
   "metadata": {},
   "outputs": [
    {
     "name": "stdout",
     "output_type": "stream",
     "text": [
      "--------------Euclidean distance--------------------\n",
      "Between task 0 and 1 : 3.4252203876418594\n",
      "Between task 1 and 2 : 0.49740664456890216\n",
      "Between task 2 and 3 : 0.8556330075367157\n",
      "Between task 3 and 4 : 1.089167113656975\n",
      "Between task 4 and 5 : 2.8031383683027755\n",
      "Between task 5 and 6 : 1.9073452455888529\n",
      "Between task 6 and 7 : 0.42719510252809223\n",
      "Between task 7 and 8 : 0.6143125565285978\n",
      "--------------Cosine distance--------------------\n",
      "Between task 0 and 1 : 0.951\n",
      "Between task 1 and 2 : 0.999\n",
      "Between task 2 and 3 : 0.997\n",
      "Between task 3 and 4 : 0.995\n",
      "Between task 4 and 5 : 0.971\n",
      "Between task 5 and 6 : 0.987\n",
      "Between task 6 and 7 : 0.999\n",
      "Between task 7 and 8 : 0.999\n",
      "--------------Jaccard similarity--------------------\n",
      "Between task 0 and 1 : 0.5218202163371877\n",
      "Between task 1 and 2 : 0.5580524344569289\n",
      "Between task 2 and 3 : 0.5981907274783265\n",
      "Between task 3 and 4 : 0.48862853204686424\n",
      "Between task 4 and 5 : 0.4584023864766324\n",
      "Between task 5 and 6 : 0.4650098103335513\n",
      "Between task 6 and 7 : 0.5784008307372793\n",
      "Between task 7 and 8 : 0.31287297527706737\n",
      "--------------Sequence Matcher--------------------\n",
      "Between task 0 and 1 : 0.711168164313222\n",
      "Between task 1 and 2 : 0.733846812152332\n",
      "Between task 2 and 3 : 0.7590928540864356\n",
      "Between task 3 and 4 : 0.670517757809157\n",
      "Between task 4 and 5 : 0.6392811296534018\n"
     ]
    },
    {
     "name": "stderr",
     "output_type": "stream",
     "text": [
      "/usr/local/lib/python3.5/dist-packages/ipykernel_launcher.py:5: DeprecationWarning: Calling np.sum(generator) is deprecated, and in the future will give a different result. Use np.sum(np.fromiter(generator)) or the python sum builtin instead.\n",
      "  \"\"\"\n",
      "/usr/local/lib/python3.5/dist-packages/ipykernel_launcher.py:11: DeprecationWarning: Calling np.sum(generator) is deprecated, and in the future will give a different result. Use np.sum(np.fromiter(generator)) or the python sum builtin instead.\n",
      "  # This is added back by InteractiveShellApp.init_path()\n"
     ]
    },
    {
     "name": "stdout",
     "output_type": "stream",
     "text": [
      "Between task 5 and 6 : 0.6397090286692341\n",
      "Between task 6 and 7 : 0.7299957210098417\n",
      "Between task 7 and 8 : 0.47839109970047067\n"
     ]
    },
    {
     "data": {
      "image/png": "[encoded data removed]",
      "text/plain": [
       "<Figure size 216x576 with 4 Axes>"
      ]
     },
     "metadata": {},
     "output_type": "display_data"
    }
   ],
   "source": [
    "#Heuristic metric: Weights Pattern after training each task\n",
    "from math import*\n",
    "#1. Euclidean distance\n",
    "def euclidean_distance(x,y):\n",
    "    return sqrt(sum(pow(a-b,2) for a, b in zip(x, y)))\n",
    "\n",
    "#2. Cosine Similarity\n",
    "def square_rooted(x):\n",
    "    return round(sqrt(sum([a*a for a in x])),3)\n",
    "def cosine_similarity(x,y):\n",
    "    numerator = sum(a*b for a,b in zip(x,y))\n",
    "    denominator = square_rooted(x)*square_rooted(y)\n",
    "    return round(numerator/float(denominator),3)\n",
    "\n",
    "#3. Jaccard similarity\n",
    "def jaccard_similarity(x,y):\n",
    "    intersection_cardinality = len(set.intersection(*[set(x), set(y)]))\n",
    "    union_cardinality = len(set.union(*[set(x), set(y)]))\n",
    "    return intersection_cardinality/float(union_cardinality)\n",
    "\n",
    "#4. Using SequenceMatcher    \n",
    "from difflib import SequenceMatcher\n",
    "\n",
    "Flatten_weights=[]\n",
    "#Flattening the weights into a list\n",
    "def flatten(x):\n",
    "    try:\n",
    "        it = iter(x)\n",
    "    except TypeError:\n",
    "        yield x\n",
    "    else:\n",
    "        for i in it:\n",
    "            for j in flatten(i):\n",
    "                yield j\n",
    "                \n",
    "print(\"--------------Euclidean distance--------------------\")\n",
    "Eu_distance = []\n",
    "for i in range(1,n_tasks):\n",
    "    eu_dist = euclidean_distance(list(flatten(model_weights_save[i-1])),list(flatten(model_weights_save[i])))\n",
    "    Eu_distance.append(eu_dist)\n",
    "    print(\"Between task {0} and {1} : {2}\".format(i-1,i,eu_dist))\n",
    "\n",
    "print(\"--------------Cosine distance--------------------\")\n",
    "Cos_distance = []\n",
    "for i in range(1,n_tasks):\n",
    "    cos_dist = cosine_similarity(list(flatten(model_weights_save[i-1])),list(flatten(model_weights_save[i])))\n",
    "    Cos_distance.append(cos_dist)\n",
    "    print(\"Between task {0} and {1} : {2}\".format(i-1,i,cos_dist))\n",
    "    \n",
    "    \n",
    "print(\"--------------Jaccard similarity--------------------\")\n",
    "Jac_distance = []\n",
    "for i in range(1,n_tasks):\n",
    "    jac_dist = jaccard_similarity(list(flatten(model_weights_save[i-1])),list(flatten(model_weights_save[i])))\n",
    "    Jac_distance.append(jac_dist)\n",
    "    print(\"Between task {0} and {1} : {2}\".format(i-1,i,jac_dist))\n",
    "\n",
    "print(\"--------------Sequence Matcher--------------------\")\n",
    "Seq_matcher = []\n",
    "for i in range(1,n_tasks):\n",
    "    seq_matcher = SequenceMatcher(None,list(flatten(model_weights_save[i-1])),list(flatten(model_weights_save[i]))).ratio()\n",
    "    Seq_matcher.append(seq_matcher)\n",
    "    print(\"Between task {0} and {1} : {2}\".format(i-1,i,seq_matcher))\n",
    "    \n",
    "import pdb\n",
    "figure(figsize=(3, 8))\n",
    "subplots_adjust(hspace=0.25,\n",
    "                    wspace=0.35)\n",
    "axs = [plt.subplot(4,1,1)]#, None, None]\n",
    "for i in range(1, 4):\n",
    "    axs.append(subplot(4, 1, i+1, sharex=axs[0]))\n",
    "fontsize = 13\n",
    "\n",
    "colorVal = ['r','g','b','c','m','k','y']\n",
    "marker=[\"v\",\"^\",\"<\",\">\",\"*\",\"s\"]\n",
    "\n",
    "plots = [Eu_distance,Cos_distance,Jac_distance,Seq_matcher]\n",
    "ylabel = ['Distance value', 'Ratio value', 'Ratio value','Ratio value']\n",
    "ytick = [[0, 1, 2, 3, 4], [0.7, 0.8, 0.9, 1],[0, 0.2, 0.4, 0.6], [0, 0.2, 0.4, 0.6, 0.8]]\n",
    "title = ['Euclidean Distance', 'Cosine Similarity', 'Jaccard Similarity', 'SequenceMatcher']\n",
    "for i in range(4):\n",
    "    axs[i].plot(range(2,n_tasks+1), plots[i], marker=marker[i], c=colorVal[i])\n",
    "    axs[i].set_ylabel(ylabel[i],fontsize=fontsize)\n",
    "    axs[i].set_yticks(ytick[i])\n",
    "    axs[i].tick_params(labelsize='large', width=3)\n",
    "    axs[i].grid()\n",
    "    axs[i].set_title(title[i])\n",
    "axs[-1].set_xticks(range(2,n_tasks+1))\n",
    "axs[-1].set_xlabel(\"Trained tasks($\\mathcal{T}$).\",fontsize=fontsize)\n",
    "plt.tight_layout()\n",
    "sns.despine()\n",
    "plt.savefig('AWID_SIFisher_Similaritymetric.pdf',bbox_inches = \"tight\")"
   ]
  },
  {
   "cell_type": "code",
   "execution_count": 20,
   "metadata": {},
   "outputs": [
    {
     "name": "stdout",
     "output_type": "stream",
     "text": [
      "Euclidean distance between task 0 and 5 : 5.549259472071931\n",
      "Cosine angle between task 0 and 5 : 0.976\n",
      "Jaccard similarity between task 0 and 5 : 0.2591187627662679\n",
      "Sequence angle between task 0 and 5 : 0.40136927685066326\n"
     ]
    },
    {
     "name": "stderr",
     "output_type": "stream",
     "text": [
      "/usr/local/lib/python3.5/dist-packages/ipykernel_launcher.py:5: DeprecationWarning: Calling np.sum(generator) is deprecated, and in the future will give a different result. Use np.sum(np.fromiter(generator)) or the python sum builtin instead.\n",
      "  \"\"\"\n",
      "/usr/local/lib/python3.5/dist-packages/ipykernel_launcher.py:11: DeprecationWarning: Calling np.sum(generator) is deprecated, and in the future will give a different result. Use np.sum(np.fromiter(generator)) or the python sum builtin instead.\n",
      "  # This is added back by InteractiveShellApp.init_path()\n"
     ]
    }
   ],
   "source": [
    "#Heuristic metric: Weights Pattern between task 0 and last task \n",
    "from math import*\n",
    "#1. Euclidean distance\n",
    "def euclidean_distance(x,y):\n",
    "    return sqrt(sum(pow(a-b,2) for a, b in zip(x, y)))\n",
    "\n",
    "#2. Cosine Similarity\n",
    "def square_rooted(x):\n",
    "    return round(sqrt(sum([a*a for a in x])),3)\n",
    "def cosine_similarity(x,y):\n",
    "    numerator = sum(a*b for a,b in zip(x,y))\n",
    "    denominator = square_rooted(x)*square_rooted(y)\n",
    "    return round(numerator/float(denominator),3)\n",
    "\n",
    "#3. Jaccard similarity\n",
    "def jaccard_similarity(x,y):\n",
    "    intersection_cardinality = len(set.intersection(*[set(x), set(y)]))\n",
    "    union_cardinality = len(set.union(*[set(x), set(y)]))\n",
    "    return intersection_cardinality/float(union_cardinality)\n",
    "\n",
    "#4. Using SequenceMatcher    \n",
    "from difflib import SequenceMatcher\n",
    "\n",
    "\n",
    "eu_dist = euclidean_distance(list(flatten(model_weights_save[0])),list(flatten(model_weights_save[-1])))\n",
    "print(\"Euclidean distance between task {0} and {1} : {2}\".format(0,len(model_weights_save)-1,eu_dist))\n",
    "\n",
    "cos_dist = cosine_similarity(list(flatten(model_weights_save[0])),list(flatten(model_weights_save[-1])))\n",
    "print(\"Cosine angle between task {0} and {1} : {2}\".format(0,len(model_weights_save)-1,cos_dist))\n",
    "\n",
    "jac_dist = jaccard_similarity(list(flatten(model_weights_save[0])),list(flatten(model_weights_save[-1])))\n",
    "print(\"Jaccard similarity between task {0} and {1} : {2}\".format(0,len(model_weights_save)-1,jac_dist))\n",
    "\n",
    "seq_matcher = SequenceMatcher(None,list(flatten(model_weights_save[0])),list(flatten(model_weights_save[-1]))).ratio()\n",
    "print(\"Sequence angle between task {0} and {1} : {2}\".format(0,len(model_weights_save)-1,seq_matcher))"
   ]
  },
  {
   "cell_type": "code",
   "execution_count": 24,
   "metadata": {},
   "outputs": [
    {
     "name": "stdout",
     "output_type": "stream",
     "text": [
      "Rank of data for task-0 of shape-(1450552, 123) is: 45\n",
      "----------------------------------------------------------------------\n",
      "Rank of data for task-1 of shape-(52763, 123) is: 8\n",
      "----------------------------------------------------------------------\n",
      "Rank of data for task-2 of shape-(2063, 123) is: 11\n",
      "----------------------------------------------------------------------\n",
      "Rank of data for task-3 of shape-(31164, 123) is: 9\n",
      "----------------------------------------------------------------------\n",
      "Rank of data for task-4 of shape-(3789, 123) is: 18\n",
      "----------------------------------------------------------------------\n",
      "Rank of data for task-5 of shape-(31936, 123) is: 21\n",
      "----------------------------------------------------------------------\n",
      "Rank of data for task-6 of shape-(13015, 123) is: 18\n",
      "----------------------------------------------------------------------\n",
      "Rank of data for task-7 of shape-(2385, 123) is: 8\n",
      "----------------------------------------------------------------------\n",
      "Rank of data for task-8 of shape-(1664, 123) is: 39\n",
      "----------------------------------------------------------------------\n"
     ]
    }
   ],
   "source": [
    "for j in range(n_tasks):\n",
    "    print('Rank of data for task-{0} of shape-{1} is: {2}'.format(j,training_datasets[j][0].shape,matrix_rank(np.matrix(training_datasets[j][0], dtype='float'))))\n",
    "    print('----------------------------------------------------------------------')"
   ]
  },
  {
   "cell_type": "code",
   "execution_count": 25,
   "metadata": {},
   "outputs": [],
   "source": [
    "plt.rc('text', usetex=False)\n",
    "plt.rc('xtick', labelsize=8)\n",
    "plt.rc('ytick', labelsize=8)\n",
    "plt.rc('axes', labelsize=8)\n",
    "\n",
    "def simple_axis(ax):\n",
    "    ax.spines['top'].set_visible(False)\n",
    "    ax.spines['right'].set_visible(False)\n",
    "    ax.get_xaxis().tick_bottom()\n",
    "    ax.get_yaxis().tick_left()\n"
   ]
  },
  {
   "cell_type": "code",
   "execution_count": 26,
   "metadata": {},
   "outputs": [
    {
     "name": "stdout",
     "output_type": "stream",
     "text": [
      "[0.999991600849994, 0.9999316693304703, 0.999974802549982, 0.9840243508045968, 0.9871802904691418, 0.9892550789354635, 0.990838952097133, 0.9885663652091471, 0.9884011124789485]\n"
     ]
    },
    {
     "data": {
      "image/png": "[encoded data removed]",
      "text/plain": [
       "<Figure size 237.6x180 with 1 Axes>"
      ]
     },
     "metadata": {},
     "output_type": "display_data"
    }
   ],
   "source": [
    "#Fractional Correctness = Average of cross validation accuracies of learned tasks only after training each task \n",
    "fig = plt.figure(figsize=(3.3,2.5))\n",
    "ax = plt.subplot(111)\n",
    "\n",
    "for cval in sorted_keys:\n",
    "    mean_stuff = []\n",
    "    std_stuff = []\n",
    "    for i in range(len(data['mean'][cval])):\n",
    "        mean_stuff.append(data['mean'][cval][i][:i+1].mean())\n",
    "        std_stuff.append(np.sqrt((data['std'][cval][i][:i+1]**2).sum())/(n_stats*np.sqrt(n_stats)))\n",
    "    # plot(range(1,n_tasks+1), mean_stuff, 'o-', label=\"c=%g\"%cval)\n",
    "    errorbar(range(1,n_tasks+1), mean_stuff, yerr=std_stuff, fmt='o-', label=\"c=%g\"%cval)\n",
    "        \n",
    "axhline(data['mean'][cval][0][0], linestyle='--', color='k')\n",
    "xlabel('Number of tasks')\n",
    "ylabel('Fraction correct')\n",
    "legend(loc='best')\n",
    "xlim(0.5, n_tasks+1)\n",
    "ylim(0.1, 1.02)\n",
    "# grid('on')\n",
    "# sns.despine()\n",
    "print(mean_stuff)\n",
    "simple_axis(ax)\n",
    "plt.savefig('2attack_fractional_correct_AWID.pdf')"
   ]
  },
  {
   "cell_type": "code",
   "execution_count": 27,
   "metadata": {},
   "outputs": [
    {
     "data": {
      "text/plain": [
       "9"
      ]
     },
     "execution_count": 27,
     "metadata": {},
     "output_type": "execute_result"
    }
   ],
   "source": [
    "len(mean_stuff)"
   ]
  },
  {
   "cell_type": "code",
   "execution_count": 29,
   "metadata": {},
   "outputs": [
    {
     "data": {
      "image/png": "[encoded data removed]",
      "text/plain": [
       "<Figure size 432x288 with 1 Axes>"
      ]
     },
     "metadata": {},
     "output_type": "display_data"
    },
    {
     "name": "stdout",
     "output_type": "stream",
     "text": [
      "[0.9985, 0.9828, 0.9905, 0.9901, 0.9839, 0.9868, 0.9819, 0.9872, 0.9878, 0.9879]\n"
     ]
    }
   ],
   "source": [
    "import matplotlib.pyplot as plt\n",
    "import matplotlib     \n",
    "matplotlib.rc('xtick', labelsize=14)     \n",
    "matplotlib.rc('ytick', labelsize=14)\n",
    "n_tasks=10\n",
    "mean_stuff = [0.9985, 0.9828, 0.9905, 0.9901, 0.9839, 0.9868, 0.9819, 0.9872, 0.9878, 0.9879]\n",
    "Hess_rank=[64, 117, 220, 293, 433, 474, 513, 528, 752, 780] #calculated previously\n",
    "plt.plot(Hess_rank,mean_stuff,'go-', linewidth=2)\n",
    "for i,j,k in zip(Hess_rank,mean_stuff,range(n_tasks)):\n",
    "    plt.annotate(str(k),xy=(i,j),color='r', fontsize=14)\n",
    "plt.xlabel('Hessian Matrix Rank',fontsize=12)\n",
    "plt.ylabel('Fractional Correct Accuracy(*100%)',fontsize=12)\n",
    "plt.yticks([1, 0.95, 0.90, 0.85, 0.80])\n",
    "plt.savefig('Fractioncorrect-Hessian-AWID.pdf')\n",
    "plt.show()\n",
    "print(mean_stuff)"
   ]
  },
  {
   "cell_type": "code",
   "execution_count": 36,
   "metadata": {},
   "outputs": [
    {
     "data": {
      "text/plain": [
       "(9, 90)"
      ]
     },
     "execution_count": 36,
     "metadata": {},
     "output_type": "execute_result"
    }
   ],
   "source": [
    "len(model_weights_save),len(save_weights_epoch),"
   ]
  },
  {
   "cell_type": "code",
   "execution_count": 27,
   "metadata": {},
   "outputs": [
    {
     "data": {
      "text/plain": [
       "8"
      ]
     },
     "execution_count": 27,
     "metadata": {},
     "output_type": "execute_result"
    }
   ],
   "source": [
    "model_weights_save = model_weights_save[n_tasks:]\n",
    "len(model_weights_save)"
   ]
  },
  {
   "cell_type": "code",
   "execution_count": 28,
   "metadata": {},
   "outputs": [
    {
     "data": {
      "text/plain": [
       "80"
      ]
     },
     "execution_count": 28,
     "metadata": {},
     "output_type": "execute_result"
    }
   ],
   "source": [
    "save_weights_epoch = save_weights_epoch[n_tasks*epochs_per_task:]\n",
    "len(save_weights_epoch)"
   ]
  },
  {
   "cell_type": "code",
   "execution_count": 37,
   "metadata": {},
   "outputs": [],
   "source": [
    "#Weights Pattern after training each task\n",
    "Flatten_weights=[]\n",
    "#Flattening the weights into a list\n",
    "def flatten(x):\n",
    "    try:\n",
    "        it = iter(x)\n",
    "    except TypeError:\n",
    "        yield x\n",
    "    else:\n",
    "        for i in it:\n",
    "            for j in flatten(i):\n",
    "                yield j\n",
    "                \n",
    "for i in range(len(model_weights_save)):\n",
    "    Flatten_weights.append(list(flatten(model_weights_save[i]))) \n",
    "\n",
    "Extract_model_params = [];\n",
    "#For model parameters without consolidation use val, with consolidation use val+80 \n",
    "for i in range(n_tasks):   \n",
    "    Extract_model_params.append(Flatten_weights[i])"
   ]
  },
  {
   "cell_type": "code",
   "execution_count": 38,
   "metadata": {},
   "outputs": [
    {
     "data": {
      "text/plain": [
       "(9, 9)"
      ]
     },
     "execution_count": 38,
     "metadata": {},
     "output_type": "execute_result"
    }
   ],
   "source": [
    "len(Extract_model_params),n_tasks"
   ]
  },
  {
   "cell_type": "code",
   "execution_count": 176,
   "metadata": {},
   "outputs": [
    {
     "name": "stderr",
     "output_type": "stream",
     "text": [
      "/usr/local/lib/python3.5/dist-packages/ipykernel_launcher.py:5: DeprecationWarning: Calling np.sum(generator) is deprecated, and in the future will give a different result. Use np.sum(np.from_iter(generator)) or the python sum builtin instead.\n",
      "  \"\"\"\n",
      "/usr/local/lib/python3.5/dist-packages/ipykernel_launcher.py:20: DeprecationWarning: Calling np.sum(generator) is deprecated, and in the future will give a different result. Use np.sum(np.from_iter(generator)) or the python sum builtin instead.\n"
     ]
    },
    {
     "name": "stdout",
     "output_type": "stream",
     "text": [
      "Eucledian Parameter shift after task 1 : 2.7824163325561404\n",
      "Eucledian Parameter shift after task 2 : 3.551588252916112\n",
      "Eucledian Parameter shift after task 3 : 6.5737174840256545\n",
      "Eucledian Parameter shift after task 4 : 4.270053869921836\n",
      "Eucledian Parameter shift after task 5 : 6.019747971734411\n",
      "Eucledian Parameter shift after task 6 : 0.3157356820758686\n",
      "Eucledian Parameter shift after task 7 : 4.535606333035204\n",
      "Eucledian Parameter shift after task 8 : 3.0939059708072034\n",
      "Cosine Parameter shift after task 1 : 0.974\n",
      "Cosine Parameter shift after task 2 : 0.959\n",
      "Cosine Parameter shift after task 3 : 0.881\n",
      "Cosine Parameter shift after task 4 : 0.956\n",
      "Cosine Parameter shift after task 5 : 0.926\n",
      "Cosine Parameter shift after task 6 : 1.0\n",
      "Cosine Parameter shift after task 7 : 0.964\n",
      "Cosine Parameter shift after task 8 : 0.984\n",
      "Jaccard Parameter shift after task 1 : 0.6688818260618319\n",
      "Jaccard Parameter shift after task 2 : 0.6904347826086956\n",
      "Jaccard Parameter shift after task 3 : 0.587823275862069\n",
      "Jaccard Parameter shift after task 4 : 0.5754692043351837\n",
      "Jaccard Parameter shift after task 5 : 0.5695674830640959\n",
      "Jaccard Parameter shift after task 6 : 0.6433585313174947\n",
      "Jaccard Parameter shift after task 7 : 0.4555345316934721\n",
      "Jaccard Parameter shift after task 8 : 0.622740372019911\n",
      "Heuristic Parameter shift after task 1 : 0.8144171779141104\n",
      "Heuristic Parameter shift after task 2 : 0.8269938650306748\n",
      "Heuristic Parameter shift after task 3 : 0.7368098159509202\n",
      "Heuristic Parameter shift after task 4 : 0.7457055214723927\n",
      "Heuristic Parameter shift after task 5 : 0.7392638036809815\n",
      "Heuristic Parameter shift after task 6 : 0.7904907975460123\n",
      "Heuristic Parameter shift after task 7 : 0.5996932515337423\n",
      "Heuristic Parameter shift after task 8 : 0.7748466257668711\n"
     ]
    }
   ],
   "source": [
    "#Weights Pattern after training each task\n",
    "from math import*\n",
    "#1. Euclidean distance\n",
    "def euclidean_distance(x,y):\n",
    "    return sqrt(sum(pow(a-b,2) for a, b in zip(x, y)))\n",
    "#2. Manhattan Distance\n",
    "def manhattan_distance(x,y):\n",
    "    return sum(abs(a-b) for a,b in zip(x,y))\n",
    "#3.  Minkowski distance \n",
    "from decimal import Decimal\n",
    "def nth_root(value, n_root):\n",
    "    root_value = 1/float(n_root)\n",
    "    return round (Decimal(value) ** Decimal(root_value),3)\n",
    "def minkowski_distance(x,y,p_value):\n",
    "    return nth_root(sum(pow(abs(a-b),p_value) for a,b in zip(x, y)),p_value)\n",
    "#4. Cosine Similarity\n",
    "def square_rooted(x):\n",
    "    return round(sqrt(sum([a*a for a in x])),3)\n",
    "def cosine_similarity(x,y):\n",
    "    numerator = sum(a*b for a,b in zip(x,y))\n",
    "    denominator = square_rooted(x)*square_rooted(y)\n",
    "    return round(numerator/float(denominator),3)\n",
    "#5. Jaccard similarity\n",
    "def jaccard_similarity(x,y):\n",
    "    intersection_cardinality = len(set.intersection(*[set(x), set(y)]))\n",
    "    union_cardinality = len(set.union(*[set(x), set(y)]))\n",
    "    return intersection_cardinality/float(union_cardinality)\n",
    "#6. Using Heuristic    \n",
    "import difflib \n",
    "\n",
    "for i in [0,1,2,3,4,5,6,7]:\n",
    "    print(\"Eucledian Parameter shift after task {0} :\".format(i+1),euclidean_distance(Extract_model_params[i],Extract_model_params[i+1]))\n",
    "#for i in [0,1,2,3]:\n",
    "#    print(\"Manhattan Parameter shift after task {0} :\".format(i+1),manhattan_distance(Extract_model_params[i],Extract_model_params[i+1]))\n",
    "#for i in [0,1,2,3]:\n",
    "#    print(\"Minkowsk iParameter shift after task {0} :\".format(i+1),minkowski_distance(Extract_model_params[i],Extract_model_params[i+1],3))\n",
    "for i in [0,1,2,3,4,5,6,7]:\n",
    "    print(\"Cosine Parameter shift after task {0} :\".format(i+1),cosine_similarity(Extract_model_params[i],Extract_model_params[i+1]))\n",
    "for i in [0,1,2,3,4,5,6,7]:\n",
    "    print(\"Jaccard Parameter shift after task {0} :\".format(i+1),jaccard_similarity(Extract_model_params[i],Extract_model_params[i+1]))\n",
    "for i in [0,1,2,3,4,5,6,7]:\n",
    "    print(\"Heuristic Parameter shift after task {0} :\".format(i+1),difflib.SequenceMatcher(None,Extract_model_params[i],Extract_model_params[i+1]).ratio())"
   ]
  },
  {
   "cell_type": "code",
   "execution_count": 39,
   "metadata": {},
   "outputs": [
    {
     "name": "stdout",
     "output_type": "stream",
     "text": [
      "8\n"
     ]
    }
   ],
   "source": [
    "#Counting the number of changed parameters\n",
    "changed_model_parameters=[]\n",
    "for i in range(1,len(Extract_model_params)):\n",
    "    temp=[]\n",
    "    for j,k in zip(Extract_model_params[i],Extract_model_params[i-1]):\n",
    "        temp.append(abs(i-j))\n",
    "    changed_model_parameters.append(temp)\n",
    "print(len(changed_model_parameters))\n",
    "\n",
    "import csv\n",
    "#Save the model parameters in text file\n",
    "with open('temp', 'w') as myfile:\n",
    "    wr = csv.writer(myfile, quoting=csv.QUOTE_ALL)\n",
    "    wr.writerow(Extract_model_params)"
   ]
  },
  {
   "cell_type": "code",
   "execution_count": 40,
   "metadata": {},
   "outputs": [
    {
     "name": "stdout",
     "output_type": "stream",
     "text": [
      "-----After learning 2 task-----\n",
      "1e-05 ----> 0\n",
      "0.0001 ----> 0\n",
      "0.001 ----> 0\n",
      "0.01 ----> 0\n",
      "0.1 ----> 14\n",
      "-----After learning 3 task-----\n",
      "1e-05 ----> 0\n",
      "0.0001 ----> 0\n",
      "0.001 ----> 0\n",
      "0.01 ----> 0\n",
      "0.1 ----> 7\n",
      "-----After learning 4 task-----\n",
      "1e-05 ----> 0\n",
      "0.0001 ----> 0\n",
      "0.001 ----> 0\n",
      "0.01 ----> 0\n",
      "0.1 ----> 2\n",
      "-----After learning 5 task-----\n",
      "1e-05 ----> 0\n",
      "0.0001 ----> 0\n",
      "0.001 ----> 0\n",
      "0.01 ----> 0\n",
      "0.1 ----> 0\n",
      "-----After learning 6 task-----\n",
      "1e-05 ----> 0\n",
      "0.0001 ----> 0\n",
      "0.001 ----> 0\n",
      "0.01 ----> 0\n",
      "0.1 ----> 0\n",
      "-----After learning 7 task-----\n",
      "1e-05 ----> 0\n"
     ]
    },
    {
     "name": "stderr",
     "output_type": "stream",
     "text": [
      "/usr/local/lib/python3.5/dist-packages/ipykernel_launcher.py:5: DeprecationWarning: Calling np.sum(generator) is deprecated, and in the future will give a different result. Use np.sum(np.from_iter(generator)) or the python sum builtin instead.\n",
      "  \"\"\"\n"
     ]
    },
    {
     "name": "stdout",
     "output_type": "stream",
     "text": [
      "0.0001 ----> 0\n",
      "0.001 ----> 0\n",
      "0.01 ----> 0\n",
      "0.1 ----> 0\n",
      "-----After learning 8 task-----\n",
      "1e-05 ----> 0\n",
      "0.0001 ----> 0\n",
      "0.001 ----> 0\n",
      "0.01 ----> 0\n",
      "0.1 ----> 0\n",
      "-----After learning 9 task-----\n",
      "1e-05 ----> 0\n",
      "0.0001 ----> 0\n",
      "0.001 ----> 0\n",
      "0.01 ----> 0\n",
      "0.1 ----> 0\n"
     ]
    }
   ],
   "source": [
    "#Number of parameters unchanged within the thresold. Checked for five threshold values as [1e-5, 1e-4, 1e-3, 1e-2, 1e-1].\n",
    "for i in range(len(changed_model_parameters)):\n",
    "    print('-----After learning',i+2,'task-----')\n",
    "    for j in [1e-5, 1e-4, 1e-3, 1e-2, 1e-1]:\n",
    "        print(j,'---->',sum(k < j for k in changed_model_parameters[i]))"
   ]
  },
  {
   "cell_type": "code",
   "execution_count": 41,
   "metadata": {},
   "outputs": [
    {
     "name": "stdout",
     "output_type": "stream",
     "text": [
      "Rank of the Autocorrelation Matrix for task= 0 is : 0\n",
      "Rank of the Autocorrelation Matrix for task= 1 is : 0\n",
      "Rank of the Autocorrelation Matrix for task= 2 is : 0\n",
      "Rank of the Autocorrelation Matrix for task= 3 is : 0\n",
      "Rank of the Autocorrelation Matrix for task= 4 is : 0\n",
      "Rank of the Autocorrelation Matrix for task= 5 is : 0\n",
      "Rank of the Autocorrelation Matrix for task= 6 is : 0\n",
      "Rank of the Autocorrelation Matrix for task= 7 is : 0\n",
      "Rank of the Autocorrelation Matrix for task= 8 is : 0\n"
     ]
    }
   ],
   "source": [
    "import pandas as pd\n",
    "from numpy.linalg import matrix_rank\n",
    "import math\n",
    "corr_matrix = []\n",
    "corr_row = []\n",
    "Rank_corr_matrix=[]\n",
    "for j in range(n_tasks):\n",
    "    df = pd.DataFrame(training_datasets[j][0])\n",
    "    correlation_matrix = df.corr().values\n",
    "    correlation_matrix = np.nan_to_num(correlation_matrix)\n",
    "    for k in range(len(correlation_matrix)):\n",
    "        for i in range(len(correlation_matrix)):\n",
    "            corr_elem = (math.ceil(correlation_matrix[k][i]*1e10)/1e10)\n",
    "            corr_row.append(np.around(corr_elem))\n",
    "        corr_matrix.append(corr_row)\n",
    "        corr_row = []\n",
    "    rank_corr_matrix=np.linalg.matrix_rank(np.asarray(corr_matrix))\n",
    "    Rank_corr_matrix.append(rank_corr_matrix)\n",
    "    print('Rank of the Autocorrelation Matrix for task=',j,'is :',rank_corr_matrix)"
   ]
  },
  {
   "cell_type": "code",
   "execution_count": 42,
   "metadata": {},
   "outputs": [
    {
     "name": "stdout",
     "output_type": "stream",
     "text": [
      "Rank of the Hessian Matrix after task= 0 is : 343\n",
      "Rank of the Hessian Matrix after task= 1 is : 394\n",
      "Rank of the Hessian Matrix after task= 2 is : 452\n",
      "Rank of the Hessian Matrix after task= 3 is : 530\n",
      "Rank of the Hessian Matrix after task= 4 is : 707\n",
      "Rank of the Hessian Matrix after task= 5 is : 739\n",
      "Rank of the Hessian Matrix after task= 6 is : 765\n",
      "Rank of the Hessian Matrix after task= 7 is : 783\n",
      "Rank of the Hessian Matrix after task= 8 is : 1094\n"
     ]
    }
   ],
   "source": [
    "#Weights Pattern after training each task\n",
    "Flatten_weights=[]\n",
    "#Flattening the weights into a list\n",
    "def flatten(x):\n",
    "    try:\n",
    "        it = iter(x)\n",
    "    except TypeError:\n",
    "        yield x\n",
    "    else:\n",
    "        for i in it:\n",
    "            for j in flatten(i):\n",
    "                yield j\n",
    "                \n",
    "for i in range(len(model_weights_save)):\n",
    "    if i == 0:\n",
    "        Flatten_weights.append(list(flatten(save_weights_epoch[epochs_per_task-2])))\n",
    "        Flatten_weights.append(list(flatten(save_weights_epoch[epochs_per_task-1])))\n",
    "    Flatten_weights.append(list(flatten(model_weights_save[i]))) \n",
    "\n",
    "Extract_model_params = [];\n",
    "#For model parameters without consolidation use val, with consolidation use val+80 \n",
    "for i in range(len(Flatten_weights)):   \n",
    "    Extract_model_params.append(Flatten_weights[i])\n",
    "    \n",
    "gradient_save=[]\n",
    "for i in range(1,len(Extract_model_params)):\n",
    "    if i == 2:\n",
    "        pass\n",
    "    else :\n",
    "        temp=list(np.asarray(Extract_model_params[i])-np.asarray(Extract_model_params[i-1]))\n",
    "        gradient = [j/0.001 for j in temp]\n",
    "        gradient_save.append(gradient)\n",
    "    \n",
    "#Creating the Hessian matrix from the gradients\n",
    "import math\n",
    "Hessian_matrix = []\n",
    "Hessian_row = []\n",
    "Rank_Hessian_matrix = []\n",
    "for k in range(len(gradient_save)):\n",
    "    for i in range(len(gradient_save[k])):\n",
    "        partial_deriv_1 = (math.ceil(gradient_save[k][i]*1e10)/1e10)\n",
    "        for j in range(len(gradient_save[k])):\n",
    "            partial_deriv_2 = (math.ceil(gradient_save[k][j]*1e10)/1e10)\n",
    "            Hessian_row.append(np.around(partial_deriv_1*partial_deriv_2))\n",
    "        Hessian_matrix.append(Hessian_row)\n",
    "        Hessian_row = []\n",
    "    rank_Hessian_matrix = np.linalg.matrix_rank(np.asarray(Hessian_matrix))\n",
    "    Rank_Hessian_matrix.append(rank_Hessian_matrix)\n",
    "    print('Rank of the Hessian Matrix after task=',k,'is :',rank_Hessian_matrix)"
   ]
  },
  {
   "cell_type": "code",
   "execution_count": 43,
   "metadata": {},
   "outputs": [
    {
     "ename": "IndexError",
     "evalue": "list index out of range",
     "output_type": "error",
     "traceback": [
      "\u001b[0;31m---------------------------------------------------------------------------\u001b[0m",
      "\u001b[0;31mIndexError\u001b[0m                                Traceback (most recent call last)",
      "\u001b[0;32m<ipython-input-43-21ffaa1b9d7b>\u001b[0m in \u001b[0;36m<module>\u001b[0;34m()\u001b[0m\n\u001b[1;32m     20\u001b[0m     \u001b[0;32mif\u001b[0m \u001b[0mcval\u001b[0m \u001b[0;34m==\u001b[0m \u001b[0;36m1\u001b[0m\u001b[0;34m:\u001b[0m\u001b[0;34m\u001b[0m\u001b[0m\n\u001b[1;32m     21\u001b[0m         \u001b[0;32mfor\u001b[0m \u001b[0mi\u001b[0m \u001b[0;32min\u001b[0m \u001b[0mrange\u001b[0m\u001b[0;34m(\u001b[0m\u001b[0;36m1\u001b[0m\u001b[0;34m,\u001b[0m\u001b[0mn_tasks\u001b[0m\u001b[0;34m+\u001b[0m\u001b[0;36m1\u001b[0m\u001b[0;34m)\u001b[0m\u001b[0;34m:\u001b[0m\u001b[0;34m\u001b[0m\u001b[0m\n\u001b[0;32m---> 22\u001b[0;31m             \u001b[0mExtract_model_params\u001b[0m\u001b[0;34m.\u001b[0m\u001b[0mappend\u001b[0m\u001b[0;34m(\u001b[0m\u001b[0mFlatten_weights\u001b[0m\u001b[0;34m[\u001b[0m\u001b[0mn_tasks\u001b[0m\u001b[0;34m+\u001b[0m\u001b[0mi\u001b[0m\u001b[0;34m]\u001b[0m\u001b[0;34m)\u001b[0m\u001b[0;34m\u001b[0m\u001b[0m\n\u001b[0m\u001b[1;32m     23\u001b[0m \u001b[0;34m\u001b[0m\u001b[0m\n\u001b[1;32m     24\u001b[0m \u001b[0mgradient_save\u001b[0m\u001b[0;34m=\u001b[0m\u001b[0;34m[\u001b[0m\u001b[0;34m]\u001b[0m\u001b[0;34m\u001b[0m\u001b[0m\n",
      "\u001b[0;31mIndexError\u001b[0m: list index out of range"
     ]
    }
   ],
   "source": [
    "#Weights Pattern after training each task\n",
    "Flatten_weights=[]\n",
    "#Flattening the weights into a list\n",
    "def flatten(x):\n",
    "    try:\n",
    "        it = iter(x)\n",
    "    except TypeError:\n",
    "        yield x\n",
    "    else:\n",
    "        for i in it:\n",
    "            for j in flatten(i):\n",
    "                yield j\n",
    "                \n",
    "for i in range(len(model_weights_save)):\n",
    "    Flatten_weights.append(list(flatten(model_weights_save[i]))) \n",
    "\n",
    "Extract_model_params = [];\n",
    "#For model parameters without consolidation use val, with consolidation use val+80 \n",
    "for cval in cvals:\n",
    "    if cval == 1:\n",
    "        for i in range(0,n_tasks):   \n",
    "            Extract_model_params.append(Flatten_weights[n_tasks])\n",
    "    \n",
    "gradient_save=[]\n",
    "for i in range(1,len(Extract_model_params)):\n",
    "    temp=list(np.asarray(Extract_model_params[i-1])-np.asarray(Extract_model_params[i]))\n",
    "    \n",
    "    gradient = [j/0.001 for j in temp]\n",
    "    gradient_save.append(gradient)\n",
    "    \n",
    "#Creating the Hessian matrix from the gradients\n",
    "import math\n",
    "Hessian_matrix = []\n",
    "Hessian_row = []\n",
    "for k in range(len(gradient_save)):\n",
    "    for i in range(len(gradient_save[k])):\n",
    "        partial_deriv_1 = (math.ceil(gradient_save[k][i]*1e10)/1e10)\n",
    "        for j in range(len(gradient_save[k])):\n",
    "            partial_deriv_2 = (math.ceil(gradient_save[k][j]*1e10)/1e10)\n",
    "            Hessian_row.append(np.around(partial_deriv_1*partial_deriv_2))\n",
    "        Hessian_matrix.append(Hessian_row)\n",
    "        Hessian_row = []\n",
    "    print('Rank of the Hessian Matrix for k=',k,'is :',np.linalg.matrix_rank(np.asarray(Hessian_matrix)))"
   ]
  },
  {
   "cell_type": "code",
   "execution_count": 94,
   "metadata": {},
   "outputs": [
    {
     "name": "stdout",
     "output_type": "stream",
     "text": [
      "Rank of the Hessian Matrix for k= 0 is : 3041 . Sum:  3041\n",
      "Rank of the Hessian Matrix for k= 1 is : 544 . Sum:  3585\n",
      "Rank of the Hessian Matrix for k= 2 is : 420 . Sum:  4005\n",
      "Rank of the Hessian Matrix for k= 3 is : 596 . Sum:  4601\n",
      "Rank of the Hessian Matrix for k= 4 is : 409 . Sum:  5010\n",
      "Rank of the Hessian Matrix for k= 5 is : 332 . Sum:  5342\n",
      "Rank of the Hessian Matrix for k= 6 is : 420 . Sum:  5762\n",
      "Rank of the Hessian Matrix for k= 7 is : 764 . Sum:  6526\n",
      "Rank of the Hessian Matrix for k= 8 is : 416 . Sum:  6942\n"
     ]
    }
   ],
   "source": [
    "#Weights Pattern after training each task\n",
    "Flatten_weights=[]\n",
    "#Flattening the weights into a list\n",
    "def flatten(x):\n",
    "    try:\n",
    "        it = iter(x)\n",
    "    except TypeError:\n",
    "        yield x\n",
    "    else:\n",
    "        for i in it:\n",
    "            for j in flatten(i):\n",
    "                yield j\n",
    "                \n",
    "for i in range(len(model_weights_save)):\n",
    "    Flatten_weights.append(list(flatten(model_weights_save[i]))) \n",
    "\n",
    "Extract_model_params = [];\n",
    "#For model parameters without consolidation use val, with consolidation use val+80 \n",
    "for cval in cvals:\n",
    "    if cval == 1:\n",
    "        for i in range(n_tasks+1):   \n",
    "            Extract_model_params.append(Flatten_weights[n_tasks+i])\n",
    "    \n",
    "gradient_save=[]\n",
    "for i in range(1,len(Extract_model_params)):\n",
    "    temp=list(np.asarray(Extract_model_params[i-1])-np.asarray(Extract_model_params[i]))\n",
    "    \n",
    "    gradient = [j/0.001 for j in temp]\n",
    "    gradient_save.append(gradient)\n",
    "    \n",
    "#Creating the Hessian matrix from the gradients\n",
    "import math\n",
    "Hessian_matrix = []\n",
    "Hessian_row = []\n",
    "Hessian_rank=[]\n",
    "for k in range(len(gradient_save)):\n",
    "    for i in range(len(gradient_save[k])):\n",
    "        partial_deriv_1 = (math.ceil(gradient_save[k][i]*1e10)/1e10)\n",
    "        for j in range(len(gradient_save[k])):\n",
    "            partial_deriv_2 = (math.ceil(gradient_save[k][j]*1e10)/1e10)\n",
    "            Hessian_row.append(np.around(partial_deriv_1*partial_deriv_2))\n",
    "        Hessian_matrix.append(Hessian_row)\n",
    "        Hessian_row = []\n",
    "    rank_curr_hessian = np.linalg.matrix_rank(np.asarray(Hessian_matrix))\n",
    "    Hessian_rank.append(rank_curr_hessian)\n",
    "    print('Rank of the Hessian Matrix for k=',k,'is :',rank_curr_hessian,'. Sum: ',sum(Hessian_rank))\n",
    "    Hessian_matrix = []"
   ]
  },
  {
   "cell_type": "code",
   "execution_count": 52,
   "metadata": {},
   "outputs": [],
   "source": [
    "#Saving the parameters for future use\n",
    "import pickle\n",
    "with open(\"AWID_Parameters.txt\", \"wb\") as fp:   #Pickling\n",
    "    pickle.dump(model_weights_save, fp)\n",
    "    \n",
    "with open(\"AWID_Parameters.txt\", \"rb\") as fp:   # Unpickling\n",
    "    b = pickle.load(fp)"
   ]
  },
  {
   "cell_type": "code",
   "execution_count": null,
   "metadata": {},
   "outputs": [],
   "source": []
  }
 ],
 "metadata": {
  "kernelspec": {
   "display_name": "Python 3",
   "language": "python",
   "name": "python3"
  },
  "language_info": {
   "codemirror_mode": {
    "name": "ipython",
    "version": 3
   },
   "file_extension": ".py",
   "mimetype": "text/x-python",
   "name": "python",
   "nbconvert_exporter": "python",
   "pygments_lexer": "ipython3",
   "version": "3.5.2"
  }
 },
 "nbformat": 4,
 "nbformat_minor": 2
}
