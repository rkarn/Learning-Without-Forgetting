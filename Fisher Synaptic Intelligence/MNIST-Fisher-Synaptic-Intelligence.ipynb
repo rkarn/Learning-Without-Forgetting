{
 "cells": [
  {
   "cell_type": "code",
   "execution_count": 1,
   "metadata": {
    "scrolled": false
   },
   "outputs": [
    {
     "name": "stdout",
     "output_type": "stream",
     "text": [
      "Populating the interactive namespace from numpy and matplotlib\n"
     ]
    },
    {
     "name": "stderr",
     "output_type": "stream",
     "text": [
      "/usr/local/lib/python3.5/dist-packages/tensorflow/python/framework/dtypes.py:526: FutureWarning: Passing (type, 1) or '1type' as a synonym of type is deprecated; in a future version of numpy, it will be understood as (type, (1,)) / '(1,)type'.\n",
      "  _np_qint8 = np.dtype([(\"qint8\", np.int8, 1)])\n",
      "/usr/local/lib/python3.5/dist-packages/tensorflow/python/framework/dtypes.py:527: FutureWarning: Passing (type, 1) or '1type' as a synonym of type is deprecated; in a future version of numpy, it will be understood as (type, (1,)) / '(1,)type'.\n",
      "  _np_quint8 = np.dtype([(\"quint8\", np.uint8, 1)])\n",
      "/usr/local/lib/python3.5/dist-packages/tensorflow/python/framework/dtypes.py:528: FutureWarning: Passing (type, 1) or '1type' as a synonym of type is deprecated; in a future version of numpy, it will be understood as (type, (1,)) / '(1,)type'.\n",
      "  _np_qint16 = np.dtype([(\"qint16\", np.int16, 1)])\n",
      "/usr/local/lib/python3.5/dist-packages/tensorflow/python/framework/dtypes.py:529: FutureWarning: Passing (type, 1) or '1type' as a synonym of type is deprecated; in a future version of numpy, it will be understood as (type, (1,)) / '(1,)type'.\n",
      "  _np_quint16 = np.dtype([(\"quint16\", np.uint16, 1)])\n",
      "/usr/local/lib/python3.5/dist-packages/tensorflow/python/framework/dtypes.py:530: FutureWarning: Passing (type, 1) or '1type' as a synonym of type is deprecated; in a future version of numpy, it will be understood as (type, (1,)) / '(1,)type'.\n",
      "  _np_qint32 = np.dtype([(\"qint32\", np.int32, 1)])\n",
      "/usr/local/lib/python3.5/dist-packages/tensorflow/python/framework/dtypes.py:535: FutureWarning: Passing (type, 1) or '1type' as a synonym of type is deprecated; in a future version of numpy, it will be understood as (type, (1,)) / '(1,)type'.\n",
      "  np_resource = np.dtype([(\"resource\", np.ubyte, 1)])\n",
      "/usr/local/lib/python3.5/dist-packages/h5py/__init__.py:36: FutureWarning: Conversion of the second argument of issubdtype from `float` to `np.floating` is deprecated. In future, it will be treated as `np.float64 == np.dtype(float).type`.\n",
      "  from ._conv import register_converters as _register_converters\n"
     ]
    },
    {
     "name": "stdout",
     "output_type": "stream",
     "text": [
      "\n",
      "WARNING: The TensorFlow contrib module will not be included in TensorFlow 2.0.\n",
      "For more information, please see:\n",
      "  * https://github.com/tensorflow/community/blob/master/rfcs/20180907-contrib-sunset.md\n",
      "  * https://github.com/tensorflow/addons\n",
      "If you depend on functionality not listed there, please file an issue.\n",
      "\n"
     ]
    },
    {
     "name": "stderr",
     "output_type": "stream",
     "text": [
      "Using TensorFlow backend.\n"
     ]
    }
   ],
   "source": [
    "%load_ext autoreload\n",
    "%autoreload 2\n",
    "%pylab inline\n",
    "\n",
    "import tensorflow as tf\n",
    "slim = tf.contrib.slim\n",
    "graph_replace = tf.contrib.graph_editor.graph_replace\n",
    "\n",
    "import sys, os\n",
    "sys.path.extend([os.path.expanduser('..')])\n",
    "from pathint import utils\n",
    "import seaborn as sns\n",
    "sns.set_style(\"ticks\")\n",
    "\n",
    "from tqdm import trange, tqdm\n",
    "\n",
    "# import operator\n",
    "import matplotlib.colors as colors\n",
    "import matplotlib.cm as cmx\n",
    "\n",
    "rcParams['pdf.fonttype'] = 42\n",
    "rcParams['ps.fonttype'] = 42\n",
    "select = tf.select if hasattr(tf, 'select') else tf.where"
   ]
  },
  {
   "cell_type": "code",
   "execution_count": 2,
   "metadata": {},
   "outputs": [],
   "source": [
    "# Data params\n",
    "input_dim = 784\n",
    "output_dim = 10\n",
    "\n",
    "# Network params\n",
    "n_hidden_units = 50\n",
    "activation_fn = tf.nn.relu\n",
    "\n",
    "# Optimization params\n",
    "batch_size = 1000\n",
    "epochs_per_task = 5\n",
    "\n",
    "n_stats = 1\n",
    "\n",
    "# Reset optimizer after each age\n",
    "reset_optimizer = True"
   ]
  },
  {
   "cell_type": "code",
   "execution_count": 3,
   "metadata": {},
   "outputs": [
    {
     "name": "stdout",
     "output_type": "stream",
     "text": [
      "WARNING:tensorflow:From /usr/local/lib/python3.5/dist-packages/tensorflow/python/framework/op_def_library.py:263: colocate_with (from tensorflow.python.framework.ops) is deprecated and will be removed in a future version.\n",
      "Instructions for updating:\n",
      "Colocations handled automatically by placer.\n"
     ]
    }
   ],
   "source": [
    "from keras.utils import np_utils\n",
    "\n",
    "task_labels = [[0,1], [2,3], [4,5], [6,7], [8,9]]\n",
    "#task_labels = [[0,1], [2,3], [4,5], [6,7], [8,9], [4,6],[8,1],[0,3],[2,4],[5,7]]\n",
    "#task_labels = [[0,1], [2,3], [4,5], [6,7], [8,9], [4,6],[8,1],[0,3],[2,9],[5,7]]\n",
    "# task_labels = [[0,1,2,3,4], [5,6,7,8,9]]\n",
    "n_tasks = len(task_labels)\n",
    "training_datasets = utils.construct_split_mnist(task_labels, split='train')\n",
    "validation_datasets = utils.construct_split_mnist(task_labels, split='test')\n",
    "# training_datasets = utils.mk_training_validation_splits(full_datasets, split_fractions=(0.9, 0.1))\n",
    "\n",
    "tf.reset_default_graph()\n",
    "\n",
    "config = tf.ConfigProto()\n",
    "config.gpu_options.allow_growth=True\n",
    "sess = tf.InteractiveSession(config=config)\n",
    "sess.run(tf.global_variables_initializer())\n",
    "\n",
    "import keras.backend as K\n",
    "import keras.activations as activations\n",
    "\n",
    "output_mask = tf.Variable(tf.zeros(output_dim), name=\"mask\", trainable=False)\n",
    "\n",
    "def masked_softmax(logits):\n",
    "    # logits are [batch_size, output_dim]\n",
    "    x = select(tf.tile(tf.equal(output_mask[None, :], 1.0), [tf.shape(logits)[0], 1]), logits, -1e32 * tf.ones_like(logits))\n",
    "    return activations.softmax(x)\n",
    "\n",
    "def set_active_outputs(labels):\n",
    "    new_mask = np.zeros(output_dim)\n",
    "    for l in labels:\n",
    "        new_mask[l] = 1.0\n",
    "    sess.run(output_mask.assign(new_mask))\n",
    "    #print(sess.run(output_mask))\n",
    "    \n",
    "def masked_predict(model, data, targets):\n",
    "    pred = model.predict(data)\n",
    "    #print(pred)\n",
    "    acc = np.argmax(pred,1)==np.argmax(targets,1)\n",
    "    return acc.mean()"
   ]
  },
  {
   "cell_type": "code",
   "execution_count": 4,
   "metadata": {},
   "outputs": [
    {
     "name": "stdout",
     "output_type": "stream",
     "text": [
      "WARNING:tensorflow:From /usr/local/lib/python3.5/dist-packages/keras/backend/tensorflow_backend.py:2747: calling reduce_sum_v1 (from tensorflow.python.ops.math_ops) with keep_dims is deprecated and will be removed in a future version.\n",
      "Instructions for updating:\n",
      "keep_dims is deprecated, use keepdims instead\n",
      "WARNING:tensorflow:From /usr/local/lib/python3.5/dist-packages/tensorflow/python/ops/math_ops.py:3066: to_int32 (from tensorflow.python.ops.math_ops) is deprecated and will be removed in a future version.\n",
      "Instructions for updating:\n",
      "Use tf.cast instead.\n"
     ]
    }
   ],
   "source": [
    "from keras.models import Sequential\n",
    "from keras.layers import Dense\n",
    "model = Sequential()\n",
    "model.add(Dense(n_hidden_units, activation=activation_fn, input_shape=(input_dim,)))\n",
    "#model.add(Dense(n_hidden_units, activation=activation_fn))\n",
    "model.add(Dense(output_dim, kernel_initializer='zero', activation=masked_softmax))\n",
    "#model.add(Dense(output_dim, activation=masked_softmax, input_shape=(input_dim,)))\n",
    "\n",
    "from pathint import protocols\n",
    "from pathint.optimizers import KOOptimizer\n",
    "from keras.optimizers import Adam, RMSprop,SGD\n",
    "from keras.callbacks import Callback\n",
    "from pathint.keras_utils import LossHistory\n",
    "from keras.callbacks import History \n",
    "from keras.callbacks import LambdaCallback\n",
    "\n",
    "#protocol_name, protocol = protocols.PATH_INT_PROTOCOL(omega_decay='sum',xi=1e-3)\n",
    "#protocol_name, protocol = protocols.PATH_INT_PROTOCOL(omega_decay='sum',xi=1e-3)\n",
    "protocol_name, protocol = protocols.FISHER_PROTOCOL('sum')\n",
    "opt = Adam(lr=1e-3, beta_1=0.9, beta_2=0.999)\n",
    "# opt = SGD(1e-3)\n",
    "# opt = RMSprop(lr=1e-3)\n",
    "oopt = KOOptimizer(opt, model=model, compute_fisher=True, **protocol)\n",
    "model.compile(loss='categorical_crossentropy', optimizer=oopt, metrics=['accuracy'])\n",
    "model.model._make_train_function()\n",
    "saved_weights = model.get_weights()\n",
    "\n",
    "save_weights_epoch=[]\n",
    "save_loss_epoch=[]\n",
    "print_weights = LambdaCallback(on_epoch_end=lambda batch, logs: save_weights_epoch.append(model.get_weights()))\n",
    "history = LossHistory()\n",
    "callbacks = [history]\n",
    "datafile_name = \"split_mnist_data_%s.pkl.gz\"%protocol_name"
   ]
  },
  {
   "cell_type": "code",
   "execution_count": 5,
   "metadata": {
    "scrolled": true
   },
   "outputs": [
    {
     "name": "stdout",
     "output_type": "stream",
     "text": [
      "[1.0]\n"
     ]
    }
   ],
   "source": [
    "def run_fits(cvals, training_data, valid_data, eval_on_train_set=False, nstats=1):\n",
    "    acc_mean = dict()\n",
    "    acc_std = dict()\n",
    "    model_weights_save = []   #Empty list to save the model weights aftertraining each task\n",
    "    for cidx, cval_ in enumerate(tqdm(cvals)):\n",
    "        runs = []\n",
    "        for runid in range(nstats):\n",
    "            sess.run(tf.global_variables_initializer())\n",
    "            # model.set_weights(saved_weights)\n",
    "            cstuffs = []\n",
    "            evals = []\n",
    "            print(\"setting cval\")\n",
    "            cval = cval_\n",
    "            oopt.set_strength(cval)\n",
    "            oopt.init_task_vars()\n",
    "            print(\"cval is\", sess.run(oopt.lam))\n",
    "            for age, tidx in enumerate(range(n_tasks)):\n",
    "                print(\"Age %i, cval is=%f\"%(age,cval))\n",
    "                print(\"settint output mask\")\n",
    "                set_active_outputs(task_labels[age])\n",
    "                stuffs = model.fit(training_data[tidx][0], training_data[tidx][1], batch_size, epochs_per_task, callbacks=[history,print_weights])\n",
    "                oopt.update_task_metrics(training_data[tidx][0], training_data[tidx][1], batch_size)\n",
    "                oopt.update_task_vars()\n",
    "                ftask = []\n",
    "                model_weights_save.append(model.get_weights()) #Save the model weights aftertraining each task\n",
    "                for j in range(n_tasks):\n",
    "                    set_active_outputs(task_labels[j])\n",
    "                    if eval_on_train_set:\n",
    "                        f_ = masked_predict(model, training_data[j][0], training_data[j][1])\n",
    "                    else:\n",
    "                        f_ = masked_predict(model, valid_data[j][0], valid_data[j][1])\n",
    "                    ftask.append(np.mean(f_))\n",
    "                evals.append(ftask)\n",
    "                cstuffs.append(stuffs)\n",
    "\n",
    "                # Re-initialize optimizater variables\n",
    "                if reset_optimizer:\n",
    "                    oopt.reset_optimizer()\n",
    "\n",
    "            evals = np.array(evals)\n",
    "            runs.append(evals)\n",
    "        \n",
    "        runs = np.array(runs)\n",
    "        acc_mean[cval_] = runs.mean(0)\n",
    "        acc_std[cval_] = runs.std(0)\n",
    "    return dict(mean=acc_mean, std=acc_std),model_weights_save,cstuffs\n",
    "\n",
    "# cvals = np.concatenate(([0], np.logspace(-2, 2, 10)))\n",
    "# cvals = np.concatenate(([0], np.logspace(-1, 2, 2)))\n",
    "# cvals = np.concatenate(([0], np.logspace(-2, 0, 3)))\n",
    "cvals = np.logspace(-3, 3, 7)#[0, 1.0, 2, 5, 10]\n",
    "cvals = [1.0]\n",
    "print(cvals)"
   ]
  },
  {
   "cell_type": "code",
   "execution_count": 6,
   "metadata": {
    "scrolled": true
   },
   "outputs": [
    {
     "name": "stderr",
     "output_type": "stream",
     "text": [
      "\r",
      "  0%|          | 0/1 [00:00<?, ?it/s]"
     ]
    },
    {
     "name": "stdout",
     "output_type": "stream",
     "text": [
      "setting cval\n",
      "cval is 1.0\n",
      "Age 0, cval is=1.000000\n",
      "settint output mask\n",
      "Epoch 1/5\n",
      "12665/12665 [==============================] - 0s - loss: 0.6306 - acc: 0.9459     \n",
      "Epoch 2/5\n",
      "12665/12665 [==============================] - 0s - loss: 0.2854 - acc: 0.9922     \n",
      "Epoch 3/5\n",
      " 1000/12665 [=>............................] - ETA: 0s - loss: 0.1213 - acc: 0.9920"
     ]
    },
    {
     "name": "stderr",
     "output_type": "stream",
     "text": [
      "/usr/local/lib/python3.5/dist-packages/keras/callbacks.py:120: UserWarning: Method on_batch_end() is slow compared to the batch update (0.108675). Check your callbacks.\n",
      "  % delta_t_median)\n"
     ]
    },
    {
     "name": "stdout",
     "output_type": "stream",
     "text": [
      "12665/12665 [==============================] - 0s - loss: 0.0661 - acc: 0.9948     \n",
      "Epoch 4/5\n",
      "12665/12665 [==============================] - 0s - loss: 0.0234 - acc: 0.9957     \n",
      "Epoch 5/5\n",
      "12665/12665 [==============================] - 0s - loss: 0.0140 - acc: 0.9973     \n",
      "Age 1, cval is=1.000000\n",
      "settint output mask\n",
      "Epoch 1/5\n",
      "12089/12089 [==============================] - 0s - loss: 0.6638 - acc: 0.6926     \n",
      "Epoch 2/5\n",
      "12089/12089 [==============================] - 0s - loss: 0.5865 - acc: 0.8741     \n",
      "Epoch 3/5\n",
      "12089/12089 [==============================] - 0s - loss: 0.5169 - acc: 0.9112     \n",
      "Epoch 4/5\n",
      "12089/12089 [==============================] - 0s - loss: 0.4607 - acc: 0.9355     \n",
      "Epoch 5/5\n",
      "12089/12089 [==============================] - 0s - loss: 0.4172 - acc: 0.9404     \n",
      "Age 2, cval is=1.000000\n",
      "settint output mask\n",
      "Epoch 1/5\n",
      "11263/11263 [==============================] - 0s - loss: 0.6263 - acc: 0.7114     \n",
      "Epoch 2/5\n",
      "11263/11263 [==============================] - 0s - loss: 0.5372 - acc: 0.7574     \n",
      "Epoch 3/5\n",
      "11263/11263 [==============================] - 0s - loss: 0.4859 - acc: 0.7993     \n",
      "Epoch 4/5\n",
      "11263/11263 [==============================] - 0s - loss: 0.4457 - acc: 0.8409     \n",
      "Epoch 5/5\n",
      "11263/11263 [==============================] - 0s - loss: 0.4115 - acc: 0.8701     \n",
      "Age 3, cval is=1.000000\n",
      "settint output mask\n",
      "Epoch 1/5\n",
      "12183/12183 [==============================] - 0s - loss: 0.6096 - acc: 0.6797     \n",
      "Epoch 2/5\n",
      "12183/12183 [==============================] - 0s - loss: 0.4764 - acc: 0.7880     \n",
      "Epoch 3/5\n",
      "12183/12183 [==============================] - 0s - loss: 0.3816 - acc: 0.8891     \n",
      "Epoch 4/5\n",
      "12183/12183 [==============================] - 0s - loss: 0.3235 - acc: 0.9297     \n",
      "Epoch 5/5\n",
      "12183/12183 [==============================] - 0s - loss: 0.2843 - acc: 0.9387     \n",
      "Age 4, cval is=1.000000\n",
      "settint output mask\n",
      "Epoch 1/5\n",
      "11800/11800 [==============================] - 0s - loss: 0.6050 - acc: 0.6391     \n",
      "Epoch 2/5\n",
      "11800/11800 [==============================] - 0s - loss: 0.5288 - acc: 0.7329     \n",
      "Epoch 3/5\n",
      "11800/11800 [==============================] - 0s - loss: 0.4606 - acc: 0.8160     \n",
      "Epoch 4/5\n",
      "11800/11800 [==============================] - 0s - loss: 0.4196 - acc: 0.8547     \n",
      "Epoch 5/5\n",
      "11800/11800 [==============================] - 0s - loss: 0.3872 - acc: 0.8637     \n"
     ]
    },
    {
     "name": "stderr",
     "output_type": "stream",
     "text": [
      "100%|██████████| 1/1 [00:05<00:00,  5.06s/it]\n"
     ]
    }
   ],
   "source": [
    "#%%capture\n",
    "recompute_data = True\n",
    "if recompute_data:\n",
    "    data,model_weights_save,cstuffs = run_fits(cvals, training_datasets, validation_datasets, eval_on_train_set=False, nstats=n_stats)\n",
    "    utils.save_zipped_pickle(data, datafile_name)"
   ]
  },
  {
   "cell_type": "code",
   "execution_count": 27,
   "metadata": {
    "scrolled": true
   },
   "outputs": [
    {
     "name": "stdout",
     "output_type": "stream",
     "text": [
      "Batch-id for last epoch of each task: [64, 129, 189, 254, 314]\n",
      "*----------------------------*\n",
      "Fisher diagonal elements for task 0 is  (50,) (784, 50) (50, 10) (10,)\n",
      "Fisher diagonal elements for task 1 is  (50,) (784, 50) (50, 10) (10,)\n",
      "Fisher diagonal elements for task 2 is  (50,) (784, 50) (50, 10) (10,)\n",
      "Fisher diagonal elements for task 3 is  (50,) (784, 50) (50, 10) (10,)\n",
      "Fisher diagonal elements for task 4 is  (50,) (784, 50) (50, 10) (10,)\n",
      "*----------------------------*\n",
      "Number of non-zero diagonal elements of Fisher for task 0 is  39352\n",
      "Number of non-zero diagonal elements of Fisher for task 1 is  39454\n",
      "Number of non-zero diagonal elements of Fisher for task 2 is  39556\n",
      "Number of non-zero diagonal elements of Fisher for task 3 is  39658\n",
      "Number of non-zero diagonal elements of Fisher for task 4 is  39760\n"
     ]
    }
   ],
   "source": [
    "#Inspection of behavior of diagonal elements of Fisher matrix \n",
    "from numpy import count_nonzero\n",
    "last_epoch_batchindex = []\n",
    "counter = 0\n",
    "for i,j in enumerate(history.batchindex):\n",
    "    try:\n",
    "        if history.batchindex[i+1] > j:\n",
    "            pass\n",
    "        else:\n",
    "            counter = counter+1\n",
    "            if counter%epochs_per_task == 0:\n",
    "                last_epoch_batchindex.append(i)\n",
    "    except:\n",
    "        last_epoch_batchindex.append(i)\n",
    "\n",
    "print('Batch-id for last epoch of each task:',last_epoch_batchindex)\n",
    "print('*----------------------------*')\n",
    "for i,epoch_id in enumerate(last_epoch_batchindex):\n",
    "    print('Fisher diagonal elements for task {0} is '.format(i), history.fisher_save1[epoch_id].shape, history.fisher_save2[epoch_id].shape, history.fisher_save3[epoch_id].shape, history.fisher_save4[epoch_id].shape)\n",
    "\n",
    "non_zero_imp_param = []\n",
    "print('*----------------------------*')\n",
    "for i,epoch_id in enumerate(last_epoch_batchindex):\n",
    "    non_zero_imp_param.append(count_nonzero(history.fisher_save1[epoch_id])+ count_nonzero(history.fisher_save2[epoch_id])+ count_nonzero(history.fisher_save3[epoch_id])+ count_nonzero(history.fisher_save4[epoch_id]))\n",
    "    print('Number of non-zero diagonal elements of Fisher for task {0} is '.format(i),non_zero_imp_param[i])\n",
    "    "
   ]
  },
  {
   "cell_type": "code",
   "execution_count": 19,
   "metadata": {},
   "outputs": [
    {
     "name": "stdout",
     "output_type": "stream",
     "text": [
      "Batch-id for last epoch of each task: [64, 129, 189, 254, 314]\n",
      "*----------------------------*\n",
      "Loss after task 0  0.016608756\n",
      "Loss after task 1  0.3994651\n",
      "Loss after task 2  0.39945087\n",
      "Loss after task 3  0.26456866\n",
      "Loss after task 4  0.39205825\n",
      "*----------------------------*\n",
      "Surrogate loss after task 0  0.0\n",
      "Surrogate loss after task 1  0.028393865\n",
      "Surrogate loss after task 2  0.0146697\n",
      "Surrogate loss after task 3  0.014084756\n",
      "Surrogate loss after task 4  0.0077208546\n"
     ]
    }
   ],
   "source": [
    "#Inspection of losses after every task \n",
    "loss_after_task=[]\n",
    "print('Batch-id for last epoch of each task:',last_epoch_batchindex)\n",
    "print('*----------------------------*')\n",
    "for i,epoch_id in enumerate(last_epoch_batchindex):\n",
    "    loss_after_task.append(history.losses[epoch_id])\n",
    "    print('Loss after task {0} '.format(i), history.losses[epoch_id]) \n",
    "print('*----------------------------*')\n",
    "\n",
    "#Inspection of surrogate loss or regularization (sum(big_omega x (theta'-theta))) after every task \n",
    "surrogate_loss_after_task=[]\n",
    "for i,epoch_id in enumerate(last_epoch_batchindex):\n",
    "    surrogate_loss_after_task.append(history.regs[epoch_id])\n",
    "    print('Surrogate loss after task {0} '.format(i), history.regs[epoch_id]) "
   ]
  },
  {
   "cell_type": "code",
   "execution_count": 20,
   "metadata": {},
   "outputs": [
    {
     "name": "stdout",
     "output_type": "stream",
     "text": [
      "[1.0]\n",
      "_________________________________________________________________\n",
      "Layer (type)                 Output Shape              Param #   \n",
      "=================================================================\n",
      "dense_5 (Dense)              (None, 50)                39250     \n",
      "_________________________________________________________________\n",
      "dense_6 (Dense)              (None, 10)                510       \n",
      "=================================================================\n",
      "Total params: 39,760\n",
      "Trainable params: 39,760\n",
      "Non-trainable params: 0\n",
      "_________________________________________________________________\n",
      "None\n"
     ]
    },
    {
     "data": {
      "text/plain": [
       "\"\\nprint(data['mean'],model.summary())\\nfor k in cvals:\\n    for i in range(n_tasks):\\n        for j in range(i):\\n            data['mean'][k][j][i] = 0\\n            data['std'][k][j][i] = 0\\n\""
      ]
     },
     "execution_count": 20,
     "metadata": {},
     "output_type": "execute_result"
    }
   ],
   "source": [
    "data = utils.load_zipped_pickle(datafile_name)\n",
    "print(cvals)\n",
    "\n",
    "print(model.summary())\n",
    "'''\n",
    "print(data['mean'],model.summary())\n",
    "for k in cvals:\n",
    "    for i in range(n_tasks):\n",
    "        for j in range(i):\n",
    "            data['mean'][k][j][i] = 0\n",
    "            data['std'][k][j][i] = 0\n",
    "'''"
   ]
  },
  {
   "cell_type": "code",
   "execution_count": 21,
   "metadata": {},
   "outputs": [
    {
     "name": "stderr",
     "output_type": "stream",
     "text": [
      "No handles with labels found to put in legend.\n",
      "No handles with labels found to put in legend.\n",
      "No handles with labels found to put in legend.\n",
      "No handles with labels found to put in legend.\n",
      "No handles with labels found to put in legend.\n"
     ]
    },
    {
     "name": "stdout",
     "output_type": "stream",
     "text": [
      "(-5.0, 0.0)\n"
     ]
    },
    {
     "data": {
      "image/png": "[encoded data removed]",
      "text/plain": [
       "<Figure size 1008x180 with 6 Axes>"
      ]
     },
     "metadata": {},
     "output_type": "display_data"
    }
   ],
   "source": [
    "cmap = plt.get_cmap('cool') \n",
    "cNorm  = colors.Normalize(vmin=-5, vmax=np.log(np.max(list(data['mean'].keys()))))\n",
    "scalarMap = cmx.ScalarMappable(norm=cNorm, cmap=cmap)\n",
    "print(scalarMap.get_clim())\n",
    "\n",
    "import pdb\n",
    "figure(figsize=(14, 2.5))\n",
    "axs = [subplot(1,n_tasks+1,1)]#, None, None]\n",
    "\n",
    "for i in range(1, n_tasks + 1):\n",
    "    axs.append(subplot(1, n_tasks+1, i+1, sharex=axs[0], sharey=axs[0]))\n",
    "    \n",
    "keys = list(data['mean'].keys())\n",
    "sorted_keys = np.sort(keys)\n",
    "\n",
    "for cval in sorted_keys:\n",
    "    mean_vals = data['mean'][cval]\n",
    "    std_vals = data['std'][cval]\n",
    "    for j in range(n_tasks):\n",
    "        colorVal = scalarMap.to_rgba(np.log(cval))\n",
    "        # axs[j].plot(evals[:, j], c=colorVal)\n",
    "        axs[j].errorbar(range(n_tasks), mean_vals[:, j], yerr=std_vals[:, j]/np.sqrt(n_stats), c=colorVal)\n",
    "    label = \"c=%g\"%cval\n",
    "    average = mean_vals.mean(1)\n",
    "    axs[-1].plot(average, c=colorVal, label=label)\n",
    "    \n",
    "for i, ax in enumerate(axs):\n",
    "    ax.legend(loc='best')\n",
    "    ax.set_title((['task %d'%j for j in range(n_tasks)] + ['average'])[i])\n",
    "gcf().tight_layout()\n",
    "sns.despine()\n",
    "plt.savefig('MNIST_Accuracy_10task.pdf')"
   ]
  },
  {
   "cell_type": "code",
   "execution_count": 22,
   "metadata": {},
   "outputs": [
    {
     "data": {
      "image/png": "[encoded data removed]",
      "text/plain": [
       "<Figure size 288x324 with 1 Axes>"
      ]
     },
     "metadata": {},
     "output_type": "display_data"
    }
   ],
   "source": [
    "import pdb\n",
    "figure(figsize=(4, 4.5))\n",
    "axs = [subplot(1,1,1)]#, None, None]\n",
    "fontsize = 13\n",
    "\n",
    "keys = list(data['mean'].keys())\n",
    "sorted_keys = np.sort(keys)\n",
    "\n",
    "colorVal = ['r','g','b','c','m','k','y','tomato']\n",
    "marker=[\"v\",\"^\",\"<\",\">\",\"*\",\"s\",\"h\",\"x\",\".\"]\n",
    "\n",
    "mean_stuff=[]\n",
    "std_stuff=[]\n",
    "for i in range(len(data['mean'][cval])):\n",
    "    mean_stuff.append(data['mean'][cval][i][:i+1].mean())\n",
    "    std_stuff.append(np.sqrt((data['std'][cval][i][:i+1]**2).sum())/(n_stats*np.sqrt(n_stats)))\n",
    "\n",
    "for cval in sorted_keys:\n",
    "    mean_vals = data['mean'][cval]\n",
    "    std_vals = data['std'][cval]\n",
    "    for j in range(n_tasks):\n",
    "        label = \"$\\mathcal{T}$=%g\"%j\n",
    "        axs[0].plot(range(n_tasks), mean_vals[:, j], marker=marker[j], c=colorVal[j], label=label)\n",
    "    axs[0].plot(range(n_tasks), mean_stuff, marker=marker[j+1], c=colorVal[j+1], label='Average')\n",
    "    axs[0].legend(loc='upper right',prop={'size': fontsize}, bbox_to_anchor=(1.05, -0.25), ncol=3)\n",
    "    axs[0].set_xlabel(\"Trained tasks($\\mathcal{T}$).\",fontsize=fontsize)\n",
    "    axs[0].set_ylabel('Accuracy(x100%).',fontsize=fontsize)\n",
    "    axs[0].set_xticks(range(n_tasks))\n",
    "    axs[0].set_yticks([0, 0.2, 0.4, 0.6, 0.8, 1.0])\n",
    "    axs[0].tick_params(labelsize='large', width=3)\n",
    "    axs[0].set_title('SI with Fisher for UNSW dataset', fontsize=fontsize)\n",
    "#plt.legend(bbox_to_anchor=(0.78, 0.66),bbox_transform=plt.gcf().transFigure)\n",
    "gcf().tight_layout()\n",
    "sns.despine()\n",
    "plt.savefig('MNIST_SIFisher_congestion.pdf',bbox_inches = \"tight\")"
   ]
  },
  {
   "cell_type": "code",
   "execution_count": 23,
   "metadata": {},
   "outputs": [],
   "source": [
    "Flatten_weights=[]\n",
    "#Flattening the weights into a list\n",
    "def flatten(x):\n",
    "    try:\n",
    "        it = iter(x)\n",
    "    except TypeError:\n",
    "        yield x\n",
    "    else:\n",
    "        for i in it:\n",
    "            for j in flatten(i):\n",
    "                yield j\n",
    "                \n",
    "for i in range(len(model_weights_save)):\n",
    "    if i == 0:\n",
    "        Flatten_weights.append(list(flatten(save_weights_epoch[epochs_per_task-2])))\n",
    "        Flatten_weights.append(list(flatten(save_weights_epoch[epochs_per_task-1])))\n",
    "    Flatten_weights.append(list(flatten(model_weights_save[i]))) \n",
    "\n",
    "Extract_model_params = []\n",
    "for i in range(len(Flatten_weights)):   \n",
    "    Extract_model_params.append(Flatten_weights[i])\n",
    "    \n",
    "gradient_save=[]\n",
    "for i in range(1,len(Extract_model_params)):\n",
    "    if i == 2:\n",
    "        pass\n",
    "    else :\n",
    "        temp=list(np.asarray(Extract_model_params[i])-np.asarray(Extract_model_params[i-1]))\n",
    "        gradient = [j/0.001 for j in temp]\n",
    "        gradient_save.append(gradient)"
   ]
  },
  {
   "cell_type": "code",
   "execution_count": 24,
   "metadata": {},
   "outputs": [
    {
     "data": {
      "text/plain": [
       "39760"
      ]
     },
     "execution_count": 24,
     "metadata": {},
     "output_type": "execute_result"
    }
   ],
   "source": [
    "len(gradient_save[0])"
   ]
  },
  {
   "cell_type": "code",
   "execution_count": 25,
   "metadata": {},
   "outputs": [
    {
     "name": "stdout",
     "output_type": "stream",
     "text": [
      "Rank of the Hessian Matrix after task= 0 is : 30414\n",
      "Rank of the Hessian Matrix after task= 1 is : 32686\n",
      "Rank of the Hessian Matrix after task= 2 is : 31048\n",
      "Rank of the Hessian Matrix after task= 3 is : 34143\n",
      "Rank of the Hessian Matrix after task= 4 is : 30069\n",
      "[30414, 32686, 34324, 34505, 38941]\n"
     ]
    }
   ],
   "source": [
    "#Creating the Hessian matrix diagonal emlements rom the gradients and finding rank by counting \n",
    "#non-zero diagonal elements\n",
    "import math\n",
    "Hessian_diagonal = []\n",
    "Rank_Hessian_matrix = []\n",
    "for k in range(len(gradient_save)):\n",
    "    Hessian_diagonal = [elem*elem for elem in gradient_save[k]]\n",
    "    rank_Hessian_matrix = count_nonzero(np.diag(np.asarray(Hessian_diagonal)))\n",
    "    Rank_Hessian_matrix.append(rank_Hessian_matrix)\n",
    "    print('Rank of the Hessian Matrix after task=',k,'is :',rank_Hessian_matrix)\n",
    "    \n",
    "rank_Hessian_matrix = []\n",
    "for i,val in enumerate(Rank_Hessian_matrix):\n",
    "    if i == 0 or val > rank_Hessian_matrix[i-1]:\n",
    "        rank_Hessian_matrix.append(val)\n",
    "    else:\n",
    "        curr_task_rank  = rank_Hessian_matrix[i-1] + (rank_Hessian_matrix[i-1] - val) \n",
    "        if curr_task_rank < 39760:\n",
    "            rank_Hessian_matrix.append(curr_task_rank)\n",
    "        else:\n",
    "            rank_Hessian_matrix.append(39760)\n",
    "print(rank_Hessian_matrix)"
   ]
  },
  {
   "cell_type": "code",
   "execution_count": 31,
   "metadata": {},
   "outputs": [
    {
     "name": "stderr",
     "output_type": "stream",
     "text": [
      "/usr/local/lib/python3.5/dist-packages/matplotlib/tight_layout.py:330: UserWarning: tight_layout not applied: number of rows in subplot specifications mustbe multiples of one another.\n",
      "  warnings.warn('tight_layout not applied: '\n"
     ]
    },
    {
     "data": {
      "image/png": "[encoded data removed]",
      "text/plain": [
       "<Figure size 216x720 with 4 Axes>"
      ]
     },
     "metadata": {},
     "output_type": "display_data"
    }
   ],
   "source": [
    "import pdb\n",
    "figure(figsize=(3, 10))\n",
    "axs = [subplot(5,1,1)]#, None, None]\n",
    "for i in range(1, 4):\n",
    "    axs.append(subplot(4, 1, i+1, sharex=axs[0]))\n",
    "fontsize = 13\n",
    "\n",
    "colorVal = ['r','g','b','c','m','k','y']\n",
    "marker=[\"v\",\"^\",\"<\",\">\",\"*\",\"s\"]\n",
    "\n",
    "plots = [non_zero_imp_param,loss_after_task,surrogate_loss_after_task,Rank_Hessian_matrix]\n",
    "ylabel = ['# of non-zero Fisher $n(F)$', 'Loss ($L^\\mu$)', 'Surrogate loss ($L^v$)','Hessian rank R(H)']\n",
    "ytick = [[0, 19760, 29760, 39760], [0,0.1,0.2,0.3,0.4,0.5],[0,0.01,0.02,0.03, 0.04], [0, 19760, 29760, 39760]]\n",
    "title = ['Number of non-zero importance.', 'Loss', 'Surrogate loss', 'Hessian rank']\n",
    "for i in range(4):\n",
    "    axs[i].plot(range(n_tasks), plots[i], marker=marker[i], c=colorVal[i])\n",
    "    axs[i].set_ylabel(ylabel[i],fontsize=fontsize)\n",
    "    axs[i].set_yticks(ytick[i])\n",
    "    axs[i].tick_params(labelsize='large', width=3)\n",
    "    axs[i].grid()\n",
    "axs[-1].set_xticks(range(n_tasks))\n",
    "axs[-1].set_xlabel(\"Trained tasks($\\mathcal{T}$).\",fontsize=fontsize)\n",
    "plt.tight_layout()\n",
    "sns.despine()\n",
    "plt.savefig('MNIST_SIFisher_evalcongestion.pdf',bbox_inches = \"tight\")"
   ]
  },
  {
   "cell_type": "code",
   "execution_count": 34,
   "metadata": {},
   "outputs": [
    {
     "name": "stdout",
     "output_type": "stream",
     "text": [
      "--------------Euclidean distance--------------------\n",
      "Between task 0 and 1 : 4.023771893021162\n",
      "Between task 1 and 2 : 2.434794593732082\n"
     ]
    },
    {
     "name": "stderr",
     "output_type": "stream",
     "text": [
      "/usr/local/lib/python3.5/dist-packages/ipykernel_launcher.py:5: DeprecationWarning: Calling np.sum(generator) is deprecated, and in the future will give a different result. Use np.sum(np.fromiter(generator)) or the python sum builtin instead.\n",
      "  \"\"\"\n"
     ]
    },
    {
     "name": "stdout",
     "output_type": "stream",
     "text": [
      "Between task 2 and 3 : 3.940232823326087\n",
      "Between task 3 and 4 : 0.8091160166053282\n",
      "--------------Cosine distance--------------------\n",
      "Between task 0 and 1 : 0.939\n"
     ]
    },
    {
     "name": "stderr",
     "output_type": "stream",
     "text": [
      "/usr/local/lib/python3.5/dist-packages/ipykernel_launcher.py:11: DeprecationWarning: Calling np.sum(generator) is deprecated, and in the future will give a different result. Use np.sum(np.fromiter(generator)) or the python sum builtin instead.\n",
      "  # This is added back by InteractiveShellApp.init_path()\n"
     ]
    },
    {
     "name": "stdout",
     "output_type": "stream",
     "text": [
      "Between task 1 and 2 : 0.979\n",
      "Between task 2 and 3 : 0.95\n",
      "Between task 3 and 4 : 0.998\n",
      "--------------Jaccard similarity--------------------\n",
      "Between task 0 and 1 : 0.09423138360673955\n",
      "Between task 1 and 2 : 0.12100997771690535\n",
      "Between task 2 and 3 : 0.0750746673907141\n",
      "Between task 3 and 4 : 0.13919618900033\n",
      "--------------Sequence Matcher--------------------\n",
      "Between task 0 and 1 : 0.17794265593561368\n",
      "Between task 1 and 2 : 0.21913983903420522\n",
      "Between task 2 and 3 : 0.14129778672032192\n",
      "Between task 3 and 4 : 0.2437374245472837\n"
     ]
    },
    {
     "data": {
      "image/png": "[encoded data removed]",
      "text/plain": [
       "<Figure size 216x576 with 4 Axes>"
      ]
     },
     "metadata": {},
     "output_type": "display_data"
    }
   ],
   "source": [
    "#Heuristic metric: Weights Pattern after training each task\n",
    "from math import*\n",
    "#1. Euclidean distance\n",
    "def euclidean_distance(x,y):\n",
    "    return sqrt(sum(pow(a-b,2) for a, b in zip(x, y)))\n",
    "\n",
    "#2. Cosine Similarity\n",
    "def square_rooted(x):\n",
    "    return round(sqrt(sum([a*a for a in x])),3)\n",
    "def cosine_similarity(x,y):\n",
    "    numerator = sum(a*b for a,b in zip(x,y))\n",
    "    denominator = square_rooted(x)*square_rooted(y)\n",
    "    return round(numerator/float(denominator),3)\n",
    "\n",
    "#3. Jaccard similarity\n",
    "def jaccard_similarity(x,y):\n",
    "    intersection_cardinality = len(set.intersection(*[set(x), set(y)]))\n",
    "    union_cardinality = len(set.union(*[set(x), set(y)]))\n",
    "    return intersection_cardinality/float(union_cardinality)\n",
    "\n",
    "#4. Using SequenceMatcher    \n",
    "from difflib import SequenceMatcher\n",
    "\n",
    "Flatten_weights=[]\n",
    "#Flattening the weights into a list\n",
    "def flatten(x):\n",
    "    try:\n",
    "        it = iter(x)\n",
    "    except TypeError:\n",
    "        yield x\n",
    "    else:\n",
    "        for i in it:\n",
    "            for j in flatten(i):\n",
    "                yield j\n",
    "                \n",
    "print(\"--------------Euclidean distance--------------------\")\n",
    "Eu_distance = []\n",
    "for i in range(1,n_tasks):\n",
    "    eu_dist = euclidean_distance(list(flatten(model_weights_save[i-1])),list(flatten(model_weights_save[i])))\n",
    "    Eu_distance.append(eu_dist)\n",
    "    print(\"Between task {0} and {1} : {2}\".format(i-1,i,eu_dist))\n",
    "\n",
    "print(\"--------------Cosine distance--------------------\")\n",
    "Cos_distance = []\n",
    "for i in range(1,n_tasks):\n",
    "    cos_dist = cosine_similarity(list(flatten(model_weights_save[i-1])),list(flatten(model_weights_save[i])))\n",
    "    Cos_distance.append(cos_dist)\n",
    "    print(\"Between task {0} and {1} : {2}\".format(i-1,i,cos_dist))\n",
    "    \n",
    "    \n",
    "print(\"--------------Jaccard similarity--------------------\")\n",
    "Jac_distance = []\n",
    "for i in range(1,n_tasks):\n",
    "    jac_dist = jaccard_similarity(list(flatten(model_weights_save[i-1])),list(flatten(model_weights_save[i])))\n",
    "    Jac_distance.append(jac_dist)\n",
    "    print(\"Between task {0} and {1} : {2}\".format(i-1,i,jac_dist))\n",
    "\n",
    "print(\"--------------Sequence Matcher--------------------\")\n",
    "Seq_matcher = []\n",
    "for i in range(1,n_tasks):\n",
    "    seq_matcher = SequenceMatcher(None,list(flatten(model_weights_save[i-1])),list(flatten(model_weights_save[i]))).ratio()\n",
    "    Seq_matcher.append(seq_matcher)\n",
    "    print(\"Between task {0} and {1} : {2}\".format(i-1,i,seq_matcher))\n",
    "    \n",
    "import pdb\n",
    "figure(figsize=(3, 8))\n",
    "subplots_adjust(hspace=0.25,\n",
    "                    wspace=0.35)\n",
    "axs = [plt.subplot(4,1,1)]#, None, None]\n",
    "for i in range(1, 4):\n",
    "    axs.append(subplot(4, 1, i+1, sharex=axs[0]))\n",
    "fontsize = 13\n",
    "\n",
    "colorVal = ['r','g','b','c','m','k','y']\n",
    "marker=[\"v\",\"^\",\"<\",\">\",\"*\",\"s\"]\n",
    "\n",
    "plots = [Eu_distance,Cos_distance,Jac_distance,Seq_matcher]\n",
    "ylabel = ['Distance value', 'Ratio value', 'Ratio value','Ratio value']\n",
    "ytick = [[0, 1, 2, 3, 4, 5], [0, 0.2, 0.4, 0.6, 0.8, 1],[0, 0.03, 0.06, 0.09, 0.12, 0.15], [0, 0.1, 0.2, 0.3]]\n",
    "title = ['Euclidean Distance', 'Cosine Similarity', 'Jaccard Similarity', 'SequenceMatcher']\n",
    "for i in range(4):\n",
    "    axs[i].plot(range(1,n_tasks), plots[i], marker=marker[i], c=colorVal[i])\n",
    "    axs[i].set_ylabel(ylabel[i],fontsize=fontsize)\n",
    "    axs[i].set_yticks(ytick[i])\n",
    "    axs[i].tick_params(labelsize='large', width=3)\n",
    "    axs[i].grid()\n",
    "    axs[i].set_title(title[i])\n",
    "axs[-1].set_xticks(range(1,n_tasks))\n",
    "axs[-1].set_xlabel(\"Trained tasks($\\mathcal{T}$).\",fontsize=fontsize)\n",
    "plt.tight_layout()\n",
    "sns.despine()\n",
    "plt.savefig('UNSW_SIFisher_Similaritymetric.pdf',bbox_inches = \"tight\")"
   ]
  },
  {
   "cell_type": "code",
   "execution_count": 35,
   "metadata": {},
   "outputs": [
    {
     "name": "stderr",
     "output_type": "stream",
     "text": [
      "/usr/local/lib/python3.5/dist-packages/ipykernel_launcher.py:5: DeprecationWarning: Calling np.sum(generator) is deprecated, and in the future will give a different result. Use np.sum(np.fromiter(generator)) or the python sum builtin instead.\n",
      "  \"\"\"\n",
      "/usr/local/lib/python3.5/dist-packages/ipykernel_launcher.py:11: DeprecationWarning: Calling np.sum(generator) is deprecated, and in the future will give a different result. Use np.sum(np.fromiter(generator)) or the python sum builtin instead.\n",
      "  # This is added back by InteractiveShellApp.init_path()\n"
     ]
    },
    {
     "name": "stdout",
     "output_type": "stream",
     "text": [
      "Euclidean distance between task 0 and 4 : 6.247616591144154\n",
      "Cosine angle between task 0 and 4 : 0.869\n",
      "Jaccard similarity between task 0 and 4 : 0.05191609358996528\n",
      "Sequence angle between task 0 and 4 : 0.0976861167002012\n"
     ]
    }
   ],
   "source": [
    "#Heuristic metric: Weights Pattern between task 0 and last task \n",
    "from math import*\n",
    "#1. Euclidean distance\n",
    "def euclidean_distance(x,y):\n",
    "    return sqrt(sum(pow(a-b,2) for a, b in zip(x, y)))\n",
    "\n",
    "#2. Cosine Similarity\n",
    "def square_rooted(x):\n",
    "    return round(sqrt(sum([a*a for a in x])),3)\n",
    "def cosine_similarity(x,y):\n",
    "    numerator = sum(a*b for a,b in zip(x,y))\n",
    "    denominator = square_rooted(x)*square_rooted(y)\n",
    "    return round(numerator/float(denominator),3)\n",
    "\n",
    "#3. Jaccard similarity\n",
    "def jaccard_similarity(x,y):\n",
    "    intersection_cardinality = len(set.intersection(*[set(x), set(y)]))\n",
    "    union_cardinality = len(set.union(*[set(x), set(y)]))\n",
    "    return intersection_cardinality/float(union_cardinality)\n",
    "\n",
    "#4. Using SequenceMatcher    \n",
    "from difflib import SequenceMatcher\n",
    "\n",
    "\n",
    "eu_dist = euclidean_distance(list(flatten(model_weights_save[0])),list(flatten(model_weights_save[-1])))\n",
    "print(\"Euclidean distance between task {0} and {1} : {2}\".format(0,len(model_weights_save)-1,eu_dist))\n",
    "\n",
    "cos_dist = cosine_similarity(list(flatten(model_weights_save[0])),list(flatten(model_weights_save[-1])))\n",
    "print(\"Cosine angle between task {0} and {1} : {2}\".format(0,len(model_weights_save)-1,cos_dist))\n",
    "\n",
    "jac_dist = jaccard_similarity(list(flatten(model_weights_save[0])),list(flatten(model_weights_save[-1])))\n",
    "print(\"Jaccard similarity between task {0} and {1} : {2}\".format(0,len(model_weights_save)-1,jac_dist))\n",
    "\n",
    "seq_matcher = SequenceMatcher(None,list(flatten(model_weights_save[0])),list(flatten(model_weights_save[-1]))).ratio()\n",
    "print(\"Sequence angle between task {0} and {1} : {2}\".format(0,len(model_weights_save)-1,seq_matcher))"
   ]
  },
  {
   "cell_type": "code",
   "execution_count": 36,
   "metadata": {},
   "outputs": [
    {
     "ename": "TypeError",
     "evalue": "'list' object is not callable",
     "output_type": "error",
     "traceback": [
      "\u001b[0;31m---------------------------------------------------------------------------\u001b[0m",
      "\u001b[0;31mTypeError\u001b[0m                                 Traceback (most recent call last)",
      "\u001b[0;32m<ipython-input-36-f899c89c0d27>\u001b[0m in \u001b[0;36m<module>\u001b[0;34m()\u001b[0m\n\u001b[1;32m     24\u001b[0m \u001b[0maxhline\u001b[0m\u001b[0;34m(\u001b[0m\u001b[0mdata\u001b[0m\u001b[0;34m[\u001b[0m\u001b[0;34m'mean'\u001b[0m\u001b[0;34m]\u001b[0m\u001b[0;34m[\u001b[0m\u001b[0mcval\u001b[0m\u001b[0;34m]\u001b[0m\u001b[0;34m[\u001b[0m\u001b[0;36m0\u001b[0m\u001b[0;34m]\u001b[0m\u001b[0;34m[\u001b[0m\u001b[0;36m0\u001b[0m\u001b[0;34m]\u001b[0m\u001b[0;34m,\u001b[0m \u001b[0mlinestyle\u001b[0m\u001b[0;34m=\u001b[0m\u001b[0;34m'--'\u001b[0m\u001b[0;34m,\u001b[0m \u001b[0mcolor\u001b[0m\u001b[0;34m=\u001b[0m\u001b[0;34m'k'\u001b[0m\u001b[0;34m)\u001b[0m\u001b[0;34m\u001b[0m\u001b[0m\n\u001b[1;32m     25\u001b[0m \u001b[0mxlabel\u001b[0m\u001b[0;34m(\u001b[0m\u001b[0;34m'After tasks'\u001b[0m\u001b[0;34m)\u001b[0m\u001b[0;34m\u001b[0m\u001b[0m\n\u001b[0;32m---> 26\u001b[0;31m \u001b[0mylabel\u001b[0m\u001b[0;34m(\u001b[0m\u001b[0;34m'Fraction correct'\u001b[0m\u001b[0;34m)\u001b[0m\u001b[0;34m\u001b[0m\u001b[0m\n\u001b[0m\u001b[1;32m     27\u001b[0m \u001b[0mlegend\u001b[0m\u001b[0;34m(\u001b[0m\u001b[0mloc\u001b[0m\u001b[0;34m=\u001b[0m\u001b[0;34m'best'\u001b[0m\u001b[0;34m)\u001b[0m\u001b[0;34m\u001b[0m\u001b[0m\n\u001b[1;32m     28\u001b[0m \u001b[0mxlim\u001b[0m\u001b[0;34m(\u001b[0m\u001b[0;36m0\u001b[0m\u001b[0;34m,\u001b[0m \u001b[0mn_tasks\u001b[0m\u001b[0;34m)\u001b[0m\u001b[0;34m\u001b[0m\u001b[0m\n",
      "\u001b[0;31mTypeError\u001b[0m: 'list' object is not callable"
     ]
    },
    {
     "data": {
      "image/png": "[encoded data removed]",
      "text/plain": [
       "<Figure size 237.6x180 with 1 Axes>"
      ]
     },
     "metadata": {},
     "output_type": "display_data"
    }
   ],
   "source": [
    "plt.rc('text', usetex=False)\n",
    "plt.rc('xtick', labelsize=8)\n",
    "plt.rc('ytick', labelsize=8)\n",
    "plt.rc('axes', labelsize=8)\n",
    "\n",
    "def simple_axis(ax):\n",
    "    ax.spines['top'].set_visible(False)\n",
    "    ax.spines['right'].set_visible(False)\n",
    "    ax.get_xaxis().tick_bottom()\n",
    "    ax.get_yaxis().tick_left()\n",
    "    \n",
    "fig = plt.figure(figsize=(3.3,2.5))\n",
    "ax = plt.subplot(111)\n",
    "\n",
    "for cval in sorted_keys:\n",
    "    mean_stuff = []\n",
    "    std_stuff = []\n",
    "    for i in range(len(data['mean'][cval])):\n",
    "        mean_stuff.append(data['mean'][cval][i][:i+1].mean())\n",
    "        std_stuff.append(np.sqrt((data['std'][cval][i][:i+1]**2).sum())/(n_stats*np.sqrt(n_stats)))\n",
    "    # plot(range(0,n_tasks+), mean_stuff, 'o-', label=\"c=%g\"%cval)\n",
    "    errorbar(range(0,n_tasks), mean_stuff, yerr=std_stuff, fmt='o-', label=\"c=%g\"%cval)\n",
    "        \n",
    "axhline(data['mean'][cval][0][0], linestyle='--', color='k')\n",
    "xlabel('After tasks')\n",
    "ylabel('Fraction correct')\n",
    "legend(loc='best')\n",
    "xlim(0, n_tasks)\n",
    "ylim(0.7, 1.02)\n",
    "# grid('on')\n",
    "# sns.despine()\n",
    "simple_axis(ax)\n",
    "plt.savefig('MNIST_Accuracy_10task_fractional_correctness.pdf')"
   ]
  },
  {
   "cell_type": "code",
   "execution_count": null,
   "metadata": {},
   "outputs": [],
   "source": []
  }
 ],
 "metadata": {
  "kernelspec": {
   "display_name": "Python 3",
   "language": "python",
   "name": "python3"
  },
  "language_info": {
   "codemirror_mode": {
    "name": "ipython",
    "version": 3
   },
   "file_extension": ".py",
   "mimetype": "text/x-python",
   "name": "python",
   "nbconvert_exporter": "python",
   "pygments_lexer": "ipython3",
   "version": "3.5.2"
  }
 },
 "nbformat": 4,
 "nbformat_minor": 1
}
