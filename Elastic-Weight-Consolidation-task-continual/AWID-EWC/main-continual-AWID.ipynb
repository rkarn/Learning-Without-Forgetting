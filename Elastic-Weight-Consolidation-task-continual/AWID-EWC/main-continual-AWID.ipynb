{
 "cells": [
  {
   "cell_type": "code",
   "execution_count": 1,
   "metadata": {},
   "outputs": [
    {
     "name": "stderr",
     "output_type": "stream",
     "text": [
      "/usr/local/lib/python3.5/dist-packages/tensorflow/python/framework/dtypes.py:526: FutureWarning: Passing (type, 1) or '1type' as a synonym of type is deprecated; in a future version of numpy, it will be understood as (type, (1,)) / '(1,)type'.\n",
      "  _np_qint8 = np.dtype([(\"qint8\", np.int8, 1)])\n",
      "/usr/local/lib/python3.5/dist-packages/tensorflow/python/framework/dtypes.py:527: FutureWarning: Passing (type, 1) or '1type' as a synonym of type is deprecated; in a future version of numpy, it will be understood as (type, (1,)) / '(1,)type'.\n",
      "  _np_quint8 = np.dtype([(\"quint8\", np.uint8, 1)])\n",
      "/usr/local/lib/python3.5/dist-packages/tensorflow/python/framework/dtypes.py:528: FutureWarning: Passing (type, 1) or '1type' as a synonym of type is deprecated; in a future version of numpy, it will be understood as (type, (1,)) / '(1,)type'.\n",
      "  _np_qint16 = np.dtype([(\"qint16\", np.int16, 1)])\n",
      "/usr/local/lib/python3.5/dist-packages/tensorflow/python/framework/dtypes.py:529: FutureWarning: Passing (type, 1) or '1type' as a synonym of type is deprecated; in a future version of numpy, it will be understood as (type, (1,)) / '(1,)type'.\n",
      "  _np_quint16 = np.dtype([(\"quint16\", np.uint16, 1)])\n",
      "/usr/local/lib/python3.5/dist-packages/tensorflow/python/framework/dtypes.py:530: FutureWarning: Passing (type, 1) or '1type' as a synonym of type is deprecated; in a future version of numpy, it will be understood as (type, (1,)) / '(1,)type'.\n",
      "  _np_qint32 = np.dtype([(\"qint32\", np.int32, 1)])\n",
      "/usr/local/lib/python3.5/dist-packages/tensorflow/python/framework/dtypes.py:535: FutureWarning: Passing (type, 1) or '1type' as a synonym of type is deprecated; in a future version of numpy, it will be understood as (type, (1,)) / '(1,)type'.\n",
      "  np_resource = np.dtype([(\"resource\", np.ubyte, 1)])\n",
      "/usr/local/lib/python3.5/dist-packages/h5py/__init__.py:36: FutureWarning: Conversion of the second argument of issubdtype from `float` to `np.floating` is deprecated. In future, it will be treated as `np.float64 == np.dtype(float).type`.\n",
      "  from ._conv import register_converters as _register_converters\n"
     ]
    }
   ],
   "source": [
    "# automatically reload edited modules\n",
    "%load_ext autoreload\n",
    "%autoreload 2\n",
    "import tensorflow as tf\n",
    "from copy import  deepcopy\n",
    "import numpy as np\n",
    "from tensorflow.examples.tutorials.mnist import input_data\n",
    "%matplotlib inline\n",
    "import matplotlib.pyplot as plt\n",
    "import matplotlib.image as mpimg\n",
    "from IPython import display\n",
    "import os\n",
    "#os.chdir('/home/yash/Documents/EWC/Elastic-Weight-Consolidation')\n",
    "from model import Model\n",
    "import pdb"
   ]
  },
  {
   "cell_type": "code",
   "execution_count": 2,
   "metadata": {
    "scrolled": true
   },
   "outputs": [
    {
     "name": "stdout",
     "output_type": "stream",
     "text": [
      "Reading training csv file.\n"
     ]
    },
    {
     "name": "stderr",
     "output_type": "stream",
     "text": [
      "/usr/local/lib/python3.5/dist-packages/IPython/core/interactiveshell.py:2728: DtypeWarning: Columns (37,38,39,40,41,42,43,44,45,47,48,49,50,51,52,53,54,55,56,57,58,59,60,61,62,74,88) have mixed types. Specify dtype option on import or set low_memory=False.\n",
      "  interactivity=interactivity, compiler=compiler, result=result)\n"
     ]
    },
    {
     "name": "stdout",
     "output_type": "stream",
     "text": [
      "Reading testing csv file.\n",
      "2371216 575642 1795574 2371216\n",
      "17 ['normal' 'fragmentation' 'arp' 'probe_request' 'chop_chop' 'rts'\n",
      " 'deauthentication' 'amok' 'beacon' 'evil_twin' 'cafe_latte' 'cts' 'hirte'\n",
      " 'power_saving' 'disassociation' 'authentication_request' 'probe_response'] 124\n"
     ]
    }
   ],
   "source": [
    "os.chdir('/root/awid_dataset/')\n",
    "import pandas as pd\n",
    "# Read in the CSV files\n",
    "dataset_columns = ['frame.interface_id',\t'frame.dlt',\t'frame.offset_shift',\t'frame.time_epoch',\t'frame.time_delta',\t'frame.time_delta_displayed',\t'frame.time_relative',\t'frame.len',\t'frame.cap_len',\t'frame.marked',\t'frame.ignored',\t'radiotap.version',\t'radiotap.pad',\t'radiotap.length',\t'radiotap.present.tsft',\t'radiotap.present.flags',\t'radiotap.present.rate',\t'radiotap.present.channel',\t'radiotap.present.fhss',\t'radiotap.present.dbm_antsignal',\t'radiotap.present.dbm_antnoise',\t'radiotap.present.lock_quality',\t'radiotap.present.tx_attenuation',\t'radiotap.present.db_tx_attenuation',\t'radiotap.present.dbm_tx_power',\t'radiotap.present.antenna',\t'radiotap.present.db_antsignal',\t'radiotap.present.db_antnoise',\t'radiotap.present.rxflags',\t'radiotap.present.xchannel',\t'radiotap.present.mcs',\t'radiotap.present.ampdu',\t'radiotap.present.vht',\t'radiotap.present.reserved',\t'radiotap.present.rtap_ns',\t'radiotap.present.vendor_ns',\t'radiotap.present.ext',\t'radiotap.mactime',\t'radiotap.flags.cfp',\t'radiotap.flags.preamble',\t'radiotap.flags.wep',\t'radiotap.flags.frag',\t'radiotap.flags.fcs',\t'radiotap.flags.datapad',\t'radiotap.flags.badfcs',\t'radiotap.flags.shortgi',\t'radiotap.datarate',\t'radiotap.channel.freq',\t'radiotap.channel.type.turbo',\t'radiotap.channel.type.cck',\t'radiotap.channel.type.ofdm',\t'radiotap.channel.type.2ghz',\t'radiotap.channel.type.5ghz',\t'radiotap.channel.type.passive',\t'radiotap.channel.type.dynamic',\t'radiotap.channel.type.gfsk',\t'radiotap.channel.type.gsm',\t'radiotap.channel.type.sturbo',\t'radiotap.channel.type.half',\t'radiotap.channel.type.quarter',\t'radiotap.dbm_antsignal',\t'radiotap.antenna',\t'radiotap.rxflags.badplcp',\t'wlan.fc.type_subtype',\t'wlan.fc.version',\t'wlan.fc.type',\t'wlan.fc.subtype',\t'wlan.fc.ds',\t'wlan.fc.frag',\t'wlan.fc.retry',\t'wlan.fc.pwrmgt',\t'wlan.fc.moredata',\t'wlan.fc.protected',\t'wlan.fc.order',\t'wlan.duration',\t'wlan.ra',\t'wlan.da',\t'wlan.ta',\t'wlan.sa',\t'wlan.bssid',\t'wlan.frag',\t'wlan.seq',\t'wlan.bar.type',\t'wlan.ba.control.ackpolicy',\t'wlan.ba.control.multitid',\t'wlan.ba.control.cbitmap',\t'wlan.bar.compressed.tidinfo',\t'wlan.ba.bm',\t'wlan.fcs_good',\t'wlan_mgt.fixed.capabilities.ess',\t'wlan_mgt.fixed.capabilities.ibss',\t'wlan_mgt.fixed.capabilities.cfpoll.ap',\t'wlan_mgt.fixed.capabilities.privacy',\t'wlan_mgt.fixed.capabilities.preamble',\t'wlan_mgt.fixed.capabilities.pbcc',\t'wlan_mgt.fixed.capabilities.agility',\t'wlan_mgt.fixed.capabilities.spec_man',\t'wlan_mgt.fixed.capabilities.short_slot_time',\t'wlan_mgt.fixed.capabilities.apsd',\t'wlan_mgt.fixed.capabilities.radio_measurement',\t'wlan_mgt.fixed.capabilities.dsss_ofdm',\t'wlan_mgt.fixed.capabilities.del_blk_ack',\t'wlan_mgt.fixed.capabilities.imm_blk_ack',\t'wlan_mgt.fixed.listen_ival',\t'wlan_mgt.fixed.current_ap',\t'wlan_mgt.fixed.status_code',\t'wlan_mgt.fixed.timestamp',\t'wlan_mgt.fixed.beacon',\t'wlan_mgt.fixed.aid',\t'wlan_mgt.fixed.reason_code',\t'wlan_mgt.fixed.auth.alg',\t'wlan_mgt.fixed.auth_seq',\t'wlan_mgt.fixed.category_code',\t'wlan_mgt.fixed.htact',\t'wlan_mgt.fixed.chanwidth',\t'wlan_mgt.fixed.fragment',\t'wlan_mgt.fixed.sequence',\t'wlan_mgt.tagged.all',\t'wlan_mgt.ssid',\t'wlan_mgt.ds.current_channel',\t'wlan_mgt.tim.dtim_count',\t'wlan_mgt.tim.dtim_period',\t'wlan_mgt.tim.bmapctl.multicast',\t'wlan_mgt.tim.bmapctl.offset',\t'wlan_mgt.country_info.environment',\t'wlan_mgt.rsn.version',\t'wlan_mgt.rsn.gcs.type',\t'wlan_mgt.rsn.pcs.count',\t'wlan_mgt.rsn.akms.count',\t'wlan_mgt.rsn.akms.type',\t'wlan_mgt.rsn.capabilities.preauth',\t'wlan_mgt.rsn.capabilities.no_pairwise',\t'wlan_mgt.rsn.capabilities.ptksa_replay_counter',\t'wlan_mgt.rsn.capabilities.gtksa_replay_counter',\t'wlan_mgt.rsn.capabilities.mfpr',\t'wlan_mgt.rsn.capabilities.mfpc',\t'wlan_mgt.rsn.capabilities.peerkey',\t'wlan_mgt.tcprep.trsmt_pow',\t'wlan_mgt.tcprep.link_mrg',\t'wlan.wep.iv',\t'wlan.wep.key',\t'wlan.wep.icv',\t'wlan.tkip.extiv',\t'wlan.ccmp.extiv',\t'wlan.qos.tid',\t'wlan.qos.priority',\t'wlan.qos.eosp',\t'wlan.qos.ack',\t'wlan.qos.amsdupresent',\t'wlan.qos.buf_state_indicated',\t'wlan.qos.bit4',\t'wlan.qos.txop_dur_req',\t'wlan.qos.buf_state_indicated',\t'data.len',\t'class']\n",
    "\n",
    "print(\"Reading training csv file.\")\n",
    "df1 = pd.read_csv('awid_train_set')\n",
    "df1.columns = dataset_columns\n",
    "#Fllling the entries \"?\" with \"0\"\n",
    "df1=df1.replace('?',0)\n",
    "\n",
    "df1.drop([dataset_columns[i] for i in [33, 63, 67, 75, 76, 77, 78, 79, 82, 86, 87, 91, 103, 104, 105, 106, 108, 109, 111, 113, 114,118, 123, 124, 132, 133, 139,  141, 142, 143, 147 ]], axis=1, inplace=True) \n",
    "\n",
    "print(\"Reading testing csv file.\")\n",
    "df2 = pd.read_csv('awid_test_set')\n",
    "df2.columns = dataset_columns\n",
    "#Fllling the entries \"?\" with \"0\"\n",
    "df2=df2.replace('?',0)\n",
    "\n",
    "df2.drop([dataset_columns[i] for i in [33, 63, 67, 75, 76, 77, 78, 79, 82, 86, 87, 91, 103, 104, 105, 106, 108, 109, 111, 113, 114,118, 123, 124, 132, 133, 139,  141, 142, 143, 147 ]], axis=1, inplace=True)  \n",
    "\n",
    "df = pd.concat([df1, df2])\n",
    "print(len(df),len(df1),len(df2),len(df1)+len(df2))\n",
    "\n",
    "print (len(df['class'].unique()),df['class'].unique(),len(df.columns))\n",
    "os.chdir('/root/Elastic-Weight-Consolidation-task-continual/AWID-EWC/')\n",
    "obj_df = df.loc[:, (df != 0).any(axis=0)]\n",
    "\n",
    "y = obj_df[\"class\"]\n",
    "#obj_df=pd.get_dummies(obj_df, columns=[\"class\"])\n",
    "\n",
    "x = obj_df.values[:,:-1]  #It has 17 labels "
   ]
  },
  {
   "cell_type": "code",
   "execution_count": 3,
   "metadata": {},
   "outputs": [
    {
     "name": "stdout",
     "output_type": "stream",
     "text": [
      "normal:2163973\n",
      "fragmentation:937\n",
      "arp:78253\n",
      "probe_request:369\n",
      "chop_chop:2871\n",
      "rts:199\n",
      "deauthentication:14892\n",
      "amok:31657\n",
      "beacon:2398\n",
      "evil_twin:3244\n",
      "cafe_latte:46268\n",
      "cts:1759\n",
      "hirte:19089\n",
      "power_saving:165\n",
      "disassociation:84\n",
      "authentication_request:3500\n",
      "probe_response:1558\n"
     ]
    }
   ],
   "source": [
    "#Counting the number of records in each class\n",
    "for label in df['class'].unique():\n",
    "    print(label + ':' + str(y.tolist().count(label)))"
   ]
  },
  {
   "cell_type": "code",
   "execution_count": 4,
   "metadata": {},
   "outputs": [
    {
     "name": "stdout",
     "output_type": "stream",
     "text": [
      "normal 10000\n",
      "fragmentation 937\n",
      "arp 10000\n",
      "probe_request 369\n",
      "chop_chop 2871\n",
      "rts 199\n",
      "deauthentication 10000\n",
      "amok 10000\n",
      "beacon 2398\n",
      "evil_twin 3244\n",
      "cafe_latte 10000\n",
      "cts 1759\n",
      "hirte 10000\n",
      "power_saving 165\n",
      "disassociation 84\n",
      "authentication_request 3500\n",
      "probe_response 1558\n",
      "size of dataset:77084\n"
     ]
    }
   ],
   "source": [
    "#since these classes have very large samples, randomly sample some records to make labels balanced.\n",
    "from more_itertools import locate\n",
    "sample_size = 10000\n",
    "Yss = {}\n",
    "length = 0\n",
    "for label in df['class'].unique().tolist():\n",
    "    if y.tolist().count(label) > sample_size:\n",
    "        sample_inds = np.random.randint(0, y.tolist().count(label), sample_size )\n",
    "        all_inds =  list(locate(y, lambda a: a == label))\n",
    "        Yss[label] = np.array(all_inds)[sample_inds]\n",
    "    else:\n",
    "        Yss[label] = list(locate(y, lambda a: a == label))\n",
    "    print(label, len(Yss[label]))  \n",
    "    length = length + len(Yss[label])\n",
    "print('size of dataset:{}'.format(length))"
   ]
  },
  {
   "cell_type": "code",
   "execution_count": 5,
   "metadata": {},
   "outputs": [
    {
     "name": "stdout",
     "output_type": "stream",
     "text": [
      "(77084, 98) (77084,)\n"
     ]
    },
    {
     "name": "stderr",
     "output_type": "stream",
     "text": [
      "/usr/local/lib/python3.5/dist-packages/pandas/core/generic.py:5890: SettingWithCopyWarning: \n",
      "A value is trying to be set on a copy of a slice from a DataFrame\n",
      "\n",
      "See the caveats in the documentation: http://pandas.pydata.org/pandas-docs/stable/indexing.html#indexing-view-versus-copy\n",
      "  self._update_inplace(new_data)\n"
     ]
    }
   ],
   "source": [
    "#Recreating X and Y by subsampling the class with large records\n",
    "from itertools import chain\n",
    "inds = list(chain.from_iterable(Yss.values()))\n",
    "X=x[inds]\n",
    "cleanup_nums = {\"normal\":0, \"fragmentation\":1, \"arp\":2, \"probe_request\":3, \"chop_chop\":4, \"rts\":5, \"deauthentication\":6, \"amok\":7, \"beacon\":8, \"evil_twin\":9, \"cafe_latte\":10, \"cts\":11, \"hirte\":12, \"power_saving\":13, \"disassociation\":14, \"authentication_request\":15, \"probe_response\":16}\n",
    "y.replace(cleanup_nums,inplace=True)\n",
    "Y_all_attacks = y.values[inds]\n",
    "print (X.shape, Y_all_attacks.shape)"
   ]
  },
  {
   "cell_type": "code",
   "execution_count": 6,
   "metadata": {
    "scrolled": true
   },
   "outputs": [
    {
     "name": "stdout",
     "output_type": "stream",
     "text": [
      "Datasetset Formatting\n",
      "0\n",
      "1\n",
      "2\n",
      "3\n",
      "4\n",
      "5\n",
      "6\n",
      "7\n",
      "8\n",
      "9\n",
      "10\n",
      "11\n",
      "12\n",
      "13\n",
      "14\n",
      "15\n",
      "16\n",
      "17\n",
      "18\n",
      "19\n",
      "20\n",
      "21\n",
      "22\n",
      "23\n",
      "24\n",
      "25\n",
      "26\n",
      "27\n",
      "28\n",
      "29\n",
      "30\n",
      "31\n",
      "32\n",
      "33\n",
      "34\n",
      "35\n",
      "36\n",
      "37\n",
      "38\n",
      "39\n",
      "40\n",
      "41\n",
      "42\n",
      "43\n",
      "44\n",
      "45\n",
      "46\n",
      "47\n",
      "48\n",
      "49\n",
      "50\n",
      "51\n",
      "52\n",
      "53\n",
      "54\n",
      "55\n",
      "56\n",
      "57\n",
      "58\n",
      "59\n",
      "60\n",
      "61\n",
      "62\n",
      "63\n",
      "64\n",
      "65\n",
      "66\n",
      "67\n",
      "68\n",
      "69\n",
      "70\n",
      "71\n",
      "72\n",
      "73\n",
      "74\n",
      "75\n",
      "76\n",
      "77\n",
      "78\n",
      "79\n",
      "80\n",
      "81\n",
      "82\n",
      "83\n",
      "84\n",
      "85\n",
      "86\n",
      "87\n",
      "88\n",
      "89\n",
      "90\n",
      "91\n",
      "92\n",
      "93\n",
      "94\n",
      "95\n",
      "96\n",
      "97\n"
     ]
    }
   ],
   "source": [
    "print(\"Datasetset Formatting\")\n",
    "\n",
    "for j in range(0,X.shape[1]):\n",
    "    maximum = max([float(k) for k in X[:,j]]) if  max([float(k) for k in X[:,j]]) != 0 else 1\n",
    "    print(j)\n",
    "    for i in range(0,len(X)):\n",
    "        X[i,j] = round(float(X[i,j])/maximum,3)"
   ]
  },
  {
   "cell_type": "code",
   "execution_count": 7,
   "metadata": {},
   "outputs": [
    {
     "name": "stdout",
     "output_type": "stream",
     "text": [
      "(51646, 98) (51646,)\n",
      "(25438, 98) (25438,)\n"
     ]
    }
   ],
   "source": [
    "from sklearn.model_selection import train_test_split\n",
    "X_train, X_test, Y_train_all_attacks, Y_test_all_attacks = train_test_split(X, Y_all_attacks, test_size=0.33)\n",
    "print (X_train.shape, Y_train_all_attacks.shape)\n",
    "print(X_test.shape, Y_test_all_attacks.shape)"
   ]
  },
  {
   "cell_type": "code",
   "execution_count": 8,
   "metadata": {},
   "outputs": [],
   "source": [
    "import pickle\n",
    "with open('AWID.pickle', 'wb') as f:\n",
    "    pickle.dump(X_train, f)\n",
    "    pickle.dump(X_test, f)\n",
    "    pickle.dump(Y_train_all_attacks, f)\n",
    "    pickle.dump(Y_test_all_attacks, f)"
   ]
  },
  {
   "cell_type": "code",
   "execution_count": 8,
   "metadata": {
    "scrolled": true
   },
   "outputs": [
    {
     "name": "stdout",
     "output_type": "stream",
     "text": [
      "WARNING:tensorflow:From <ipython-input-8-5276d392872d>:1: read_data_sets (from tensorflow.contrib.learn.python.learn.datasets.mnist) is deprecated and will be removed in a future version.\n",
      "Instructions for updating:\n",
      "Please use alternatives such as official/mnist/dataset.py from tensorflow/models.\n",
      "WARNING:tensorflow:From /usr/local/lib/python3.5/dist-packages/tensorflow/contrib/learn/python/learn/datasets/mnist.py:260: maybe_download (from tensorflow.contrib.learn.python.learn.datasets.base) is deprecated and will be removed in a future version.\n",
      "Instructions for updating:\n",
      "Please write your own downloading logic.\n",
      "WARNING:tensorflow:From /usr/local/lib/python3.5/dist-packages/tensorflow/contrib/learn/python/learn/datasets/mnist.py:262: extract_images (from tensorflow.contrib.learn.python.learn.datasets.mnist) is deprecated and will be removed in a future version.\n",
      "Instructions for updating:\n",
      "Please use tf.data to implement this functionality.\n",
      "Extracting MNIST_data/train-images-idx3-ubyte.gz\n",
      "WARNING:tensorflow:From /usr/local/lib/python3.5/dist-packages/tensorflow/contrib/learn/python/learn/datasets/mnist.py:267: extract_labels (from tensorflow.contrib.learn.python.learn.datasets.mnist) is deprecated and will be removed in a future version.\n",
      "Instructions for updating:\n",
      "Please use tf.data to implement this functionality.\n",
      "Extracting MNIST_data/train-labels-idx1-ubyte.gz\n",
      "WARNING:tensorflow:From /usr/local/lib/python3.5/dist-packages/tensorflow/contrib/learn/python/learn/datasets/mnist.py:110: dense_to_one_hot (from tensorflow.contrib.learn.python.learn.datasets.mnist) is deprecated and will be removed in a future version.\n",
      "Instructions for updating:\n",
      "Please use tf.one_hot on tensors.\n",
      "Extracting MNIST_data/t10k-images-idx3-ubyte.gz\n",
      "Extracting MNIST_data/t10k-labels-idx1-ubyte.gz\n",
      "WARNING:tensorflow:From /usr/local/lib/python3.5/dist-packages/tensorflow/contrib/learn/python/learn/datasets/mnist.py:290: DataSet.__init__ (from tensorflow.contrib.learn.python.learn.datasets.mnist) is deprecated and will be removed in a future version.\n",
      "Instructions for updating:\n",
      "Please use alternatives such as official/mnist/dataset.py from tensorflow/models.\n"
     ]
    }
   ],
   "source": [
    "mnist = input_data.read_data_sets('MNIST_data', one_hot=True)\n",
    "sess = tf.InteractiveSession()\n",
    "\n",
    "# define input and target placeholders\n",
    "x = tf.placeholder(tf.float32, shape=[None, 98])\n",
    "y_ = tf.placeholder(tf.float32, shape=[None, 17])\n",
    "task_cl_lab = tf.placeholder(tf.int32, shape=[2])"
   ]
  },
  {
   "cell_type": "code",
   "execution_count": 9,
   "metadata": {},
   "outputs": [
    {
     "name": "stdout",
     "output_type": "stream",
     "text": [
      "(51646, 98) (25438, 98) (51646,) (25438,)\n",
      "Task 0 size: Trainset - (2383, 98), (2383, 17), Testset - (1201, 98), (1201, 17)\n",
      "Task 1 size: Trainset - (6918, 98), (6918, 17), Testset - (3451, 98), (3451, 17)\n",
      "Task 2 size: Trainset - (2085, 98), (2085, 17), Testset - (985, 98), (985, 17)\n",
      "Task 3 size: Trainset - (13455, 98), (13455, 17), Testset - (6545, 98), (6545, 17)\n",
      "Task 4 size: Trainset - (3799, 98), (3799, 17), Testset - (1843, 98), (1843, 17)\n",
      "Task 5 size: Trainset - (7882, 98), (7882, 17), Testset - (3877, 98), (3877, 17)\n",
      "Task 6 size: Trainset - (6802, 98), (6802, 17), Testset - (3363, 98), (3363, 17)\n",
      "Task 7 size: Trainset - (7267, 98), (7267, 17), Testset - (3670, 98), (3670, 17)\n",
      "Task 8 size: Trainset - (7677, 98), (7677, 17), Testset - (3881, 98), (3881, 17)\n"
     ]
    },
    {
     "name": "stderr",
     "output_type": "stream",
     "text": [
      "Using TensorFlow backend.\n"
     ]
    }
   ],
   "source": [
    "print(X_train.shape, X_test.shape, Y_train_all_attacks.shape, Y_test_all_attacks.shape)\n",
    "\n",
    "from keras.utils import np_utils\n",
    "\n",
    "#task_labels = [[0,1], [2,3], [4,5], [6,7], [8,9],[1,5],[7,9],[3,8],[0,6],[4,2]]\n",
    "#task_labels = [[4,2], [0,6], [3,8], [9,7], [1,5],[8,9],[6,7],[5,5],[3,2],[0,1]]\n",
    "task_labels = [[14,15],[2,3],[4,5],[6,7],[8,9],[10,11],[12,13],[0,1],[16,0]]\n",
    "#task_labels = [[0,9], [7,8], [3,6], [1,4], [2,5]]\n",
    "#task_labels = [[4,5,6], [1,2,3], [7,8,9], [10,11,12], [13,14,15]]\n",
    "n_tasks = len(task_labels)\n",
    "nb_classes  = 17\n",
    "training_datasets = []\n",
    "validation_datasets = []\n",
    "multihead=False\n",
    "\n",
    "for labels in task_labels:\n",
    "    idx = np.in1d(Y_train_all_attacks, labels)\n",
    "    if multihead:\n",
    "        label_map = np.arange(nb_classes)\n",
    "        label_map[labels] = np.arange(len(labels))\n",
    "        data = X_train[idx], np_utils.to_categorical(label_map[Y_train_all_attacks[idx]], len(labels))\n",
    "    else:\n",
    "        data = X_train[idx], np_utils.to_categorical(Y_train_all_attacks[idx], nb_classes)\n",
    "        training_datasets.append(data)\n",
    "\n",
    "for labels in task_labels:\n",
    "    idx = np.in1d(Y_test_all_attacks, labels)\n",
    "    if multihead:\n",
    "        label_map = np.arange(nb_classes)\n",
    "        label_map[labels] = np.arange(len(labels))\n",
    "        data = X_test[idx], np_utils.to_categorical(label_map[Y_test_all_attacks[idx]], len(labels))\n",
    "    else:\n",
    "        data = X_test[idx], np_utils.to_categorical(Y_test_all_attacks[idx], nb_classes)\n",
    "        validation_datasets.append(data)\n",
    "        \n",
    "tasks_train={}; labels_train = {}; tasks_test = {}; labels_test = {}\n",
    "\n",
    "for i in range(len(task_labels)):\n",
    "    tasks_train[str(i)] = training_datasets[i][0]\n",
    "    labels_train[str(i)] = training_datasets[i][1]\n",
    "    tasks_test[str(i)] = validation_datasets[i][0]\n",
    "    labels_test[str(i)] = validation_datasets[i][1]\n",
    "    print('Task {0} size: Trainset - {1}, {2}, Testset - {3}, {4}'.format(i,tasks_train[str(i)].shape, labels_train[str(i)].shape, tasks_test[str(i)].shape, labels_test[str(i)].shape))"
   ]
  },
  {
   "cell_type": "code",
   "execution_count": 10,
   "metadata": {},
   "outputs": [],
   "source": [
    "def mnist_imshow(img):\n",
    "    plt.imshow(img.reshape([28, 28]), cmap='gray')\n",
    "    plt.axis('off')\n",
    "\n",
    "# return a new mnist dataset w/ pixels randomly permuted\n",
    "def permute_mnist(mnist):\n",
    "    perm_inds = list(range(mnist.train.images.shape[1]))\n",
    "#     print (range(mnist.train.images.shape[1]))\n",
    "    np.random.shuffle(perm_inds)\n",
    "    mnist2 = deepcopy(mnist)\n",
    "    sets = [\"train\", \"validation\", \"test\"]\n",
    "    for set_name in sets:\n",
    "        this_set = getattr(mnist2, set_name) # shallow copy\n",
    "#         print (np.array([this_set.images[:,i] for i in [1,2,3,4]]).shape)\n",
    "        #dafaq is with ._images, where did this shit come from, but okay moving on with lyf \n",
    "        this_set._images = np.transpose(np.array([this_set.images[:,c] for c in perm_inds]))\n",
    "    return mnist2\n",
    "\n",
    "def plot_test_acc(plot_handles, first_task):\n",
    "    #plt.legend(handles=plot_handles, loc=\"center right\")\n",
    "    if first_task == 0:\n",
    "        plt.legend(handles=plot_handles, loc='upper right',prop={'size': 10}, bbox_to_anchor=(1.05, -0.25), ncol=3)\n",
    "    plt.xlabel(\"Iterations\")\n",
    "    plt.ylabel(\"Test Accuracy\")\n",
    "    plt.ylim(0, 1.1)\n",
    "    display.display(plt.gcf())\n",
    "    display.clear_output(wait=True)\n",
    "\n",
    "#manupulated the validation code: validation task by task        \n",
    "def split_padded(a,n):\n",
    "    padding = (-len(a))%n\n",
    "    return np.split(np.concatenate((a,np.zeros(padding))),n)\n",
    "\n",
    "def train_model(model, train_set, test_sets, num_iters=1000, disp_freq=50, lams=[0]):\n",
    "    Fisher_inf_history=[]\n",
    "    Linear_Fisher_history=[]\n",
    "    Params = []\n",
    "    Parm_grads = []\n",
    "    loss_save = []\n",
    "    surrogate_loss_save = []\n",
    "    for l in range(len(lams)):\n",
    "        '''\n",
    "        if lams[l] == 0:\n",
    "            model.vanilla_loss()\n",
    "        else:\n",
    "            model.set_ewc_loss(lams[l])\n",
    "        '''\n",
    "        model.vanilla_loss()\n",
    "        \n",
    "        test_accs = []\n",
    "        for i in range(len(tasks_test)):\n",
    "            test_accs.append(np.zeros(int(num_iters / disp_freq)))\n",
    "        \n",
    "        save_accs = {}\n",
    "        for continual_task in range(len(task_labels)):\n",
    "            for task in range(len(tasks_test)):\n",
    "                save_accs[str(continual_task)+str(task)] = []\n",
    "            \n",
    "        colors = ['r', 'b', 'g', 'y','k', 'm', 'c', 'r.', 'g.', 'b.']\n",
    "        for continual_task in range(len(task_labels)):\n",
    "            model.restore(sess)\n",
    "            #train_batch = train_set.train.next_batch(100)\n",
    "            #feed_dict = {x: train_batch[0], y_: train_batch[1]}  \n",
    "            sample_inds = np.arange(len(tasks_train[str(continual_task)]))\n",
    "            #batch_ids = split_padded(sample_inds,num_iters)  #Equal sized minibatches run for 1 iteration.\n",
    "            batch_ids = [sample_inds] * num_iters #All samples fed and run for num_iters iterations.\n",
    "            for it in range(num_iters-1):\n",
    "                x_minibatches = tasks_train[str(continual_task)][batch_ids[it].astype(int),:]\n",
    "                y_minibatches = labels_train[str(continual_task)][batch_ids[it].astype(int),:]\n",
    "                \n",
    "                feed_dict={x:x_minibatches, y_:y_minibatches, task_cl_lab:task_labels[continual_task]}\n",
    "                model.train_step.run(feed_dict=feed_dict)\n",
    "                \n",
    "            \n",
    "                if it%disp_freq == 0:\n",
    "                    plt.subplot(1, len(task_labels), continual_task+1)\n",
    "                    plots = []\n",
    "\n",
    "                    for task in range(len(tasks_test)):\n",
    "                        index = int(it/disp_freq)\n",
    "                        #feed_dict = {x: test_sets[task].test.images, y_:test_sets[task].test.labels}\n",
    "                        feed_dict = {x:tasks_test[str(task)], y_:labels_test[str(task)], task_cl_lab:task_labels[task]}\n",
    "                        computed_acc = model.accuracy.eval(feed_dict=feed_dict)\n",
    "                        test_accs[task][index] = computed_acc\n",
    "                        save_accs[str(continual_task)+str(task)].append(computed_acc)\n",
    "                        task_char = chr(ord('A') +task)\n",
    "                        plot_h, = plt.plot(range(1, it+2, disp_freq), test_accs[task][:index+1], colors[task], label = \"Task\" + task_char)\n",
    "                        plots.append(plot_h)\n",
    "                        \n",
    "                    plot_test_acc(plots, continual_task)\n",
    "\n",
    "                    if lams[l] == 0:\n",
    "                        plt.title(\"Vanilla SGD\")\n",
    "                    else:\n",
    "                        task_countr = chr(ord('A')+continual_task)\n",
    "                        plt.title(\"EWC: Task-\"+task_countr)\n",
    "\n",
    "                    plt.gcf().set_size_inches(15, 3.5)\n",
    "                    plt.subplots_adjust(wspace = 0.4)\n",
    "                    \n",
    "                    if test_accs[continual_task][index] > 0.95: #Prevent model from overfitting. if accuracy is more than 90%, no need to further train.\n",
    "                        break\n",
    "                    \n",
    "            \n",
    "            model.task = task_labels[continual_task]\n",
    "            loss_save.append(model.cross_entropy.eval(feed_dict={x:x_minibatches, y_:y_minibatches, task_cl_lab:task_labels[continual_task]}))\n",
    "            parm_grads = sess.run(model.parm_grads, feed_dict={x: tasks_train[str(continual_task)], y_:labels_train[str(continual_task)], task_cl_lab:task_labels[continual_task]})\n",
    "            Parm_grads.append(parm_grads)\n",
    "            if lams[l] != 0:\n",
    "                fisher_inf,linear_fisher,params = model.compute_fisher(tasks_test[str(continual_task)], sess, num_samples=100, plot_diffs=False)                \n",
    "                Fisher_inf_history.append(fisher_inf)\n",
    "                Linear_Fisher_history.append(linear_fisher)\n",
    "                Params.append(params)\n",
    "                #if continual_task == 0:\n",
    "                model.star()\n",
    "                model.set_ewc_loss(lams[l])\n",
    "                model.task = task_labels[continual_task]\n",
    "                surrogate_loss_save.append(model.ewc_loss.eval(feed_dict={x:x_minibatches, y_:y_minibatches, task_cl_lab:task_labels[continual_task]}))\n",
    "    surrogate_loss_save[0] = 0\n",
    "    return(Fisher_inf_history, Linear_Fisher_history,Params,Parm_grads,save_accs,loss_save,surrogate_loss_save)"
   ]
  },
  {
   "cell_type": "code",
   "execution_count": 11,
   "metadata": {
    "scrolled": true
   },
   "outputs": [
    {
     "name": "stdout",
     "output_type": "stream",
     "text": [
      "WARNING:tensorflow:From /usr/local/lib/python3.5/dist-packages/tensorflow/python/framework/op_def_library.py:263: colocate_with (from tensorflow.python.framework.ops) is deprecated and will be removed in a future version.\n",
      "Instructions for updating:\n",
      "Colocations handled automatically by placer.\n"
     ]
    }
   ],
   "source": [
    "# instantiate new model\n",
    "model = Model(x, y_, task_cl_lab) # simple 2-layer network\n",
    "sess.run(tf.global_variables_initializer())"
   ]
  },
  {
   "cell_type": "code",
   "execution_count": 12,
   "metadata": {
    "scrolled": true
   },
   "outputs": [
    {
     "data": {
      "image/png": "[encoded data removed]",
      "text/plain": [
       "<Figure size 1080x252 with 9 Axes>"
      ]
     },
     "metadata": {},
     "output_type": "display_data"
    }
   ],
   "source": [
    "mnist2 = permute_mnist(mnist) # get second mnist\n",
    "Fisher_inf_history,Linear_Fisher_history,Params,Parm_grads,save_accs,loss_after_task,surrogate_loss_after_task = train_model(model, mnist2, [mnist, mnist2], 20, 2, [5]) # train on task-B "
   ]
  },
  {
   "cell_type": "code",
   "execution_count": 18,
   "metadata": {},
   "outputs": [
    {
     "data": {
      "image/png": "[encoded data removed]",
      "text/plain": [
       "<Figure size 288x324 with 1 Axes>"
      ]
     },
     "metadata": {},
     "output_type": "display_data"
    }
   ],
   "source": [
    "from matplotlib import *\n",
    "import sys\n",
    "from pylab import *\n",
    "import matplotlib.colors as colors\n",
    "import matplotlib.cm as cmx\n",
    "import seaborn as sns\n",
    "sns.set_style(\"ticks\")\n",
    "os.chdir('/root/Elastic-Weight-Consolidation-task-continual/AWID-EWC/')\n",
    "plot_array=np.zeros((len(tasks_test),len(tasks_test)))\n",
    "for continual_task in range(len(task_labels)):\n",
    "    for task in range(len(tasks_test)):\n",
    "        plot_array[continual_task][task] = save_accs[str(continual_task)+str(task)][-1]\n",
    "        \n",
    "#print(plot_array)\n",
    "'''\n",
    "plot_array = np.array(array([[0.9738676 , 0.        , 0.        , 0.        , 0.        ,\n",
    "        0.        , 0.        , 0.        , 0.        ],\n",
    "       [0.88327527, 0.95289963, 0.        , 0.        , 0.        ,\n",
    "        0.        , 0.        , 0.        , 0.        ],\n",
    "       [0.45        , 0.62        , 0.92441267, 0.        , 0.        ,\n",
    "        0.        , 0.        , 0.        , 0.        ],\n",
    "       [0.        , 0.9699735 , 0.        , 0.        , 0.        ,\n",
    "        0.        , 0.        , 0.        , 0.        ],\n",
    "       [0.        , 0.        , 0.        , 0.        , 0.        ,\n",
    "        0.        , 0.        , 0.91150683, 0.86798853],\n",
    "       [0.        , 0.        , 0.        , 0.        , 0.        ,\n",
    "        0.        , 0.        , 0.91150683, 0.86798853],\n",
    "       [0.        , 0.        , 0.        , 0.        , 0.        ,\n",
    "        0.        , 0.        , 0.91150683, 0.86798853],\n",
    "       [0.        , 0.        , 0.        , 0.        , 0.        ,\n",
    "        0.        , 0.        , 0.91150683, 0.86798853],\n",
    "       [0.        , 0.        , 0.        , 0.        , 0.        ,\n",
    "        0.        , 0.        , 0.91150683, 0.86798853]]))\n",
    "'''\n",
    "figure(figsize=(4, 4.5))\n",
    "axs = [subplot(1,1,1)]#, None, None]\n",
    "fontsize = 13\n",
    "\n",
    "colorVal = ['r','g','b','c','m','k','y','tomato','m','c']\n",
    "marker=[\"v\",\"^\",\"<\",\">\",\"*\",\"s\",\"h\",\"x\",\".\",\"+\"]\n",
    "\n",
    "mean_stuff=[]\n",
    "for i in range(len(plot_array)):\n",
    "    mean_stuff.append(plot_array[i][:i+1].mean())\n",
    "    \n",
    "\n",
    "for j in range(len(tasks_test)):\n",
    "    label = \"$\\mathcal{T}$=%g\"%(j+1)\n",
    "    axs[0].plot(range(1,len(tasks_test)+1), plot_array[:, j], marker=marker[j], c=colorVal[j], label=label)\n",
    "axs[0].plot(range(1,len(tasks_test)+1), mean_stuff, marker=marker[j+1], c=colorVal[j+1], label='Average')\n",
    "axs[0].legend(loc='upper right',prop={'size': fontsize}, bbox_to_anchor=(1.05, -0.25), ncol=3)\n",
    "axs[0].set_xlabel(\"Trained tasks($\\mathcal{T}$).\",fontsize=fontsize)\n",
    "axs[0].set_ylabel('Accuracy(x100%).',fontsize=fontsize)\n",
    "axs[0].set_xticks(range(1,len(tasks_test)+1))\n",
    "axs[0].set_yticks([0, 0.2, 0.4, 0.6, 0.8, 1.0])\n",
    "axs[0].tick_params(labelsize='large', width=3)\n",
    "axs[0].set_title('EWC for UNSW dataset', fontsize=fontsize)\n",
    "\n",
    "gcf().tight_layout()\n",
    "sns.despine()\n",
    "plt.savefig('AWID_EWC.pdf')"
   ]
  },
  {
   "cell_type": "code",
   "execution_count": 19,
   "metadata": {},
   "outputs": [
    {
     "name": "stdout",
     "output_type": "stream",
     "text": [
      "Fisher (parameter importance value) profile change\n",
      "Task 0. # of non-zero diagonal elements = 257. Total diagonal elements = 2337\n",
      "Task 1. # of non-zero diagonal elements = 267. Total diagonal elements = 2337\n",
      "Task 2. # of non-zero diagonal elements = 17. Total diagonal elements = 2337\n",
      "Task 3. # of non-zero diagonal elements = 2337. Total diagonal elements = 2337\n",
      "Task 4. # of non-zero diagonal elements = 2337. Total diagonal elements = 2337\n",
      "Task 5. # of non-zero diagonal elements = 2337. Total diagonal elements = 2337\n",
      "Task 6. # of non-zero diagonal elements = 2337. Total diagonal elements = 2337\n",
      "Task 7. # of non-zero diagonal elements = 2337. Total diagonal elements = 2337\n",
      "Task 8. # of non-zero diagonal elements = 2337. Total diagonal elements = 2337\n"
     ]
    }
   ],
   "source": [
    "#Inspection of behavior of importance parameter Fisher after every task \n",
    "print('Fisher (parameter importance value) profile change')\n",
    "from numpy import count_nonzero\n",
    "old_diag_fisher_list = [0] * len(Linear_Fisher_history[0])\n",
    "def flat_list(fisher_inf):\n",
    "    def flatten(x):\n",
    "        try:\n",
    "            it = iter(x)\n",
    "        except TypeError:\n",
    "            yield x\n",
    "        else:\n",
    "            for i in it:\n",
    "                for j in flatten(i):\n",
    "                    yield j\n",
    "\n",
    "    diag_fisher_list = []               \n",
    "    for i in range(len(fisher_inf)):\n",
    "        diag_fisher_list.append(list(flatten(fisher_inf[i]))) \n",
    "    diag_fisher_list = list(flatten(diag_fisher_list))\n",
    "    return diag_fisher_list\n",
    "\n",
    "non_zero_imp_param = [] \n",
    "for j in range(len(Fisher_inf_history)):\n",
    "    diag_fisher_list = flat_list(Fisher_inf_history[j])\n",
    "    non_zero_count = count_nonzero(diag_fisher_list)\n",
    "    non_zero_imp_param.append(non_zero_count)\n",
    "    print('Task {0}. # of non-zero diagonal elements = {1}. Total diagonal elements = {2}'.format(j,non_zero_count, len(diag_fisher_list)))"
   ]
  },
  {
   "cell_type": "code",
   "execution_count": 20,
   "metadata": {},
   "outputs": [
    {
     "name": "stdout",
     "output_type": "stream",
     "text": [
      "For task:0\n",
      "Gradients. Mean = 307.0566101074219. Standard deviation = 2127.3896484375. Length = 2337\n",
      "---------------------------\n",
      "For task:1\n",
      "Gradients. Mean = 975.939208984375. Standard deviation = 5846.6767578125. Length = 2337\n",
      "---------------------------\n",
      "For task:2\n",
      "Gradients. Mean = 15.210526466369629. Standard deviation = 177.69032287597656. Length = 2337\n",
      "---------------------------\n",
      "For task:3\n",
      "Gradients. Mean = inf. Standard deviation = inf. Length = 2337\n",
      "---------------------------\n",
      "For task:4\n",
      "Gradients. Mean = nan. Standard deviation = nan. Length = 2337\n",
      "---------------------------\n",
      "For task:5\n",
      "Gradients. Mean = nan. Standard deviation = nan. Length = 2337\n",
      "---------------------------\n",
      "For task:6\n",
      "Gradients. Mean = nan. Standard deviation = nan. Length = 2337\n",
      "---------------------------\n",
      "For task:7\n",
      "Gradients. Mean = nan. Standard deviation = nan. Length = 2337\n",
      "---------------------------\n",
      "For task:8\n",
      "Gradients. Mean = nan. Standard deviation = nan. Length = 2337\n",
      "---------------------------\n"
     ]
    },
    {
     "name": "stderr",
     "output_type": "stream",
     "text": [
      "/usr/local/lib/python3.5/dist-packages/ipykernel_launcher.py:4: RuntimeWarning: overflow encountered in multiply\n",
      "  after removing the cwd from sys.path.\n",
      "/usr/local/lib/python3.5/dist-packages/numpy/core/_methods.py:195: RuntimeWarning: overflow encountered in multiply\n",
      "  x = um.multiply(x, x, out=x)\n"
     ]
    }
   ],
   "source": [
    "for i in range(len(Parm_grads)):\n",
    "    print('For task:{0}'.format(i))\n",
    "    pars = flat_list(Parm_grads[i]) \n",
    "    print('Gradients. Mean = {0}. Standard deviation = {1}. Length = {2}'.format(round(np.mean(pars),6),round(np.std(pars),6),len(pars)))\n",
    "    print('---------------------------')"
   ]
  },
  {
   "cell_type": "code",
   "execution_count": 21,
   "metadata": {},
   "outputs": [
    {
     "name": "stdout",
     "output_type": "stream",
     "text": [
      "For task:0\n",
      "Parameters. Mean = -0.0035860000643879175. Standard deviation = 0.08912300318479538. Length = 2337\n",
      "---------------------------\n",
      "For task:1\n",
      "Parameters. Mean = -0.0035719999577850103. Standard deviation = 0.08929000049829483. Length = 2337\n",
      "---------------------------\n",
      "For task:2\n",
      "Parameters. Mean = 74244251648.0. Standard deviation = 3581619994624.0. Length = 2337\n",
      "---------------------------\n",
      "For task:3\n",
      "Parameters. Mean = -3.870750406613955e+26. Standard deviation = inf. Length = 2337\n",
      "---------------------------\n",
      "For task:4\n",
      "Parameters. Mean = nan. Standard deviation = nan. Length = 2337\n",
      "---------------------------\n",
      "For task:5\n",
      "Parameters. Mean = nan. Standard deviation = nan. Length = 2337\n",
      "---------------------------\n",
      "For task:6\n",
      "Parameters. Mean = nan. Standard deviation = nan. Length = 2337\n",
      "---------------------------\n",
      "For task:7\n",
      "Parameters. Mean = nan. Standard deviation = nan. Length = 2337\n",
      "---------------------------\n",
      "For task:8\n",
      "Parameters. Mean = nan. Standard deviation = nan. Length = 2337\n",
      "---------------------------\n"
     ]
    },
    {
     "name": "stderr",
     "output_type": "stream",
     "text": [
      "/usr/local/lib/python3.5/dist-packages/numpy/core/_methods.py:195: RuntimeWarning: overflow encountered in multiply\n",
      "  x = um.multiply(x, x, out=x)\n"
     ]
    }
   ],
   "source": [
    "for i in range(len(Params)):\n",
    "    print('For task:{0}'.format(i))\n",
    "    pars = flat_list(Params[i]) \n",
    "    print('Parameters. Mean = {0}. Standard deviation = {1}. Length = {2}'.format(round(np.mean(pars),6),round(np.std(pars),6),len(pars)))\n",
    "    print('---------------------------')"
   ]
  },
  {
   "cell_type": "code",
   "execution_count": 22,
   "metadata": {},
   "outputs": [
    {
     "name": "stdout",
     "output_type": "stream",
     "text": [
      "Loss after task 0 is 0.16342690587043762\n",
      "Loss after task 1 is 0.22365336120128632\n",
      "Loss after task 2 is 0.5823453068733215\n",
      "Loss after task 3 is nan\n",
      "Loss after task 4 is nan\n",
      "Loss after task 5 is nan\n",
      "Loss after task 6 is nan\n",
      "Loss after task 7 is nan\n",
      "Loss after task 8 is nan\n",
      "*----------------------------*\n",
      "Surrogate loss after task 0 is 0\n",
      "Surrogate loss after task 1 is 0.8046645522117615\n",
      "Surrogate loss after task 2 is 1.1559822733861536e+30\n",
      "Surrogate loss after task 3 is nan\n",
      "Surrogate loss after task 4 is nan\n",
      "Surrogate loss after task 5 is nan\n",
      "Surrogate loss after task 6 is nan\n",
      "Surrogate loss after task 7 is nan\n",
      "Surrogate loss after task 8 is nan\n",
      "*----------------------------*\n"
     ]
    }
   ],
   "source": [
    "#Inspection of losses after every task \n",
    "for i,loss in enumerate(loss_after_task):\n",
    "    print('Loss after task {0} is {1}'.format(i,loss_after_task[i])) \n",
    "print('*----------------------------*')\n",
    "\n",
    "#Inspection of surrogate loss or regularization (sum(Fisher x (theta'-theta))) after every task \n",
    "for i,loss in enumerate(surrogate_loss_after_task):\n",
    "    print('Surrogate loss after task {0} is {1}'.format(i,surrogate_loss_after_task[i])) \n",
    "print('*----------------------------*')"
   ]
  },
  {
   "cell_type": "code",
   "execution_count": 23,
   "metadata": {},
   "outputs": [
    {
     "name": "stdout",
     "output_type": "stream",
     "text": [
      "Calculating Hessian matrix for task: 0\n",
      "Calculating Hessian matrix for task: 1\n",
      "Calculating Hessian matrix for task: 2\n",
      "Calculating Hessian matrix for task: 3\n",
      "Calculating Hessian matrix for task: 4\n",
      "Rank of the Hessian Matrix after task= 4 is : 76\n",
      "Rank of the Hessian Matrix after task= 4 is : 101\n",
      "Rank of the Hessian Matrix after task= 4 is : 101\n",
      "Rank of the Hessian Matrix after task= 4 is : 1\n"
     ]
    }
   ],
   "source": [
    "#Creating the Hessian matrix from the gradients\n",
    "import math\n",
    "Hessian_matrix = []\n",
    "Hessian_row = []\n",
    "per_task_Hessian = []\n",
    "try:\n",
    "    for k in range(len(Parm_grads)):\n",
    "        curr_task_grads = flat_list(Parm_grads[k])\n",
    "        print('Calculating Hessian matrix for task:',k)\n",
    "        for i in range(len(curr_task_grads)):\n",
    "            partial_deriv_1 = (math.ceil(curr_task_grads[i]*1e10)/1e10)\n",
    "            for j in range(len(curr_task_grads)):\n",
    "                partial_deriv_2 = (math.ceil(curr_task_grads[j]*1e10)/1e10)\n",
    "                Hessian_row.append(np.around(partial_deriv_1*partial_deriv_2))\n",
    "            Hessian_matrix.append(Hessian_row)\n",
    "            Hessian_row = []\n",
    "\n",
    "        per_task_Hessian.append(np.asarray(Hessian_matrix))\n",
    "except:\n",
    "    pass\n",
    "#Calculating rank by counting non-zero diagonal elements\n",
    "Rank_Hessian_matrix=[]\n",
    "for i in range(len(per_task_Hessian)):\n",
    "    rank_Hessian_matrix = np.linalg.matrix_rank(per_task_Hessian[i])\n",
    "    Rank_Hessian_matrix.append(rank_Hessian_matrix)\n",
    "    print('Rank of the Hessian Matrix after task=',k,'is :',rank_Hessian_matrix)"
   ]
  },
  {
   "cell_type": "code",
   "execution_count": 47,
   "metadata": {},
   "outputs": [
    {
     "name": "stderr",
     "output_type": "stream",
     "text": [
      "/usr/local/lib/python3.5/dist-packages/matplotlib/tight_layout.py:330: UserWarning: tight_layout not applied: number of rows in subplot specifications mustbe multiples of one another.\n",
      "  warnings.warn('tight_layout not applied: '\n"
     ]
    },
    {
     "data": {
      "image/png": "[encoded data removed]",
      "text/plain": [
       "<Figure size 216x720 with 4 Axes>"
      ]
     },
     "metadata": {},
     "output_type": "display_data"
    }
   ],
   "source": [
    "import pdb\n",
    "figure(figsize=(3, 10))\n",
    "axs = [subplot(5,1,1)]#, None, None]\n",
    "for i in range(1, 4):\n",
    "    axs.append(subplot(4, 1, i+1, sharex=axs[0]))\n",
    "fontsize = 13\n",
    "\n",
    "colorVal = ['r','g','b','c','m','k','y']\n",
    "marker=[\"v\",\"^\",\"<\",\">\",\"*\",\"s\"]\n",
    "\n",
    "plots = [non_zero_imp_param,loss_after_task,surrogate_loss_after_task,Rank_Hessian_matrix]\n",
    "ylabel = ['# of non-zero Fisher $[n(F)]$', 'Task loss ($L_{\\mu+1}$)', 'Surrogate loss ($L_{\\mathcal{T} \\leq \\mu}$)','Hessian rank R(H)']\n",
    "ytick = [[0, 500, 1000, 1500, 2000, 2500], [0, 1, 2, 3], [0, 1, 2, 3], [0, 500, 1000, 1500, 2000, 2500]]\n",
    "title = ['Number of non-zero importance.', 'Loss', 'Surrogate loss', 'Hessian rank R(H)']\n",
    "for i in range(4):\n",
    "    axs[i].plot(range(1,n_tasks+1), plots[i], marker=marker[i], c=colorVal[i])\n",
    "    axs[i].set_ylabel(ylabel[i],fontsize=fontsize)\n",
    "    axs[i].set_yticks(ytick[i])\n",
    "    axs[i].tick_params(labelsize='large', width=3)\n",
    "    axs[i].grid()\n",
    "axs[-1].set_xticks(range(1,n_tasks+1))\n",
    "axs[-1].set_xlabel(\"Trained tasks($\\mathcal{T}$).\",fontsize=fontsize)\n",
    "axs[1].text(4, 1.2, 'loss \\n = infinite', fontsize=fontsize)\n",
    "axs[2].text(3, 1.3, 'surrogate \\n loss = infinite', fontsize=fontsize)\n",
    "plt.tight_layout()\n",
    "sns.despine()\n",
    "plt.savefig('AWID_EWC_evalcongestion.pdf',bbox_inches = \"tight\")"
   ]
  },
  {
   "cell_type": "code",
   "execution_count": 50,
   "metadata": {},
   "outputs": [
    {
     "name": "stdout",
     "output_type": "stream",
     "text": [
      "--------------Euclidean distance--------------------\n",
      "Between task 0 and 1 : 0.3639833923680636\n",
      "Between task 1 and 2 : 173181784230024.7\n",
      "Between task 2 and 3 : 9.039193308387877e+29\n",
      "Between task 3 and 4 : nan\n",
      "Between task 4 and 5 : nan\n",
      "Between task 5 and 6 : nan\n",
      "Between task 6 and 7 : nan\n",
      "Between task 7 and 8 : nan\n",
      "--------------Cosine distance--------------------\n",
      "Between task 0 and 1 : 0.996\n",
      "Between task 1 and 2 : -0.024\n",
      "Between task 2 and 3 : nan\n",
      "Between task 3 and 4 : nan\n",
      "Between task 4 and 5 : nan\n",
      "Between task 5 and 6 : nan\n",
      "Between task 6 and 7 : nan\n",
      "Between task 7 and 8 : nan\n",
      "--------------Jaccard similarity--------------------\n",
      "Between task 0 and 1 : 0.858682634730539\n",
      "Between task 1 and 2 : 0.839825119236884\n",
      "Between task 2 and 3 : 0.8645108473188703\n"
     ]
    },
    {
     "name": "stderr",
     "output_type": "stream",
     "text": [
      "/usr/local/lib/python3.5/dist-packages/ipykernel_launcher.py:5: DeprecationWarning: Calling np.sum(generator) is deprecated, and in the future will give a different result. Use np.sum(np.fromiter(generator)) or the python sum builtin instead.\n",
      "  \"\"\"\n",
      "/usr/local/lib/python3.5/dist-packages/ipykernel_launcher.py:11: DeprecationWarning: Calling np.sum(generator) is deprecated, and in the future will give a different result. Use np.sum(np.fromiter(generator)) or the python sum builtin instead.\n",
      "  # This is added back by InteractiveShellApp.init_path()\n",
      "/usr/local/lib/python3.5/dist-packages/ipykernel_launcher.py:11: RuntimeWarning: overflow encountered in float_scalars\n",
      "  # This is added back by InteractiveShellApp.init_path()\n",
      "/usr/local/lib/python3.5/dist-packages/ipykernel_launcher.py:9: RuntimeWarning: overflow encountered in float_scalars\n",
      "  if __name__ == '__main__':\n",
      "/usr/local/lib/python3.5/dist-packages/ipykernel_launcher.py:13: RuntimeWarning: invalid value encountered in double_scalars\n",
      "  del sys.path[0]\n"
     ]
    },
    {
     "name": "stdout",
     "output_type": "stream",
     "text": [
      "Between task 3 and 4 : 0.0\n",
      "Between task 4 and 5 : 0.0\n",
      "Between task 5 and 6 : 0.0\n",
      "Between task 6 and 7 : 0.0\n",
      "Between task 7 and 8 : 0.0\n",
      "--------------Sequence Matcher--------------------\n",
      "Between task 0 and 1 : 0.9242618741976893\n",
      "Between task 1 and 2 : 0.9080017115960634\n",
      "Between task 2 and 3 : 0.9071459135643988\n",
      "Between task 3 and 4 : 0.0\n",
      "Between task 4 and 5 : 0.0\n",
      "Between task 5 and 6 : 0.0\n",
      "Between task 6 and 7 : 0.0\n",
      "Between task 7 and 8 : 0.0\n"
     ]
    },
    {
     "data": {
      "image/png": "[encoded data removed]",
      "text/plain": [
       "<Figure size 216x576 with 4 Axes>"
      ]
     },
     "metadata": {},
     "output_type": "display_data"
    }
   ],
   "source": [
    "#Heuristic metric: Weights Pattern after training each task\n",
    "from math import*\n",
    "#1. Euclidean distance\n",
    "def euclidean_distance(x,y):\n",
    "    return sqrt(sum(pow(a-b,2) for a, b in zip(x, y)))\n",
    "\n",
    "#2. Cosine Similarity\n",
    "def square_rooted(x):\n",
    "    return round(sqrt(sum([a*a for a in x])),3)\n",
    "def cosine_similarity(x,y):\n",
    "    numerator = sum(a*b for a,b in zip(x,y))\n",
    "    denominator = square_rooted(x)*square_rooted(y)\n",
    "    return round(numerator/float(denominator),3)\n",
    "\n",
    "#3. Jaccard similarity\n",
    "def jaccard_similarity(x,y):\n",
    "    intersection_cardinality = len(set.intersection(*[set(x), set(y)]))\n",
    "    union_cardinality = len(set.union(*[set(x), set(y)]))\n",
    "    return intersection_cardinality/float(union_cardinality)\n",
    "\n",
    "#4. Using SequenceMatcher    \n",
    "from difflib import SequenceMatcher\n",
    "\n",
    "Flatten_weights=[]\n",
    "#Flattening the weights into a list\n",
    "def flatten(x):\n",
    "    try:\n",
    "        it = iter(x)\n",
    "    except TypeError:\n",
    "        yield x\n",
    "    else:\n",
    "        for i in it:\n",
    "            for j in flatten(i):\n",
    "                yield j\n",
    "model_weights_save = Params                \n",
    "print(\"--------------Euclidean distance--------------------\")\n",
    "Eu_distance = []\n",
    "for i in range(1,n_tasks):\n",
    "    eu_dist = euclidean_distance(list(flatten(model_weights_save[i-1][-1210940:])),list(flatten(model_weights_save[i][-1210940:])))\n",
    "    Eu_distance.append(eu_dist)\n",
    "    print(\"Between task {0} and {1} : {2}\".format(i-1,i,eu_dist))\n",
    "\n",
    "print(\"--------------Cosine distance--------------------\")\n",
    "Cos_distance = []\n",
    "for i in range(1,n_tasks):\n",
    "    cos_dist = cosine_similarity(list(flatten(model_weights_save[i-1][-1210940:])),list(flatten(model_weights_save[i][-1210940:])))\n",
    "    Cos_distance.append(cos_dist)\n",
    "    print(\"Between task {0} and {1} : {2}\".format(i-1,i,cos_dist))\n",
    "    \n",
    "    \n",
    "print(\"--------------Jaccard similarity--------------------\")\n",
    "Jac_distance = []\n",
    "for i in range(1,n_tasks):\n",
    "    jac_dist = jaccard_similarity(list(flatten(model_weights_save[i-1][-1210940:])),list(flatten(model_weights_save[i][-1210940:])))\n",
    "    Jac_distance.append(jac_dist)\n",
    "    print(\"Between task {0} and {1} : {2}\".format(i-1,i,jac_dist))\n",
    "\n",
    "print(\"--------------Sequence Matcher--------------------\")\n",
    "Seq_matcher = []\n",
    "for i in range(1,n_tasks):\n",
    "    seq_matcher = SequenceMatcher(None,list(flatten(model_weights_save[i-1][-1210940:])),list(flatten(model_weights_save[i][-1210940:]))).ratio()\n",
    "    Seq_matcher.append(seq_matcher)\n",
    "    print(\"Between task {0} and {1} : {2}\".format(i-1,i,seq_matcher))\n",
    "    \n",
    "\n",
    "\n",
    "import pdb\n",
    "from matplotlib.pyplot import *\n",
    "import seaborn as sns\n",
    "figure(figsize=(3, 8))\n",
    "subplots_adjust(hspace=0.25,\n",
    "                    wspace=0.35)\n",
    "axs = [plt.subplot(4,1,1)]#, None, None]\n",
    "for i in range(1, 4):\n",
    "    axs.append(subplot(4, 1, i+1, sharex=axs[0]))\n",
    "fontsize = 13\n",
    "\n",
    "colorVal = ['r','g','b','c','m','k','y']\n",
    "marker=[\"v\",\"^\",\"<\",\">\",\"*\",\"s\"]\n",
    "\n",
    "Eu_distance[1] = np.nan; Eu_distance[2] = np.nan; Eu_distance[3] = np.nan; Eu_distance[4] = np.nan\n",
    "plots = [Eu_distance,Cos_distance,Jac_distance,Seq_matcher]\n",
    "ylabel = ['Distance value', 'Ratio value', 'Ratio value','Ratio value']\n",
    "ytick = [[0, 1, 2, 3, 4], [-1, -0.5, 0, 0.5, 1],[0, 0.4, 0.8, 1.2], [0, 0.4, 0.8, 1.2]]\n",
    "title = ['Euclidean Distance', 'Cosine Similarity', 'Jaccard Similarity', 'SequenceMatcher']\n",
    "for i in range(4):\n",
    "    axs[i].plot(range(2,n_tasks+1), plots[i], marker=marker[i], c=colorVal[i])\n",
    "    axs[i].set_ylabel(ylabel[i],fontsize=fontsize)\n",
    "    axs[i].set_yticks(ytick[i])\n",
    "    axs[i].tick_params(labelsize='large', width=3)\n",
    "    axs[i].grid()\n",
    "    axs[i].set_title(title[i])\n",
    "axs[0].set_yticklabels([0, 1, 2, 3, 'inf'])\n",
    "axs[0].text(2, 2, 'Euclidean \\n distance = infinite', fontsize=fontsize)\n",
    "axs[1].text(3.2, 0, 'Cosine \\n angle = infinite', fontsize=fontsize)\n",
    "axs[-1].set_xticks(range(2,n_tasks+1))\n",
    "axs[-1].set_xlabel(\"Trained tasks($\\mathcal{T}$).\",fontsize=fontsize)\n",
    "plt.tight_layout()\n",
    "sns.despine()\n",
    "plt.savefig('AWID_EWC_Similaritymetric.pdf',bbox_inches = \"tight\")"
   ]
  },
  {
   "cell_type": "code",
   "execution_count": 13,
   "metadata": {},
   "outputs": [
    {
     "name": "stdout",
     "output_type": "stream",
     "text": [
      "Euclidean distance between task 0 and 8 : nan\n",
      "Cosine angle between task 0 and 8 : nan\n",
      "Jaccard similarity between task 0 and 8 : 0.0\n",
      "Sequence angle between task 0 and 8 : 0.0\n"
     ]
    }
   ],
   "source": [
    "#Heuristic metric: Weights Pattern between task 0 and last task \n",
    "from math import*\n",
    "#1. Euclidean distance\n",
    "def euclidean_distance(x,y):\n",
    "    return sqrt(sum(pow(a-b,2) for a, b in zip(x, y)))\n",
    "\n",
    "#2. Cosine Similarity\n",
    "def square_rooted(x):\n",
    "    return round(sqrt(sum([a*a for a in x])),3)\n",
    "def cosine_similarity(x,y):\n",
    "    numerator = sum(a*b for a,b in zip(x,y))\n",
    "    denominator = square_rooted(x)*square_rooted(y)\n",
    "    return round(numerator/float(denominator),3)\n",
    "\n",
    "#3. Jaccard similarity\n",
    "def jaccard_similarity(x,y):\n",
    "    intersection_cardinality = len(set.intersection(*[set(x), set(y)]))\n",
    "    union_cardinality = len(set.union(*[set(x), set(y)]))\n",
    "    return intersection_cardinality/float(union_cardinality)\n",
    "\n",
    "#4. Using SequenceMatcher    \n",
    "from difflib import SequenceMatcher\n",
    "\n",
    "Flatten_weights=[]\n",
    "#Flattening the weights into a list\n",
    "def flatten(x):\n",
    "    try:\n",
    "        it = iter(x)\n",
    "    except TypeError:\n",
    "        yield x\n",
    "    else:\n",
    "        for i in it:\n",
    "            for j in flatten(i):\n",
    "                yield j\n",
    "model_weights_save = Params    \n",
    "n_tasks = len(model_weights_save)\n",
    "\n",
    "\n",
    "eu_dist = euclidean_distance(list(flatten(model_weights_save[0])),list(flatten(model_weights_save[-1])))\n",
    "print(\"Euclidean distance between task {0} and {1} : {2}\".format(0,len(model_weights_save)-1,eu_dist))\n",
    "\n",
    "cos_dist = cosine_similarity(list(flatten(model_weights_save[0])),list(flatten(model_weights_save[-1])))\n",
    "print(\"Cosine angle between task {0} and {1} : {2}\".format(0,len(model_weights_save)-1,cos_dist))\n",
    "\n",
    "jac_dist = jaccard_similarity(list(flatten(model_weights_save[0])),list(flatten(model_weights_save[-1])))\n",
    "print(\"Jaccard similarity between task {0} and {1} : {2}\".format(0,len(model_weights_save)-1,jac_dist))\n",
    "\n",
    "seq_matcher = SequenceMatcher(None,list(flatten(model_weights_save[0])),list(flatten(model_weights_save[-1]))).ratio()\n",
    "print(\"Sequence angle between task {0} and {1} : {2}\".format(0,len(model_weights_save)-1,seq_matcher))"
   ]
  },
  {
   "cell_type": "code",
   "execution_count": null,
   "metadata": {},
   "outputs": [],
   "source": []
  }
 ],
 "metadata": {
  "kernelspec": {
   "display_name": "Python 3",
   "language": "python",
   "name": "python3"
  },
  "language_info": {
   "codemirror_mode": {
    "name": "ipython",
    "version": 3
   },
   "file_extension": ".py",
   "mimetype": "text/x-python",
   "name": "python",
   "nbconvert_exporter": "python",
   "pygments_lexer": "ipython3",
   "version": "3.5.2"
  }
 },
 "nbformat": 4,
 "nbformat_minor": 1
}
